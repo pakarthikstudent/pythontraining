{
 "cells": [
  {
   "cell_type": "code",
   "execution_count": 1,
   "id": "b587f229-0190-4214-9b2c-83142cc2cc80",
   "metadata": {},
   "outputs": [
    {
     "name": "stdout",
     "output_type": "stream",
     "text": [
      "Hello\n"
     ]
    }
   ],
   "source": [
    "print(\"Hello\")"
   ]
  },
  {
   "cell_type": "code",
   "execution_count": 3,
   "id": "37d28976-3168-458f-bfb0-a1eeff514662",
   "metadata": {},
   "outputs": [],
   "source": [
    "myvar = 100"
   ]
  },
  {
   "cell_type": "code",
   "execution_count": 5,
   "id": "24a676ad-9c0c-430f-8002-25bac7d4c719",
   "metadata": {},
   "outputs": [
    {
     "name": "stdout",
     "output_type": "stream",
     "text": [
      "100\n"
     ]
    }
   ],
   "source": [
    "print(myvar)"
   ]
  },
  {
   "cell_type": "code",
   "execution_count": 7,
   "id": "5c917a56-d7f5-4990-86c9-b3507054391e",
   "metadata": {},
   "outputs": [],
   "source": [
    "class cname:\n",
    "    code=123\n",
    "    name='data1'"
   ]
  },
  {
   "cell_type": "code",
   "execution_count": 9,
   "id": "f184f2c6-dc5c-4341-a32b-466fef338abd",
   "metadata": {},
   "outputs": [
    {
     "name": "stdout",
     "output_type": "stream",
     "text": [
      "<class '__main__.cname'>\n"
     ]
    }
   ],
   "source": [
    "print(cname)"
   ]
  },
  {
   "cell_type": "code",
   "execution_count": 11,
   "id": "d5bfb436-9bc3-4981-a840-7be5e623f905",
   "metadata": {},
   "outputs": [
    {
     "name": "stdout",
     "output_type": "stream",
     "text": [
      "123 data1\n"
     ]
    }
   ],
   "source": [
    "print(cname.code,cname.name)"
   ]
  },
  {
   "cell_type": "code",
   "execution_count": 13,
   "id": "ff51d0e8-3d56-429d-aec7-f4ea3780b9c8",
   "metadata": {},
   "outputs": [],
   "source": [
    "cname.code=505 # we can modify an existing class attribute"
   ]
  },
  {
   "cell_type": "code",
   "execution_count": 15,
   "id": "1b2b8de1-bda8-4252-bf67-6279e51c0de0",
   "metadata": {},
   "outputs": [
    {
     "name": "stdout",
     "output_type": "stream",
     "text": [
      "505 data1\n"
     ]
    }
   ],
   "source": [
    "print(cname.code,cname.name)"
   ]
  },
  {
   "cell_type": "code",
   "execution_count": 17,
   "id": "8e85ce67-52d3-4a44-a56e-e98675a80ed4",
   "metadata": {},
   "outputs": [],
   "source": [
    "cname.IP=\"127.0.0.1\" # we can add new attribute - like dict add operation"
   ]
  },
  {
   "cell_type": "code",
   "execution_count": 19,
   "id": "eb8d03f0-41b1-4512-b2c9-59a02cb9ff92",
   "metadata": {},
   "outputs": [
    {
     "name": "stdout",
     "output_type": "stream",
     "text": [
      "127.0.0.1\n"
     ]
    }
   ],
   "source": [
    "print(cname.IP)"
   ]
  },
  {
   "cell_type": "code",
   "execution_count": 21,
   "id": "86ccd5a4-3215-4428-922b-20f439c51018",
   "metadata": {},
   "outputs": [
    {
     "ename": "NameError",
     "evalue": "name 'Myvar' is not defined",
     "output_type": "error",
     "traceback": [
      "\u001b[1;31m---------------------------------------------------------------------------\u001b[0m",
      "\u001b[1;31mNameError\u001b[0m                                 Traceback (most recent call last)",
      "Cell \u001b[1;32mIn[21], line 2\u001b[0m\n\u001b[0;32m      1\u001b[0m myvar \u001b[38;5;241m=\u001b[39m \u001b[38;5;241m120\u001b[39m\n\u001b[1;32m----> 2\u001b[0m \u001b[38;5;28mprint\u001b[39m(Myvar)\n",
      "\u001b[1;31mNameError\u001b[0m: name 'Myvar' is not defined"
     ]
    }
   ],
   "source": [
    "myvar = 120\n",
    "print(Myvar)"
   ]
  },
  {
   "cell_type": "code",
   "execution_count": 23,
   "id": "98fed319-2e73-4cc5-b794-79a177a10d61",
   "metadata": {},
   "outputs": [
    {
     "ename": "AttributeError",
     "evalue": "type object 'cname' has no attribute 'Code'",
     "output_type": "error",
     "traceback": [
      "\u001b[1;31m---------------------------------------------------------------------------\u001b[0m",
      "\u001b[1;31mAttributeError\u001b[0m                            Traceback (most recent call last)",
      "Cell \u001b[1;32mIn[23], line 1\u001b[0m\n\u001b[1;32m----> 1\u001b[0m \u001b[38;5;28mprint\u001b[39m(cname\u001b[38;5;241m.\u001b[39mCode)\n",
      "\u001b[1;31mAttributeError\u001b[0m: type object 'cname' has no attribute 'Code'"
     ]
    }
   ],
   "source": [
    "print(cname.Code)"
   ]
  },
  {
   "cell_type": "code",
   "execution_count": 25,
   "id": "29bbe2ab-9e47-434a-92c6-1830c7be402f",
   "metadata": {},
   "outputs": [],
   "source": [
    "del(cname.code) # we can delete class attribute"
   ]
  },
  {
   "cell_type": "code",
   "execution_count": 27,
   "id": "b5e92f03-72f1-48c2-a847-07fd169c7868",
   "metadata": {},
   "outputs": [
    {
     "ename": "AttributeError",
     "evalue": "type object 'cname' has no attribute 'code'",
     "output_type": "error",
     "traceback": [
      "\u001b[1;31m---------------------------------------------------------------------------\u001b[0m",
      "\u001b[1;31mAttributeError\u001b[0m                            Traceback (most recent call last)",
      "Cell \u001b[1;32mIn[27], line 1\u001b[0m\n\u001b[1;32m----> 1\u001b[0m cname\u001b[38;5;241m.\u001b[39mcode\n",
      "\u001b[1;31mAttributeError\u001b[0m: type object 'cname' has no attribute 'code'"
     ]
    }
   ],
   "source": [
    "cname.code"
   ]
  },
  {
   "cell_type": "code",
   "execution_count": 29,
   "id": "eff79fe5-291e-4f47-9d96-c069cd573464",
   "metadata": {},
   "outputs": [
    {
     "name": "stdout",
     "output_type": "stream",
     "text": [
      "0  0.0\n"
     ]
    }
   ],
   "source": [
    "class product:\n",
    "    '''product class attributes'''\n",
    "    pid=0\n",
    "    pname=''\n",
    "    pcost=0.0\n",
    "\n",
    "print(product.pid,product.pname,product.pcost)"
   ]
  },
  {
   "cell_type": "code",
   "execution_count": 31,
   "id": "16e337e0-a426-4dcc-a23f-fcbe75447d22",
   "metadata": {},
   "outputs": [],
   "source": [
    "product.pid=101"
   ]
  },
  {
   "cell_type": "code",
   "execution_count": 33,
   "id": "6c27f1b1-a7e1-4a90-80c1-61c69873dc37",
   "metadata": {},
   "outputs": [
    {
     "name": "stdout",
     "output_type": "stream",
     "text": [
      "101  0.0\n"
     ]
    }
   ],
   "source": [
    "print(product.pid,product.pname,product.pcost)"
   ]
  },
  {
   "cell_type": "code",
   "execution_count": 35,
   "id": "5f1082e3-cea3-4260-9222-afc9f6e3df40",
   "metadata": {},
   "outputs": [],
   "source": [
    "product.pid=505 # overwrite an existing attribute value"
   ]
  },
  {
   "cell_type": "code",
   "execution_count": 37,
   "id": "45357747-41a2-4e4e-81f0-f24cf34f8c5c",
   "metadata": {},
   "outputs": [
    {
     "name": "stdout",
     "output_type": "stream",
     "text": [
      "505  0.0\n"
     ]
    }
   ],
   "source": [
    "print(product.pid,product.pname,product.pcost)"
   ]
  },
  {
   "cell_type": "code",
   "execution_count": 41,
   "id": "803f0fed-af59-43ad-a4b0-15d271044020",
   "metadata": {},
   "outputs": [
    {
     "name": "stdout",
     "output_type": "stream",
     "text": [
      "<class 'type'> <class 'type'> <class 'type'> <class 'type'>\n",
      "<class 'type'>\n"
     ]
    }
   ],
   "source": [
    "print(type(int),type(float),type(bool),type(list))\n",
    "print(type(product))"
   ]
  },
  {
   "cell_type": "code",
   "execution_count": 43,
   "id": "38f0dbd0-3e78-41a1-a5c2-e4fa97a4cd17",
   "metadata": {},
   "outputs": [
    {
     "name": "stdout",
     "output_type": "stream",
     "text": [
      "Arun 1st Jan City-1\n",
      "Anu 2nd Feb City-2\n"
     ]
    }
   ],
   "source": [
    "class Enrollment:\n",
    "    ename = ''\n",
    "    dob = ''\n",
    "    place = ''\n",
    "\n",
    "obj1 = Enrollment()\n",
    "obj1.ename = 'Arun'\n",
    "obj1.dob = '1st Jan'\n",
    "obj1.place = 'City-1'\n",
    "\n",
    "obj2 = Enrollment()\n",
    "obj2.ename = 'Anu'\n",
    "obj2.dob = '2nd Feb'\n",
    "obj2.place = 'City-2'\n",
    "\n",
    "print(obj1.ename,obj1.dob,obj1.place)\n",
    "print(obj2.ename,obj2.dob,obj2.place)"
   ]
  },
  {
   "cell_type": "code",
   "execution_count": 45,
   "id": "d7c2c6fe-b5ab-4bee-aa30-69f812bb0dbd",
   "metadata": {},
   "outputs": [],
   "source": [
    "Enrollment.Bgroup = '' # adding new attribute to an existing class"
   ]
  },
  {
   "cell_type": "code",
   "execution_count": 47,
   "id": "e3ca4d3f-68d0-486c-84ca-c69585e05a40",
   "metadata": {},
   "outputs": [],
   "source": [
    "obj1.Bgroup = 'A+'\n",
    "obj2.Bgroup = 'AB+'"
   ]
  },
  {
   "cell_type": "code",
   "execution_count": 49,
   "id": "b6d85d89-4212-43bb-ba44-f894e16a8fb0",
   "metadata": {},
   "outputs": [
    {
     "name": "stdout",
     "output_type": "stream",
     "text": [
      "   \n"
     ]
    }
   ],
   "source": [
    "obj3 = Enrollment()\n",
    "print(obj3.ename,obj3.dob,obj3.place,obj3.Bgroup)"
   ]
  },
  {
   "cell_type": "code",
   "execution_count": 51,
   "id": "ada17b24-1a1d-429a-ae89-505b95e78b24",
   "metadata": {},
   "outputs": [],
   "source": [
    "obj3.ename='Vijay'\n",
    "obj3.dob = '3rd March'\n",
    "obj3.place = 'City-3'\n",
    "obj3.Bgroup = 'O+'"
   ]
  },
  {
   "cell_type": "code",
   "execution_count": 53,
   "id": "998f62c8-0c0b-4e29-ae2f-4c55eb732156",
   "metadata": {},
   "outputs": [
    {
     "name": "stdout",
     "output_type": "stream",
     "text": [
      "Vijay 3rd March City-3 O+\n"
     ]
    }
   ],
   "source": [
    "print(obj3.ename,obj3.dob,obj3.place,obj3.Bgroup)"
   ]
  },
  {
   "cell_type": "code",
   "execution_count": 55,
   "id": "23514f5a-2f65-4b7c-9597-7eed50ed66ba",
   "metadata": {},
   "outputs": [
    {
     "name": "stdout",
     "output_type": "stream",
     "text": [
      "<class 'function'>\n"
     ]
    }
   ],
   "source": [
    "def f1():\n",
    "    print(\"Hello\")\n",
    "\n",
    "print(type(f1)) # f1() <== direct function call"
   ]
  },
  {
   "cell_type": "code",
   "execution_count": 59,
   "id": "3458fb53-d91d-4483-ba69-ab6e89f5feff",
   "metadata": {},
   "outputs": [
    {
     "ename": "TypeError",
     "evalue": "box.f2() takes 0 positional arguments but 1 was given",
     "output_type": "error",
     "traceback": [
      "\u001b[1;31m---------------------------------------------------------------------------\u001b[0m",
      "\u001b[1;31mTypeError\u001b[0m                                 Traceback (most recent call last)",
      "Cell \u001b[1;32mIn[59], line 5\u001b[0m\n\u001b[0;32m      3\u001b[0m         \u001b[38;5;28mprint\u001b[39m(\u001b[38;5;124m\"\u001b[39m\u001b[38;5;124mHello\u001b[39m\u001b[38;5;124m\"\u001b[39m)\n\u001b[0;32m      4\u001b[0m obj \u001b[38;5;241m=\u001b[39m box()\n\u001b[1;32m----> 5\u001b[0m obj\u001b[38;5;241m.\u001b[39mf2()\n",
      "\u001b[1;31mTypeError\u001b[0m: box.f2() takes 0 positional arguments but 1 was given"
     ]
    }
   ],
   "source": [
    "class box:\n",
    "    def f2():\n",
    "        print(\"Hello\")\n",
    "obj = box()\n",
    "#obj.f2() -> f2(obj)\n",
    "#obj.f2(10,20,30) ->f2(obj,10,20,30)"
   ]
  },
  {
   "cell_type": "code",
   "execution_count": 61,
   "id": "f14553f8-db48-490f-9094-5328cef73992",
   "metadata": {},
   "outputs": [
    {
     "name": "stdout",
     "output_type": "stream",
     "text": [
      "obj1= <__main__.box object at 0x000001B767CAA000>\n",
      "self= <__main__.box object at 0x000001B767CAA000>\n",
      "\n",
      "obj2= <__main__.box object at 0x000001B7653C78F0>\n",
      "self= <__main__.box object at 0x000001B7653C78F0>\n"
     ]
    }
   ],
   "source": [
    "class box:\n",
    "    def f2(self):\n",
    "        print(\"self=\",self)\n",
    "\n",
    "obj1 = box()\n",
    "print(\"obj1=\",obj1)\n",
    "obj1.f2() # f2(obj1)\n",
    "print(\"\") # empty line\n",
    "obj2 = box()\n",
    "print(\"obj2=\",obj2)\n",
    "obj2.f2() # f2(obj2)"
   ]
  },
  {
   "cell_type": "code",
   "execution_count": 65,
   "id": "7af513dc-d662-47d4-a2d0-1be7188eb3e9",
   "metadata": {},
   "outputs": [],
   "source": [
    "class Enrollment:\n",
    "    ename = ''\n",
    "    dob = ''\n",
    "    place = ''\n",
    "    def f1(self,en,edob,eplace):\n",
    "        self.ename = en\n",
    "        self.dob = edob\n",
    "        self.place = eplace\n",
    "        print('Enrollment is done')\n",
    "    def f2(self):\n",
    "        print(f'''About emp {self.ename} details\n",
    "        emp name:{self.ename}   DOB:{self.dob}\n",
    "        working City:{self.place}''')"
   ]
  },
  {
   "cell_type": "code",
   "execution_count": 67,
   "id": "53f81539-1524-46f8-8981-4ddb1fd92515",
   "metadata": {},
   "outputs": [
    {
     "name": "stdout",
     "output_type": "stream",
     "text": [
      "Enrollment is done\n"
     ]
    }
   ],
   "source": [
    "obj1 = Enrollment()\n",
    "obj1.f1('Arun','1st Jan','City-1')"
   ]
  },
  {
   "cell_type": "code",
   "execution_count": 69,
   "id": "02c4e1f6-d457-46c6-b8a3-1d49766be2bc",
   "metadata": {},
   "outputs": [
    {
     "name": "stdout",
     "output_type": "stream",
     "text": [
      "Enrollment is done\n"
     ]
    }
   ],
   "source": [
    "obj2 = Enrollment()\n",
    "obj2.f1('Anu','2nd feb','City-2')"
   ]
  },
  {
   "cell_type": "code",
   "execution_count": 71,
   "id": "0bfc65c2-7381-4b26-a7c4-b8be6e1ecaf0",
   "metadata": {},
   "outputs": [
    {
     "name": "stdout",
     "output_type": "stream",
     "text": [
      "About emp Arun details\n",
      "        emp name:Arun   DOB:1st Jan\n",
      "        working City:City-1\n"
     ]
    }
   ],
   "source": [
    "obj1.f2()"
   ]
  },
  {
   "cell_type": "code",
   "execution_count": 73,
   "id": "3a5f4c4a-d513-4f98-a5c4-36d8cb597250",
   "metadata": {},
   "outputs": [
    {
     "name": "stdout",
     "output_type": "stream",
     "text": [
      "About emp Anu details\n",
      "        emp name:Anu   DOB:2nd feb\n",
      "        working City:City-2\n"
     ]
    }
   ],
   "source": [
    "obj2.f2()"
   ]
  },
  {
   "cell_type": "code",
   "execution_count": 89,
   "id": "0df9a845-d4d2-4cc0-af9b-0ca7812ad0e4",
   "metadata": {},
   "outputs": [],
   "source": [
    "class Enrollment:\n",
    "    ename = ''\n",
    "    dob = ''\n",
    "    place = ''\n",
    "    def f1(self,en,edob,eplace):\n",
    "        self.ename = en\n",
    "        self.dob = edob\n",
    "        self.place = eplace\n",
    "        print('Enrollment is done')\n",
    "    def f2(self):\n",
    "        print(f'''About emp {self.ename} details\n",
    "        emp name:{self.ename}   DOB:{self.dob}\n",
    "        working City:{self.place}''')\n",
    "    def f3(self,eplace):\n",
    "        self.place = eplace\n",
    "        print(f'Emp {self.ename} working city is updated')"
   ]
  },
  {
   "cell_type": "code",
   "execution_count": 91,
   "id": "9423b53a-09d0-4bfc-9574-b4bc17115f84",
   "metadata": {},
   "outputs": [
    {
     "name": "stdout",
     "output_type": "stream",
     "text": [
      "Enrollment is done\n"
     ]
    }
   ],
   "source": [
    "obj1 = Enrollment()\n",
    "obj1.f1('Arun','1st Jan','City-1')"
   ]
  },
  {
   "cell_type": "code",
   "execution_count": 93,
   "id": "c8961fd8-8c55-4829-94a2-eb4505e32c47",
   "metadata": {},
   "outputs": [
    {
     "name": "stdout",
     "output_type": "stream",
     "text": [
      "About emp Arun details\n",
      "        emp name:Arun   DOB:1st Jan\n",
      "        working City:City-1\n"
     ]
    }
   ],
   "source": [
    "obj1.f2()"
   ]
  },
  {
   "cell_type": "code",
   "execution_count": 95,
   "id": "cd0139b9-efa3-4f4e-9e14-d20cf196fa51",
   "metadata": {},
   "outputs": [
    {
     "name": "stdout",
     "output_type": "stream",
     "text": [
      "Emp Arun working city is updated\n"
     ]
    }
   ],
   "source": [
    "obj1.f3('Pune')"
   ]
  },
  {
   "cell_type": "code",
   "execution_count": 97,
   "id": "a24b88df-371e-44f8-b3eb-bd11c6db9186",
   "metadata": {},
   "outputs": [
    {
     "name": "stdout",
     "output_type": "stream",
     "text": [
      "About emp Arun details\n",
      "        emp name:Arun   DOB:1st Jan\n",
      "        working City:Pune\n"
     ]
    }
   ],
   "source": [
    "obj1.f2()"
   ]
  },
  {
   "cell_type": "code",
   "execution_count": 101,
   "id": "097549c3-b62d-4d77-a55d-b391ee9fce8c",
   "metadata": {},
   "outputs": [
    {
     "name": "stdout",
     "output_type": "stream",
     "text": [
      "Enrollment is done\n",
      "Enrollment is done\n",
      "Enrollment is done\n",
      "About emp Arun details\n",
      "        emp name:Arun   DOB:1st Jan\n",
      "        working City:City-1\n",
      "About emp Anu details\n",
      "        emp name:Anu   DOB:2nd Feb\n",
      "        working City:City-2\n",
      "About emp Vijay details\n",
      "        emp name:Vijay   DOB:3rd March\n",
      "        working City:City-3\n"
     ]
    }
   ],
   "source": [
    "class Enrollment:\n",
    "    def __init__(self,en,edob,eplace):\n",
    "        self.ename = en\n",
    "        self.dob = edob\n",
    "        self.place = eplace\n",
    "        print('Enrollment is done')\n",
    "    def f2(self):\n",
    "        print(f'''About emp {self.ename} details\n",
    "        emp name:{self.ename}   DOB:{self.dob}\n",
    "        working City:{self.place}''')\n",
    "    def f3(self,eplace):\n",
    "        self.place = eplace\n",
    "        print(f'Emp {self.ename} working city is updated')\n",
    "\n",
    "obj1 = Enrollment('Arun','1st Jan','City-1')\n",
    "obj2 = Enrollment('Anu','2nd Feb','City-2')\n",
    "obj3 = Enrollment('Vijay','3rd March','City-3')\n",
    "\n",
    "obj1.f2()\n",
    "obj2.f2()\n",
    "obj3.f2()"
   ]
  },
  {
   "cell_type": "code",
   "execution_count": 103,
   "id": "729fbc1e-f70e-4964-87d9-0d2d20edcd86",
   "metadata": {},
   "outputs": [
    {
     "name": "stdout",
     "output_type": "stream",
     "text": [
      "Emp Anu working city is updated\n"
     ]
    }
   ],
   "source": [
    "obj2.f3('Pune')"
   ]
  },
  {
   "cell_type": "code",
   "execution_count": 105,
   "id": "f991db89-2925-4764-9ea3-b1c2b137cb2d",
   "metadata": {},
   "outputs": [
    {
     "name": "stdout",
     "output_type": "stream",
     "text": [
      "About emp Anu details\n",
      "        emp name:Anu   DOB:2nd Feb\n",
      "        working City:Pune\n"
     ]
    }
   ],
   "source": [
    "obj2.f2()"
   ]
  },
  {
   "cell_type": "code",
   "execution_count": 109,
   "id": "1ce67aaf-9457-419a-9c93-166ddf1b33cd",
   "metadata": {},
   "outputs": [
    {
     "data": {
      "text/plain": [
       "30"
      ]
     },
     "execution_count": 109,
     "metadata": {},
     "output_type": "execute_result"
    }
   ],
   "source": [
    "va = 10\n",
    "vb = 20\n",
    "va.__add__(vb) #va + vb"
   ]
  },
  {
   "cell_type": "code",
   "execution_count": 111,
   "id": "2286a74a-8a20-4934-84ed-b1d5b4c83c78",
   "metadata": {},
   "outputs": [
    {
     "name": "stdout",
     "output_type": "stream",
     "text": [
      "<class 'int'> <class 'int'>\n",
      "i= 10 j= 10\n"
     ]
    }
   ],
   "source": [
    "i = 10\n",
    "j = int(10) # oops style \n",
    "\n",
    "print(type(i),type(j))\n",
    "print(\"i=\",i,\"j=\",j)"
   ]
  },
  {
   "cell_type": "code",
   "execution_count": 113,
   "id": "723b6362-e95f-4046-bb08-d22e5410c8cb",
   "metadata": {},
   "outputs": [
    {
     "data": {
      "text/plain": [
       "0"
      ]
     },
     "execution_count": 113,
     "metadata": {},
     "output_type": "execute_result"
    }
   ],
   "source": [
    "k = int()\n",
    "k"
   ]
  },
  {
   "cell_type": "code",
   "execution_count": null,
   "id": "6b221114-6c95-4a31-84ca-f03c960acb0e",
   "metadata": {},
   "outputs": [],
   "source": [
    "class int:\n",
    "    def __init__(self,a=0):\n",
    "        .."
   ]
  },
  {
   "cell_type": "code",
   "execution_count": 115,
   "id": "a0c9efd7-3808-410f-8d22-7250d24d57d2",
   "metadata": {},
   "outputs": [
    {
     "data": {
      "text/plain": [
       "'abc'"
      ]
     },
     "execution_count": 115,
     "metadata": {},
     "output_type": "execute_result"
    }
   ],
   "source": [
    "s1 = 'abc'\n",
    "s2 = str('abc') # oops style\n",
    "s2"
   ]
  },
  {
   "cell_type": "code",
   "execution_count": 117,
   "id": "bf1ac048-f572-4eac-8fb8-aa1afc2ce6a6",
   "metadata": {},
   "outputs": [
    {
     "data": {
      "text/plain": [
       "['__add__',\n",
       " '__class__',\n",
       " '__contains__',\n",
       " '__delattr__',\n",
       " '__dir__',\n",
       " '__doc__',\n",
       " '__eq__',\n",
       " '__format__',\n",
       " '__ge__',\n",
       " '__getattribute__',\n",
       " '__getitem__',\n",
       " '__getnewargs__',\n",
       " '__getstate__',\n",
       " '__gt__',\n",
       " '__hash__',\n",
       " '__init__',\n",
       " '__init_subclass__',\n",
       " '__iter__',\n",
       " '__le__',\n",
       " '__len__',\n",
       " '__lt__',\n",
       " '__mod__',\n",
       " '__mul__',\n",
       " '__ne__',\n",
       " '__new__',\n",
       " '__reduce__',\n",
       " '__reduce_ex__',\n",
       " '__repr__',\n",
       " '__rmod__',\n",
       " '__rmul__',\n",
       " '__setattr__',\n",
       " '__sizeof__',\n",
       " '__str__',\n",
       " '__subclasshook__',\n",
       " 'capitalize',\n",
       " 'casefold',\n",
       " 'center',\n",
       " 'count',\n",
       " 'encode',\n",
       " 'endswith',\n",
       " 'expandtabs',\n",
       " 'find',\n",
       " 'format',\n",
       " 'format_map',\n",
       " 'index',\n",
       " 'isalnum',\n",
       " 'isalpha',\n",
       " 'isascii',\n",
       " 'isdecimal',\n",
       " 'isdigit',\n",
       " 'isidentifier',\n",
       " 'islower',\n",
       " 'isnumeric',\n",
       " 'isprintable',\n",
       " 'isspace',\n",
       " 'istitle',\n",
       " 'isupper',\n",
       " 'join',\n",
       " 'ljust',\n",
       " 'lower',\n",
       " 'lstrip',\n",
       " 'maketrans',\n",
       " 'partition',\n",
       " 'removeprefix',\n",
       " 'removesuffix',\n",
       " 'replace',\n",
       " 'rfind',\n",
       " 'rindex',\n",
       " 'rjust',\n",
       " 'rpartition',\n",
       " 'rsplit',\n",
       " 'rstrip',\n",
       " 'split',\n",
       " 'splitlines',\n",
       " 'startswith',\n",
       " 'strip',\n",
       " 'swapcase',\n",
       " 'title',\n",
       " 'translate',\n",
       " 'upper',\n",
       " 'zfill']"
      ]
     },
     "execution_count": 117,
     "metadata": {},
     "output_type": "execute_result"
    }
   ],
   "source": [
    "dir(str)"
   ]
  },
  {
   "cell_type": "code",
   "execution_count": 119,
   "id": "daa89a5f-42d4-42c0-b869-0b57fb6a32da",
   "metadata": {},
   "outputs": [
    {
     "data": {
      "text/plain": [
       "['__class__',\n",
       " '__delattr__',\n",
       " '__dict__',\n",
       " '__dir__',\n",
       " '__doc__',\n",
       " '__eq__',\n",
       " '__format__',\n",
       " '__ge__',\n",
       " '__getattribute__',\n",
       " '__getstate__',\n",
       " '__gt__',\n",
       " '__hash__',\n",
       " '__init__',\n",
       " '__init_subclass__',\n",
       " '__le__',\n",
       " '__lt__',\n",
       " '__module__',\n",
       " '__ne__',\n",
       " '__new__',\n",
       " '__reduce__',\n",
       " '__reduce_ex__',\n",
       " '__repr__',\n",
       " '__setattr__',\n",
       " '__sizeof__',\n",
       " '__str__',\n",
       " '__subclasshook__',\n",
       " '__weakref__',\n",
       " 'fx',\n",
       " 'myvar']"
      ]
     },
     "execution_count": 119,
     "metadata": {},
     "output_type": "execute_result"
    }
   ],
   "source": [
    "class box:\n",
    "    myvar=120\n",
    "    def fx(self):\n",
    "        return 150\n",
    "\n",
    "dir(box)"
   ]
  },
  {
   "cell_type": "code",
   "execution_count": 121,
   "id": "ba24ab4c-968d-4113-a0d7-b94677d8d095",
   "metadata": {},
   "outputs": [],
   "source": [
    "class box:\n",
    "    def __init__(self,a=0):\n",
    "        self.a=a\n",
    "    def __str__(self):\n",
    "        return str(self.a+100)"
   ]
  },
  {
   "cell_type": "code",
   "execution_count": 123,
   "id": "1e8dc84f-78d6-4e22-b04b-90fd676af824",
   "metadata": {},
   "outputs": [
    {
     "data": {
      "text/plain": [
       "'250'"
      ]
     },
     "execution_count": 123,
     "metadata": {},
     "output_type": "execute_result"
    }
   ],
   "source": [
    "obj = box(150)\n",
    "str(obj) # obj.__str__()"
   ]
  },
  {
   "cell_type": "code",
   "execution_count": 127,
   "id": "17bf2f55-42d1-4742-a5e9-6cfa33133e35",
   "metadata": {},
   "outputs": [
    {
     "name": "stdout",
     "output_type": "stream",
     "text": [
      "<class 'function'> <class 'int'> <class 'str'> <class 'bool'>\n"
     ]
    }
   ],
   "source": [
    "# python function - callable\n",
    "#   \n",
    "def fx():\n",
    "    print(\"OK\")\n",
    "\n",
    "print(type(fx),type(10),type(''),type(True))"
   ]
  },
  {
   "cell_type": "code",
   "execution_count": null,
   "id": "449293ca-ec99-46c0-9156-1faf2a0c9d9d",
   "metadata": {},
   "outputs": [],
   "source": [
    "box ---> box()\n",
    "int ---> int()\n",
    "float -->float()\n",
    "fx -------->fx() "
   ]
  },
  {
   "cell_type": "code",
   "execution_count": 133,
   "id": "0fa87984-e977-4c30-b3a2-35606632e1ab",
   "metadata": {},
   "outputs": [
    {
     "name": "stdout",
     "output_type": "stream",
     "text": [
      "False\n"
     ]
    }
   ],
   "source": [
    "class box:\n",
    "    def __init__(self):\n",
    "        self.a=100\n",
    "obj = box()\n",
    "print(callable(obj))\n",
    "#obj() TypeError: 'box' object is not callable"
   ]
  },
  {
   "cell_type": "code",
   "execution_count": 135,
   "id": "63a54be9-6e31-42e3-8799-1b708293a5b5",
   "metadata": {},
   "outputs": [
    {
     "data": {
      "text/plain": [
       "True"
      ]
     },
     "execution_count": 135,
     "metadata": {},
     "output_type": "execute_result"
    }
   ],
   "source": [
    "def fx():\n",
    "    print(\"OK\")\n",
    "\n",
    "callable(fx)"
   ]
  },
  {
   "cell_type": "code",
   "execution_count": 139,
   "id": "3d09c24a-626f-458c-b5bf-d45a35589e6c",
   "metadata": {},
   "outputs": [
    {
     "name": "stdout",
     "output_type": "stream",
     "text": [
      "True\n",
      "This is callable block\n"
     ]
    }
   ],
   "source": [
    "class box:\n",
    "    def __init__(self):\n",
    "        self.a=100\n",
    "    def __call__(self):\n",
    "        print(\"This is callable block\")\n",
    "obj = box()\n",
    "print(callable(obj))\n",
    "obj()"
   ]
  },
  {
   "cell_type": "code",
   "execution_count": 141,
   "id": "ada6910e-81e7-4ae6-b5b9-22679c1e5b15",
   "metadata": {},
   "outputs": [
    {
     "name": "stdout",
     "output_type": "stream",
     "text": [
      "OK\n"
     ]
    }
   ],
   "source": [
    "fx.__call__()"
   ]
  },
  {
   "cell_type": "code",
   "execution_count": 143,
   "id": "76db0dbc-d906-4b58-a276-f9e25d472b32",
   "metadata": {},
   "outputs": [
    {
     "data": {
      "text/plain": [
       "mappingproxy({'__module__': '__main__',\n",
       "              'pid': 101,\n",
       "              'pname': 'prodA',\n",
       "              'f1': <function __main__.products.f1(self)>,\n",
       "              '__dict__': <attribute '__dict__' of 'products' objects>,\n",
       "              '__weakref__': <attribute '__weakref__' of 'products' objects>,\n",
       "              '__doc__': None})"
      ]
     },
     "execution_count": 143,
     "metadata": {},
     "output_type": "execute_result"
    }
   ],
   "source": [
    "class products:\n",
    "    pid = 101\n",
    "    pname = 'prodA'\n",
    "    def f1(self):\n",
    "        return 100\n",
    "\n",
    "products.__dict__"
   ]
  },
  {
   "cell_type": "code",
   "execution_count": 145,
   "id": "2bd97f2f-75d3-4fd4-bbb0-e309f0282e6a",
   "metadata": {},
   "outputs": [
    {
     "data": {
      "text/plain": [
       "mappingproxy({'__module__': '__main__',\n",
       "              '__doc__': 'This is product class',\n",
       "              'pid': 101,\n",
       "              'pname': 'prodA',\n",
       "              'f1': <function __main__.products.f1(self)>,\n",
       "              '__dict__': <attribute '__dict__' of 'products' objects>,\n",
       "              '__weakref__': <attribute '__weakref__' of 'products' objects>})"
      ]
     },
     "execution_count": 145,
     "metadata": {},
     "output_type": "execute_result"
    }
   ],
   "source": [
    "class products:\n",
    "    '''This is product class'''\n",
    "    pid = 101\n",
    "    pname = 'prodA'\n",
    "    def f1(self):\n",
    "        return 100\n",
    "\n",
    "products.__dict__"
   ]
  },
  {
   "cell_type": "code",
   "execution_count": 147,
   "id": "8ec1bc68-aac8-48e8-9407-1c44da4d2035",
   "metadata": {},
   "outputs": [
    {
     "data": {
      "text/plain": [
       "'This is product class'"
      ]
     },
     "execution_count": 147,
     "metadata": {},
     "output_type": "execute_result"
    }
   ],
   "source": [
    "products.__doc__"
   ]
  },
  {
   "cell_type": "code",
   "execution_count": 151,
   "id": "a539d720-c241-4bd0-accd-9ed12aa7b161",
   "metadata": {},
   "outputs": [
    {
     "name": "stdout",
     "output_type": "stream",
     "text": [
      "Store a sequence of fields, reading multipart/form-data.\n",
      "\n",
      "    This class provides naming, typing, files stored on disk, and\n",
      "    more.  At the top level, it is accessible like a dictionary, whose\n",
      "    keys are the field names.  (Note: None can occur as a field name.)\n",
      "    The items are either a Python list (if there's multiple values) or\n",
      "    another FieldStorage or MiniFieldStorage object.  If it's a single\n",
      "    object, it has the following attributes:\n",
      "\n",
      "    name: the field name, if specified; otherwise None\n",
      "\n",
      "    filename: the filename, if specified; otherwise None; this is the\n",
      "        client side filename, *not* the file name on which it is\n",
      "        stored (that's a temporary file you don't deal with)\n",
      "\n",
      "    value: the value as a *string*; for file uploads, this\n",
      "        transparently reads the file every time you request the value\n",
      "        and returns *bytes*\n",
      "\n",
      "    file: the file(-like) object from which you can read the data *as\n",
      "        bytes* ; None if the data is stored a simple string\n",
      "\n",
      "    type: the content-type, or None if not specified\n",
      "\n",
      "    type_options: dictionary of options specified on the content-type\n",
      "        line\n",
      "\n",
      "    disposition: content-disposition, or None if not specified\n",
      "\n",
      "    disposition_options: dictionary of corresponding options\n",
      "\n",
      "    headers: a dictionary(-like) object (sometimes email.message.Message or a\n",
      "        subclass thereof) containing *all* headers\n",
      "\n",
      "    The class is subclassable, mostly for the purpose of overriding\n",
      "    the make_file() method, which is called internally to come up with\n",
      "    a file open for reading and writing.  This makes it possible to\n",
      "    override the default choice of storing all files in a temporary\n",
      "    directory and unlinking them as soon as they have been opened.\n",
      "\n",
      "    \n"
     ]
    }
   ],
   "source": [
    "import cgi\n",
    "print(cgi.FieldStorage.__doc__)"
   ]
  },
  {
   "cell_type": "code",
   "execution_count": 153,
   "id": "3dbc8559-225d-42a1-ba33-288d3458c0c1",
   "metadata": {},
   "outputs": [
    {
     "name": "stdout",
     "output_type": "stream",
     "text": [
      "cgi\n"
     ]
    }
   ],
   "source": [
    "print(cgi.FieldStorage.__module__)"
   ]
  },
  {
   "cell_type": "code",
   "execution_count": 155,
   "id": "d08ae95b-03c0-40d0-931d-4a8579c59be3",
   "metadata": {},
   "outputs": [
    {
     "ename": "AttributeError",
     "evalue": "'mybox' object has no attribute '__bid'",
     "output_type": "error",
     "traceback": [
      "\u001b[1;31m---------------------------------------------------------------------------\u001b[0m",
      "\u001b[1;31mAttributeError\u001b[0m                            Traceback (most recent call last)",
      "Cell \u001b[1;32mIn[155], line 5\u001b[0m\n\u001b[0;32m      2\u001b[0m     __bid \u001b[38;5;241m=\u001b[39m \u001b[38;5;241m101\u001b[39m\n\u001b[0;32m      4\u001b[0m obj \u001b[38;5;241m=\u001b[39m mybox()\n\u001b[1;32m----> 5\u001b[0m obj\u001b[38;5;241m.\u001b[39m__bid\n",
      "\u001b[1;31mAttributeError\u001b[0m: 'mybox' object has no attribute '__bid'"
     ]
    }
   ],
   "source": [
    "class mybox:\n",
    "    __bid = 101\n",
    "\n",
    "obj = mybox()\n",
    "obj.__bid"
   ]
  },
  {
   "cell_type": "code",
   "execution_count": 157,
   "id": "bbfb3491-5c6d-40fe-83b3-6e48ec663689",
   "metadata": {},
   "outputs": [
    {
     "name": "stdout",
     "output_type": "stream",
     "text": [
      "101\n"
     ]
    }
   ],
   "source": [
    "class mybox:\n",
    "    __bid = 101\n",
    "    def fx(self):\n",
    "        print(self.__bid)\n",
    "\n",
    "obj = mybox()\n",
    "#obj.__bid ->Error\n",
    "obj.fx()"
   ]
  },
  {
   "cell_type": "code",
   "execution_count": 159,
   "id": "6d7c5da9-406d-40f1-b739-3313cf49cecd",
   "metadata": {},
   "outputs": [
    {
     "data": {
      "text/plain": [
       "mappingproxy({'__module__': '__main__',\n",
       "              '_mybox__var': 120,\n",
       "              '__dict__': <attribute '__dict__' of 'mybox' objects>,\n",
       "              '__weakref__': <attribute '__weakref__' of 'mybox' objects>,\n",
       "              '__doc__': None})"
      ]
     },
     "execution_count": 159,
     "metadata": {},
     "output_type": "execute_result"
    }
   ],
   "source": [
    "class mybox:\n",
    "    __var = 120\n",
    "\n",
    "mybox.__dict__"
   ]
  },
  {
   "cell_type": "code",
   "execution_count": 161,
   "id": "7787aec9-6bc3-4a72-bd17-981ddce3b59e",
   "metadata": {},
   "outputs": [
    {
     "data": {
      "text/plain": [
       "120"
      ]
     },
     "execution_count": 161,
     "metadata": {},
     "output_type": "execute_result"
    }
   ],
   "source": [
    "obj = mybox()\n",
    "obj._mybox__var"
   ]
  },
  {
   "cell_type": "code",
   "execution_count": null,
   "id": "81aa5e33-74bd-4333-a5b3-41f796322900",
   "metadata": {},
   "outputs": [],
   "source": [
    "class <Classname1>:\n",
    "    <attributes>\n",
    "\n",
    "class <Classname2>(<ParentClassName>): <== Single Inheritance \n",
    "    <attributes>"
   ]
  },
  {
   "cell_type": "code",
   "execution_count": 163,
   "id": "c4f8ec04-416e-4dc6-ad34-69d82f628f0a",
   "metadata": {},
   "outputs": [
    {
     "name": "stdout",
     "output_type": "stream",
     "text": [
      "101 prodA 100.32\n"
     ]
    }
   ],
   "source": [
    "class P1:\n",
    "    pid = 101\n",
    "    pname = 'prodA'\n",
    "\n",
    "class P2(P1):                  # Vs       def  fx(args):\n",
    "    pcost = 100.32\n",
    "\n",
    "obj = P2()\n",
    "print(obj.pid,obj.pname,obj.pcost)"
   ]
  },
  {
   "cell_type": "code",
   "execution_count": 165,
   "id": "f12d20b1-9b05-45b5-b728-980496b7515c",
   "metadata": {},
   "outputs": [
    {
     "name": "stdout",
     "output_type": "stream",
     "text": [
      "101 prodA\n"
     ]
    }
   ],
   "source": [
    "class pA:\n",
    "    pid = 101\n",
    "class pB:\n",
    "    pname = 'prodA'\n",
    "\n",
    "class pC(pA,pB): # Multiple inheritance\n",
    "    pass\n",
    "\n",
    "obj = pC()\n",
    "print(obj.pid,obj.pname)"
   ]
  },
  {
   "cell_type": "code",
   "execution_count": null,
   "id": "8c164813-7917-48ef-bc17-c2a0d3482bbc",
   "metadata": {},
   "outputs": [],
   "source": [
    "class myclass:\n",
    "    var = 100\n",
    "\n",
    "# python <2.6 \n",
    "class myclass(object):\n",
    "    var = 100"
   ]
  },
  {
   "cell_type": "code",
   "execution_count": 167,
   "id": "63a7ddef-0eaa-4a4d-b3ef-9e0b20dfbfed",
   "metadata": {},
   "outputs": [
    {
     "data": {
      "text/plain": [
       "object"
      ]
     },
     "execution_count": 167,
     "metadata": {},
     "output_type": "execute_result"
    }
   ],
   "source": [
    "object"
   ]
  },
  {
   "cell_type": "code",
   "execution_count": 169,
   "id": "d8ee6b79-93ee-4d3b-a053-3508e57cfb6f",
   "metadata": {},
   "outputs": [
    {
     "data": {
      "text/plain": [
       "(__main__.B, __main__.A, object)"
      ]
     },
     "execution_count": 169,
     "metadata": {},
     "output_type": "execute_result"
    }
   ],
   "source": [
    "class A:\n",
    "    pass\n",
    "class B(A):\n",
    "    pass\n",
    "\n",
    "B.__mro__"
   ]
  },
  {
   "cell_type": "code",
   "execution_count": 171,
   "id": "35b89812-51e4-43b1-89a2-268098ac4947",
   "metadata": {},
   "outputs": [
    {
     "data": {
      "text/plain": [
       "(__main__.box, object)"
      ]
     },
     "execution_count": 171,
     "metadata": {},
     "output_type": "execute_result"
    }
   ],
   "source": [
    "class box:\n",
    "    pass\n",
    "\n",
    "box.__mro__"
   ]
  },
  {
   "cell_type": "code",
   "execution_count": 173,
   "id": "35c2400f-df91-4811-9a14-137cf164eaaf",
   "metadata": {},
   "outputs": [
    {
     "name": "stdout",
     "output_type": "stream",
     "text": [
      "1.0 cisco /etc/test.conf\n"
     ]
    }
   ],
   "source": [
    "class release1:\n",
    "    version = 1.0\n",
    "\n",
    "class release2(release1):\n",
    "    vendor = 'cisco'\n",
    "\n",
    "class release3(release2):\n",
    "    fname = '/etc/test.conf'\n",
    "\n",
    "obj = release3()\n",
    "print(obj.version,obj.vendor,obj.fname)"
   ]
  },
  {
   "cell_type": "code",
   "execution_count": 175,
   "id": "34ac4e83-a100-40b3-94ce-f4d26a2e7ddb",
   "metadata": {},
   "outputs": [
    {
     "data": {
      "text/plain": [
       "605"
      ]
     },
     "execution_count": 175,
     "metadata": {},
     "output_type": "execute_result"
    }
   ],
   "source": [
    "class Pa:\n",
    "    pid = 505\n",
    "\n",
    "class Pb(Pa):\n",
    "    pname = 'prodA'\n",
    "    pid = 605 \n",
    "\n",
    "obj = Pb()\n",
    "obj.pid"
   ]
  },
  {
   "cell_type": "code",
   "execution_count": 177,
   "id": "069f37cd-d448-4209-a4b1-0e760c1e78e9",
   "metadata": {},
   "outputs": [
    {
     "name": "stdout",
     "output_type": "stream",
     "text": [
      "605 505\n"
     ]
    }
   ],
   "source": [
    "class Pa:\n",
    "    pid = 505\n",
    "\n",
    "class Pb(Pa):\n",
    "    pname = 'prodA'\n",
    "    pid = 605 \n",
    "    v = Pa.pid # we can access parent class attribute\n",
    "\n",
    "obj = Pb()\n",
    "print(obj.pid,obj.v)"
   ]
  },
  {
   "cell_type": "code",
   "execution_count": 181,
   "id": "816f95d7-cde8-4a53-ad75-4f7f2d4f743d",
   "metadata": {},
   "outputs": [
    {
     "name": "stdout",
     "output_type": "stream",
     "text": [
      "This is child class method\n"
     ]
    }
   ],
   "source": [
    "class Pa:\n",
    "    def f1(self):\n",
    "        print('This is Pa - Parent Class')\n",
    "\n",
    "class Pb(Pa):\n",
    "    pname = 'prodA'\n",
    "    pid = 605 \n",
    "    #v = Pa.pid # we can access parent class attribute\n",
    "    def f1(self):\n",
    "        print('This is child class method')\n",
    "\n",
    "obj = Pb()\n",
    "obj.f1()"
   ]
  },
  {
   "cell_type": "code",
   "execution_count": 183,
   "id": "5b156613-ccac-4fa0-bb07-d81ea5b0a4ca",
   "metadata": {},
   "outputs": [
    {
     "name": "stdout",
     "output_type": "stream",
     "text": [
      "This is child class method\n",
      "This is Pa - Parent Class\n"
     ]
    }
   ],
   "source": [
    "class Pa:\n",
    "    def f1(self):\n",
    "        print('This is Pa - Parent Class')\n",
    "\n",
    "class Pb(Pa):\n",
    "    pname = 'prodA'\n",
    "    pid = 605 \n",
    "    #v = Pa.pid # we can access parent class attribute\n",
    "    def f1(self):\n",
    "        print('This is child class method')\n",
    "        Pa.f1(self) # calling parent class method\n",
    "\n",
    "obj = Pb()\n",
    "obj.f1()"
   ]
  },
  {
   "cell_type": "code",
   "execution_count": 185,
   "id": "ea3ff871-a0f8-4df8-945e-b63c1ca8bd27",
   "metadata": {},
   "outputs": [
    {
     "name": "stdout",
     "output_type": "stream",
     "text": [
      "This is child class method\n",
      "This is Pa - Parent Class\n"
     ]
    }
   ],
   "source": [
    "class Pa:\n",
    "    def f1(self):\n",
    "        print('This is Pa - Parent Class')\n",
    "\n",
    "class Pb(Pa):\n",
    "    pname = 'prodA'\n",
    "    pid = 605 \n",
    "    #v = Pa.pid # we can access parent class attribute\n",
    "    def f1(self):\n",
    "        print('This is child class method')\n",
    "        super().f1() #Pa.f1(self) # calling parent class method\n",
    "\n",
    "obj = Pb()\n",
    "obj.f1()"
   ]
  },
  {
   "cell_type": "code",
   "execution_count": 189,
   "id": "572e44d9-2572-4365-b233-559b2069cdd7",
   "metadata": {},
   "outputs": [
    {
     "name": "stdout",
     "output_type": "stream",
     "text": [
      "This is Pa class (10, 20, 30)\n"
     ]
    },
    {
     "data": {
      "text/plain": [
       "100"
      ]
     },
     "execution_count": 189,
     "metadata": {},
     "output_type": "execute_result"
    }
   ],
   "source": [
    "class Pa:\n",
    "    def __init__(self,*args):\n",
    "        print('This is Pa class',args)\n",
    "\n",
    "class Pb(Pa):\n",
    "    def method1(self):\n",
    "        return 100\n",
    "\n",
    "obj = Pb(10,20,30)\n",
    "obj.method1()"
   ]
  },
  {
   "cell_type": "markdown",
   "id": "1054aa95-58e2-46d1-a6e6-fbafbf5afdcc",
   "metadata": {},
   "source": [
    "# file: ab.py\n",
    "#-----------------\n",
    "class Pa:\n",
    "    def __init__(self,*args):\n",
    "        print('This is Pa class',args)\n",
    "##################################################\n",
    "# file:sab.py\n",
    "import ab\n",
    "class Pb(ab.Pa):\n",
    "    def method1(self):\n",
    "        return 100\n",
    "#############################################\n",
    "# file: p1.py\n",
    "import sab\n",
    "obj = sab.Pb(10,20,30)\n",
    "obj.method1()"
   ]
  },
  {
   "cell_type": "code",
   "execution_count": 191,
   "id": "575993a8-350e-4b95-a78c-151252f24180",
   "metadata": {},
   "outputs": [],
   "source": [
    "import time"
   ]
  },
  {
   "cell_type": "code",
   "execution_count": 249,
   "id": "6c8f5e57-c06d-49e6-b095-121e60022617",
   "metadata": {},
   "outputs": [],
   "source": [
    "class Vendor:\n",
    "    def __init__(self,vname,vGST):\n",
    "        self.vname = vname\n",
    "        self.vGST = vGST\n",
    "        print(f'Vendor {self.vname} enrollment is done!')\n",
    "    def billing(self,pName,pCost=0.0,pQty=0):\n",
    "        self.pName = pName\n",
    "        self.pCost = pCost\n",
    "        self.pQty = pQty\n",
    "        self.tax = 0.18\n",
    "        self.total = self.pQty * self.pCost\n",
    "        self.gs = self.total + self.tax\n",
    "        self.purchase_info()\n",
    "    def purchase_info(self):\n",
    "        wobj = open(\"purchase_info.log\",\"a\")\n",
    "        wobj.write(f'{self.vname}\\t{self.vGST}\\t{self.pName}\\t{self.pCost}\\t')\n",
    "        wobj.write(f'{self.pQty}\\t{self.total}\\t{self.gs}\\t Billing date:{time.ctime()}\\n\\n')\n",
    "        wobj.close()"
   ]
  },
  {
   "cell_type": "code",
   "execution_count": 233,
   "id": "cf157ba5-0b97-4205-bb52-663352a78308",
   "metadata": {},
   "outputs": [
    {
     "name": "stdout",
     "output_type": "stream",
     "text": [
      "Vendor V-Abc enrollment is done!\n",
      "Vendor V-Xyz enrollment is done!\n"
     ]
    }
   ],
   "source": [
    "vobj1 = Vendor('V-Abc','1NAMCG3423')\n",
    "vobj2 = Vendor('V-Xyz','4ZASDFBER5')"
   ]
  },
  {
   "cell_type": "code",
   "execution_count": 235,
   "id": "ee1c83f8-4a1a-4357-9b58-193ba0dabc94",
   "metadata": {},
   "outputs": [],
   "source": [
    "vobj1.billing('prodA',1000,3)"
   ]
  },
  {
   "cell_type": "code",
   "execution_count": 237,
   "id": "1d232e18-72ea-4532-8b45-a33d3225ee88",
   "metadata": {},
   "outputs": [],
   "source": [
    "vobj1.billing('prodB',1200,2)"
   ]
  },
  {
   "cell_type": "code",
   "execution_count": 239,
   "id": "77f8e25c-172d-4cfe-9ba6-c5be3b066ddb",
   "metadata": {},
   "outputs": [],
   "source": [
    "vobj1.billing('prodC',5000,3)"
   ]
  },
  {
   "cell_type": "code",
   "execution_count": 241,
   "id": "1b880c29-1ac4-4e2c-840c-6ae1d3f8d09c",
   "metadata": {},
   "outputs": [],
   "source": [
    "vobj2.billing('prodX',3413,6)"
   ]
  },
  {
   "cell_type": "code",
   "execution_count": 243,
   "id": "81579f6f-2db8-462b-aa6e-6029b5587ac5",
   "metadata": {},
   "outputs": [],
   "source": [
    "vobj2.billing('prodY',4212,2)"
   ]
  },
  {
   "cell_type": "code",
   "execution_count": 245,
   "id": "3890f333-096f-4540-a3d5-c0713cae9e8f",
   "metadata": {},
   "outputs": [
    {
     "name": "stdout",
     "output_type": "stream",
     "text": [
      "Vendor V-dabc enrollment is done!\n"
     ]
    }
   ],
   "source": [
    "vobj3 = Vendor('V-dabc','F13131ADF')"
   ]
  },
  {
   "cell_type": "code",
   "execution_count": 247,
   "id": "74010deb-6b81-4f21-8fa5-af343a5447d2",
   "metadata": {},
   "outputs": [],
   "source": [
    "vobj3.billing('prodA',1500,3)"
   ]
  },
  {
   "cell_type": "code",
   "execution_count": null,
   "id": "e4ad68c2-e0d6-45b9-841b-f1bddbc6a954",
   "metadata": {},
   "outputs": [],
   "source": [
    "# Decorator\n",
    "#-----------\n",
    "\n",
    "App1  -> V1.0  ---->customer ....\n",
    "|\n",
    "App2  -> V1.1 ------>customer .....\n",
    "\n",
    "Home  About  News      ContactUs\n",
    "              |->City1\n",
    "              |->City2\n",
    "              |->City3 \n",
    "              |->City4 \n",
    "metaprogramming - adding some features to an existing code // decorator design model\n",
    "\n",
    "syntax:-\n",
    "----------\n",
    "def decoratorName(new_application):\n",
    "    def wrapper():\n",
    "        new_application()\n",
    "    return wrapper\n",
    "    \n",
    "def new_app():\n",
    "    .....\n",
    "\n",
    "new_app = decoratorName(new_app)\n",
    "new_app()\n",
    " <or>\n",
    "@decoratorName\n",
    "def new_app():\n",
    "     ....\n",
    "\n",
    "new_app()  "
   ]
  },
  {
   "cell_type": "code",
   "execution_count": 251,
   "id": "5a1de20d-d5c3-4f94-ac6e-3a6eaea34ff8",
   "metadata": {},
   "outputs": [],
   "source": [
    "def news(a): #<== decorator\n",
    "    def fx(): #<== wrapper\n",
    "        a()\n",
    "    return fx "
   ]
  },
  {
   "cell_type": "code",
   "execution_count": 253,
   "id": "420be809-689b-4efc-8df6-7f3fe41374a6",
   "metadata": {},
   "outputs": [],
   "source": [
    "@news\n",
    "def city1():\n",
    "    print('<h1>City1 news page</h1>')\n",
    "\n",
    "@news\n",
    "def city2():\n",
    "    print('<h2>City2 news page</h2>')\n",
    "\n",
    "@news\n",
    "def city3():\n",
    "    print('<h3>City3 news page</h3>')"
   ]
  },
  {
   "cell_type": "code",
   "execution_count": 263,
   "id": "77ca26ef-173c-464a-8c6e-931fa1aff6fd",
   "metadata": {},
   "outputs": [
    {
     "name": "stdout",
     "output_type": "stream",
     "text": [
      "App-2\n"
     ]
    }
   ],
   "source": [
    "def f1():\n",
    "    print('Updated App')\n",
    "\n",
    "#f1=news(f1)\n",
    "#f1()\n",
    "@news\n",
    "def f1():\n",
    "    print(\"App-2\")\n",
    "\n",
    "f1()"
   ]
  },
  {
   "cell_type": "code",
   "execution_count": 255,
   "id": "91972c4b-bd35-4937-9d22-ce12ad5385f2",
   "metadata": {},
   "outputs": [
    {
     "name": "stdout",
     "output_type": "stream",
     "text": [
      "<h1>City1 news page</h1>\n"
     ]
    }
   ],
   "source": [
    "city1()"
   ]
  },
  {
   "cell_type": "code",
   "execution_count": 257,
   "id": "5217f0a9-e2eb-4d81-8d1d-c367d00928c5",
   "metadata": {},
   "outputs": [
    {
     "name": "stdout",
     "output_type": "stream",
     "text": [
      "<h2>City2 news page</h2>\n"
     ]
    }
   ],
   "source": [
    "city2()"
   ]
  },
  {
   "cell_type": "code",
   "execution_count": 259,
   "id": "b83398f2-8a20-473d-992a-a463791ae8b8",
   "metadata": {},
   "outputs": [
    {
     "name": "stdout",
     "output_type": "stream",
     "text": [
      "<h3>City3 news page</h3>\n"
     ]
    }
   ],
   "source": [
    "city3()"
   ]
  },
  {
   "cell_type": "code",
   "execution_count": 265,
   "id": "adfaf735-ecd5-4f88-a643-907493ffb409",
   "metadata": {},
   "outputs": [],
   "source": [
    "class box:\n",
    "    bid = 101\n",
    "\n",
    "box.bid  # using class name - we can access class attribute\n",
    "box.bid=202  # using class name - we can modify an existing class attribute\n",
    "box.bname = 'b1' # using class name - we can create new attribute"
   ]
  },
  {
   "cell_type": "code",
   "execution_count": 267,
   "id": "f0988e5e-1f00-4286-94d5-cb53bcf1141c",
   "metadata": {},
   "outputs": [
    {
     "ename": "TypeError",
     "evalue": "box.fx() takes 0 positional arguments but 1 was given",
     "output_type": "error",
     "traceback": [
      "\u001b[1;31m---------------------------------------------------------------------------\u001b[0m",
      "\u001b[1;31mTypeError\u001b[0m                                 Traceback (most recent call last)",
      "Cell \u001b[1;32mIn[267], line 6\u001b[0m\n\u001b[0;32m      2\u001b[0m     \u001b[38;5;129m@classmethod\u001b[39m\n\u001b[0;32m      3\u001b[0m     \u001b[38;5;28;01mdef\u001b[39;00m \u001b[38;5;21mfx\u001b[39m():\n\u001b[0;32m      4\u001b[0m         \u001b[38;5;28mprint\u001b[39m(\u001b[38;5;124m\"\u001b[39m\u001b[38;5;124mThis is fx block\u001b[39m\u001b[38;5;124m\"\u001b[39m)\n\u001b[1;32m----> 6\u001b[0m box\u001b[38;5;241m.\u001b[39mfx()\n",
      "\u001b[1;31mTypeError\u001b[0m: box.fx() takes 0 positional arguments but 1 was given"
     ]
    }
   ],
   "source": [
    "class box:\n",
    "    @classmethod\n",
    "    def fx():\n",
    "        print(\"This is fx block\")\n",
    "\n",
    "box.fx()    "
   ]
  },
  {
   "cell_type": "code",
   "execution_count": 269,
   "id": "ba8f3cd1-e2fb-4425-a962-3b49547aff11",
   "metadata": {},
   "outputs": [
    {
     "name": "stdout",
     "output_type": "stream",
     "text": [
      "This is fx block <class '__main__.box'>\n"
     ]
    }
   ],
   "source": [
    "class box:\n",
    "    @classmethod\n",
    "    def fx(cls):\n",
    "        print(\"This is fx block\",cls)\n",
    "\n",
    "box.fx() # box.fx() ->fx(box)"
   ]
  },
  {
   "cell_type": "code",
   "execution_count": 271,
   "id": "64b9150b-2d4f-4a1b-9d22-a584ba892e08",
   "metadata": {},
   "outputs": [],
   "source": [
    "class box:\n",
    "    bid=101\n",
    "    @classmethod\n",
    "    def fx(cls):\n",
    "        print(cls.bid) # box.bid - using class name - we can access class attribute\n",
    "        cls.bid = 202 # box.bid = 202 - using class name - we can modify\n",
    "        cls.bname = 'B1' # box.bname = 'B1' - we can create new attribute"
   ]
  },
  {
   "cell_type": "code",
   "execution_count": 275,
   "id": "87edc97e-fda5-4963-b292-dfc4681e6749",
   "metadata": {},
   "outputs": [
    {
     "ename": "AttributeError",
     "evalue": "type object 'box' has no attribute 'bname'",
     "output_type": "error",
     "traceback": [
      "\u001b[1;31m---------------------------------------------------------------------------\u001b[0m",
      "\u001b[1;31mAttributeError\u001b[0m                            Traceback (most recent call last)",
      "Cell \u001b[1;32mIn[275], line 2\u001b[0m\n\u001b[0;32m      1\u001b[0m box\u001b[38;5;241m.\u001b[39mbid\n\u001b[1;32m----> 2\u001b[0m box\u001b[38;5;241m.\u001b[39mbname\n",
      "\u001b[1;31mAttributeError\u001b[0m: type object 'box' has no attribute 'bname'"
     ]
    }
   ],
   "source": [
    "box.bid\n",
    "box.bname"
   ]
  },
  {
   "cell_type": "code",
   "execution_count": 277,
   "id": "452b797d-bff7-4734-9283-06a916aec291",
   "metadata": {},
   "outputs": [
    {
     "name": "stdout",
     "output_type": "stream",
     "text": [
      "101\n"
     ]
    }
   ],
   "source": [
    "box.fx() # Note - this is classmethod - not object based call"
   ]
  },
  {
   "cell_type": "code",
   "execution_count": 281,
   "id": "33509de9-eb99-4773-a247-7ca983303313",
   "metadata": {},
   "outputs": [
    {
     "name": "stdout",
     "output_type": "stream",
     "text": [
      "202\n",
      "B1\n"
     ]
    }
   ],
   "source": [
    "print(box.bid)\n",
    "print(box.bname)"
   ]
  },
  {
   "cell_type": "code",
   "execution_count": 275,
   "id": "2b645df3-22cc-4f09-888d-e861de9bbcbe",
   "metadata": {},
   "outputs": [
    {
     "ename": "AttributeError",
     "evalue": "type object 'box' has no attribute 'bname'",
     "output_type": "error",
     "traceback": [
      "\u001b[1;31m---------------------------------------------------------------------------\u001b[0m",
      "\u001b[1;31mAttributeError\u001b[0m                            Traceback (most recent call last)",
      "Cell \u001b[1;32mIn[275], line 2\u001b[0m\n\u001b[0;32m      1\u001b[0m box\u001b[38;5;241m.\u001b[39mbid\n\u001b[1;32m----> 2\u001b[0m box\u001b[38;5;241m.\u001b[39mbname\n",
      "\u001b[1;31mAttributeError\u001b[0m: type object 'box' has no attribute 'bname'"
     ]
    }
   ],
   "source": [
    "box.bid\n",
    "box.bname"
   ]
  },
  {
   "cell_type": "code",
   "execution_count": 283,
   "id": "eb4d934b-0184-4bee-bc1c-e2632c8a92c8",
   "metadata": {},
   "outputs": [],
   "source": [
    "class Enrollment:\n",
    "    ename = ''\n",
    "    dob = ''\n",
    "    place = ''\n",
    "    @classmethod\n",
    "    def fx(cls):\n",
    "        cls.bgroup=''\n",
    "        print('new attribute called bgroup is added')\n",
    "    def f1(self,en,edob,eplace):\n",
    "        self.ename = en\n",
    "        self.dob = edob\n",
    "        self.place = eplace\n",
    "        print('Enrollment is done')\n",
    "    def f2(self):\n",
    "        print(f'''About emp {self.ename} details\n",
    "        emp name:{self.ename}   DOB:{self.dob}\n",
    "        working City:{self.place}''')"
   ]
  },
  {
   "cell_type": "code",
   "execution_count": 285,
   "id": "506b1eba-1bb7-41a0-ba02-f24589227f1a",
   "metadata": {},
   "outputs": [
    {
     "name": "stdout",
     "output_type": "stream",
     "text": [
      "Enrollment is done\n",
      "Enrollment is done\n"
     ]
    }
   ],
   "source": [
    "obj1 = Enrollment()\n",
    "obj1.f1('Arun','1st Jan','City-1')\n",
    "\n",
    "obj2 = Enrollment()\n",
    "obj2.f1('Anu','2nd Feb','City-2')"
   ]
  },
  {
   "cell_type": "code",
   "execution_count": 287,
   "id": "3e08852a-0355-43a9-a900-bde9e0249d82",
   "metadata": {},
   "outputs": [
    {
     "name": "stdout",
     "output_type": "stream",
     "text": [
      "About emp Arun details\n",
      "        emp name:Arun   DOB:1st Jan\n",
      "        working City:City-1\n",
      "About emp Anu details\n",
      "        emp name:Anu   DOB:2nd Feb\n",
      "        working City:City-2\n"
     ]
    }
   ],
   "source": [
    "for var in [obj1,obj2]:\n",
    "    var.f2()"
   ]
  },
  {
   "cell_type": "code",
   "execution_count": 289,
   "id": "2ea6dc2b-bfd5-4643-8dae-fec034bd5f1c",
   "metadata": {},
   "outputs": [
    {
     "ename": "AttributeError",
     "evalue": "'Enrollment' object has no attribute 'bgroup'",
     "output_type": "error",
     "traceback": [
      "\u001b[1;31m---------------------------------------------------------------------------\u001b[0m",
      "\u001b[1;31mAttributeError\u001b[0m                            Traceback (most recent call last)",
      "Cell \u001b[1;32mIn[289], line 1\u001b[0m\n\u001b[1;32m----> 1\u001b[0m obj1\u001b[38;5;241m.\u001b[39mbgroup\n",
      "\u001b[1;31mAttributeError\u001b[0m: 'Enrollment' object has no attribute 'bgroup'"
     ]
    }
   ],
   "source": [
    "obj1.bgroup"
   ]
  },
  {
   "cell_type": "code",
   "execution_count": 291,
   "id": "0b9851af-0e0a-4909-a2a1-eb1b9d17e1eb",
   "metadata": {},
   "outputs": [
    {
     "name": "stdout",
     "output_type": "stream",
     "text": [
      "new attribute called bgroup is added\n"
     ]
    }
   ],
   "source": [
    "Enrollment.fx()"
   ]
  },
  {
   "cell_type": "code",
   "execution_count": 293,
   "id": "229dc588-27cb-4056-a769-eb5e469fb5b0",
   "metadata": {},
   "outputs": [
    {
     "data": {
      "text/plain": [
       "''"
      ]
     },
     "execution_count": 293,
     "metadata": {},
     "output_type": "execute_result"
    }
   ],
   "source": [
    "obj1.bgroup"
   ]
  },
  {
   "cell_type": "code",
   "execution_count": 295,
   "id": "b6b59bea-ae6f-4417-aae6-92e334459a34",
   "metadata": {},
   "outputs": [],
   "source": [
    "obj1.bgroup='A+'\n",
    "obj2.bgroup='AB+'"
   ]
  },
  {
   "cell_type": "code",
   "execution_count": 297,
   "id": "17fd503a-7043-47e2-a42b-f2c174e8e88c",
   "metadata": {},
   "outputs": [
    {
     "name": "stdout",
     "output_type": "stream",
     "text": [
      "A+ AB+\n"
     ]
    }
   ],
   "source": [
    "print(obj1.bgroup,obj2.bgroup)"
   ]
  },
  {
   "cell_type": "code",
   "execution_count": 299,
   "id": "d02835b6-7680-4eae-85a5-88be2e4b249f",
   "metadata": {},
   "outputs": [
    {
     "data": {
      "text/plain": [
       "['__class__',\n",
       " '__delattr__',\n",
       " '__dict__',\n",
       " '__dir__',\n",
       " '__doc__',\n",
       " '__eq__',\n",
       " '__format__',\n",
       " '__ge__',\n",
       " '__getattribute__',\n",
       " '__getstate__',\n",
       " '__gt__',\n",
       " '__hash__',\n",
       " '__init__',\n",
       " '__init_subclass__',\n",
       " '__le__',\n",
       " '__lt__',\n",
       " '__module__',\n",
       " '__ne__',\n",
       " '__new__',\n",
       " '__reduce__',\n",
       " '__reduce_ex__',\n",
       " '__repr__',\n",
       " '__setattr__',\n",
       " '__sizeof__',\n",
       " '__str__',\n",
       " '__subclasshook__',\n",
       " '__weakref__',\n",
       " 'bgroup',\n",
       " 'dob',\n",
       " 'ename',\n",
       " 'f1',\n",
       " 'f2',\n",
       " 'fx',\n",
       " 'place']"
      ]
     },
     "execution_count": 299,
     "metadata": {},
     "output_type": "execute_result"
    }
   ],
   "source": [
    "obj3 = Enrollment()\n",
    "dir(obj3) # To get list attributes - Note bgroup attribute is added."
   ]
  },
  {
   "cell_type": "code",
   "execution_count": null,
   "id": "aab70745-f134-44eb-b84b-f6d397640378",
   "metadata": {},
   "outputs": [],
   "source": [
    "Exception Handling\n",
    "-------------------\n",
    " |-> Logical Error \n",
    "\n",
    "try\n",
    "except\n",
    "else\n",
    "finally \n",
    "-----------//keywords\n",
    "\n",
    "try:\n",
    "    <code - monitor-basic operation>\n",
    "except <Exception_ClassName>:\n",
    "    <Handle this Exception>\n",
    "else:\n",
    "    <There is no Error>\n",
    "finally:\n",
    "    <Always running block>\n",
    "\n",
    "raise "
   ]
  },
  {
   "cell_type": "code",
   "execution_count": 301,
   "id": "1aec55f6-d93f-426c-8182-d618c41b4099",
   "metadata": {},
   "outputs": [
    {
     "name": "stdin",
     "output_type": "stream",
     "text": [
      "Enter n value: 15\n"
     ]
    },
    {
     "name": "stdout",
     "output_type": "stream",
     "text": [
      "(<class 'ValueError'>, ValueError('Sorry n value is not above 100'), <traceback object at 0x000001B768E78CC0>)\n",
      "test message:1\n",
      "test message:2\n",
      "test message:3\n",
      "test message:4\n",
      "End of the line\n"
     ]
    }
   ],
   "source": [
    "import sys\n",
    "\n",
    "try:\n",
    "    n = input('Enter n value:')\n",
    "    if(int(n) <100):\n",
    "        raise ValueError('Sorry n value is not above 100')\n",
    "except Exception:\n",
    "    print(sys.exc_info())\n",
    "else:\n",
    "    print(f'Given n value:{n} - {int(n)+100}')\n",
    "\n",
    "for v in [1,2,3,4]:\n",
    "    print('test message:'+str(v))\n",
    "\n",
    "print('End of the line')"
   ]
  },
  {
   "cell_type": "code",
   "execution_count": null,
   "id": "93b287ef-be2a-4a2c-8963-a5f20443a318",
   "metadata": {},
   "outputs": [],
   "source": [
    "with - keyword \n",
    "|->context manager \n",
    ">>>\n",
    ">>> wobj = open('r1.log','w')\n",
    ">>> wobj.write(\"Data1\\n\")\n",
    "6\n",
    ">>> wobj.close()\n",
    ">>>\n",
    ">>> with open('r2.log','w') as  wobj:\n",
    "...     wobj.write(\"Data1\\n\")\n",
    "...     wobj.write(\"Data2\\n\")\n",
    "...\n",
    "6\n",
    "6\n",
    ">>> with open('r2.log','r') as fobj:\n",
    "...     s = fobj.read()\n",
    "...     print(s)\n",
    "...\n",
    "Data1\n",
    "Data2\n",
    "\n",
    ">>> with open('r2.log','r') as fobj:\n",
    "...     L = fobj.readlines()\n",
    "...     print(L)\n",
    "...\n",
    "['Data1\\n', 'Data2\\n']\n",
    ">>>"
   ]
  }
 ],
 "metadata": {
  "kernelspec": {
   "display_name": "Python 3 (ipykernel)",
   "language": "python",
   "name": "python3"
  },
  "language_info": {
   "codemirror_mode": {
    "name": "ipython",
    "version": 3
   },
   "file_extension": ".py",
   "mimetype": "text/x-python",
   "name": "python",
   "nbconvert_exporter": "python",
   "pygments_lexer": "ipython3",
   "version": "3.12.3"
  }
 },
 "nbformat": 4,
 "nbformat_minor": 5
}
