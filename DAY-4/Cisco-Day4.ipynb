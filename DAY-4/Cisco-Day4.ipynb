{
 "cells": [
  {
   "cell_type": "code",
   "execution_count": 1,
   "id": "f761f893-fdfd-4233-aff8-4599b5513b47",
   "metadata": {},
   "outputs": [
    {
     "name": "stdout",
     "output_type": "stream",
     "text": [
      "[110, 120, 130, 140, 150]\n"
     ]
    }
   ],
   "source": [
    "def f1(a):\n",
    "    return a+100\n",
    "\n",
    "L = []\n",
    "\n",
    "for var in [10,20,30,40,50]:\n",
    "    r = f1(var)\n",
    "    L.append(r)\n",
    "\n",
    "print(L)"
   ]
  },
  {
   "cell_type": "code",
   "execution_count": 3,
   "id": "28cd6127-f517-4be7-9a40-319088cbfa2d",
   "metadata": {},
   "outputs": [
    {
     "data": {
      "text/plain": [
       "[110, 120, 130, 140, 150]"
      ]
     },
     "execution_count": 3,
     "metadata": {},
     "output_type": "execute_result"
    }
   ],
   "source": [
    "list(map(lambda a:a+100,[10,20,30,40,50]))"
   ]
  },
  {
   "cell_type": "code",
   "execution_count": null,
   "id": "367400c2-a2ca-4227-b316-b16f5b12c616",
   "metadata": {},
   "outputs": [],
   "source": [
    "lambda\n",
    "-------\n",
    "   -> python keyword\n",
    "   -> unnamed function -> functionCall with args ->returns a value\n",
    "   -> Syntax:-\n",
    "      lambda <list of args>:<basicOperation>"
   ]
  },
  {
   "cell_type": "code",
   "execution_count": 5,
   "id": "68ecf060-02b6-4238-8668-884fb449cf37",
   "metadata": {},
   "outputs": [
    {
     "data": {
      "text/plain": [
       "30"
      ]
     },
     "execution_count": 5,
     "metadata": {},
     "output_type": "execute_result"
    }
   ],
   "source": [
    "def f1(a1,a2):\n",
    "    return a1+a2\n",
    "\n",
    "f1(10,20) # named function call "
   ]
  },
  {
   "cell_type": "code",
   "execution_count": 9,
   "id": "ef5492c5-bd25-42cf-8ee8-988bd5793527",
   "metadata": {},
   "outputs": [
    {
     "data": {
      "text/plain": [
       "30"
      ]
     },
     "execution_count": 9,
     "metadata": {},
     "output_type": "execute_result"
    }
   ],
   "source": [
    "f2 = lambda a1,a2:a1+a2\n",
    "f2(10,20) # unnamed function call"
   ]
  },
  {
   "cell_type": "code",
   "execution_count": 11,
   "id": "483822de-40c5-4de8-820c-e259c9155b70",
   "metadata": {},
   "outputs": [
    {
     "data": {
      "text/plain": [
       "True"
      ]
     },
     "execution_count": 11,
     "metadata": {},
     "output_type": "execute_result"
    }
   ],
   "source": [
    "f3 = lambda a1:a1 >100\n",
    "f3(150)"
   ]
  },
  {
   "cell_type": "code",
   "execution_count": 13,
   "id": "d922ec90-094f-4895-99bc-7b1b15294a12",
   "metadata": {},
   "outputs": [
    {
     "data": {
      "text/plain": [
       "False"
      ]
     },
     "execution_count": 13,
     "metadata": {},
     "output_type": "execute_result"
    }
   ],
   "source": [
    "f3(50)"
   ]
  },
  {
   "cell_type": "code",
   "execution_count": 15,
   "id": "8e704ef8-95f3-4761-b89f-267e5aedf03e",
   "metadata": {},
   "outputs": [
    {
     "data": {
      "text/plain": [
       "True"
      ]
     },
     "execution_count": 15,
     "metadata": {},
     "output_type": "execute_result"
    }
   ],
   "source": [
    "f4 = lambda a:'sales' in a\n",
    "f4('101,raj,sales,pune,1000')"
   ]
  },
  {
   "cell_type": "code",
   "execution_count": 17,
   "id": "ff73cf7d-3faa-4203-a2a3-18d30759588b",
   "metadata": {},
   "outputs": [
    {
     "data": {
      "text/plain": [
       "'ABCD'"
      ]
     },
     "execution_count": 17,
     "metadata": {},
     "output_type": "execute_result"
    }
   ],
   "source": [
    "def F1(a):\n",
    "    return a.upper()\n",
    "\n",
    "F1('abcd')"
   ]
  },
  {
   "cell_type": "code",
   "execution_count": 19,
   "id": "8e7fc1fe-97f3-45f0-b4e9-b91941bdcb6b",
   "metadata": {},
   "outputs": [
    {
     "data": {
      "text/plain": [
       "'ABCD'"
      ]
     },
     "execution_count": 19,
     "metadata": {},
     "output_type": "execute_result"
    }
   ],
   "source": [
    "fx=lambda a:a.upper()\n",
    "fx('abcd')"
   ]
  },
  {
   "cell_type": "code",
   "execution_count": 21,
   "id": "7f685f39-35b6-45e2-b453-f0def95027b4",
   "metadata": {},
   "outputs": [],
   "source": [
    "def f6(a):\n",
    "    if(a >100 and a<200):\n",
    "        n = 150\n",
    "        return a+n\n",
    "    elif(a >500 and a<600):\n",
    "        n = 200\n",
    "        return a+n\n",
    "    elif(a >1000 and a <2000):\n",
    "        n = 500\n",
    "        return a+n\n",
    "    else:\n",
    "        n=10\n",
    "        return a+n"
   ]
  },
  {
   "cell_type": "code",
   "execution_count": 23,
   "id": "a9ecedeb-7206-4c99-b7db-1cb90f36003f",
   "metadata": {},
   "outputs": [
    {
     "data": {
      "text/plain": [
       "310"
      ]
     },
     "execution_count": 23,
     "metadata": {},
     "output_type": "execute_result"
    }
   ],
   "source": [
    "f7=lambda a1:f6(a1) # using lambda - we can invoke external functionCall\n",
    "f7(160)"
   ]
  },
  {
   "cell_type": "code",
   "execution_count": 25,
   "id": "06940e72-8a59-4ff7-91bf-dff9431556be",
   "metadata": {},
   "outputs": [
    {
     "data": {
      "text/plain": [
       "1750"
      ]
     },
     "execution_count": 25,
     "metadata": {},
     "output_type": "execute_result"
    }
   ],
   "source": [
    "f7(1250)"
   ]
  },
  {
   "cell_type": "code",
   "execution_count": 27,
   "id": "136b23c9-63a3-4433-8192-3d314c2f2809",
   "metadata": {},
   "outputs": [
    {
     "data": {
      "text/plain": [
       "760"
      ]
     },
     "execution_count": 27,
     "metadata": {},
     "output_type": "execute_result"
    }
   ],
   "source": [
    "f7(560)"
   ]
  },
  {
   "cell_type": "code",
   "execution_count": 29,
   "id": "5124609d-26e6-4a21-88a8-117d884596e6",
   "metadata": {},
   "outputs": [
    {
     "data": {
      "text/plain": [
       "[110, 120, 130, 140, 150]"
      ]
     },
     "execution_count": 29,
     "metadata": {},
     "output_type": "execute_result"
    }
   ],
   "source": [
    "# list comprehension - list append operation\n",
    "# |->  [final_value for iterable]\n",
    "#                   ----(1)---\n",
    "#      ----(2)----\n",
    "L = []\n",
    "for var in [10,20,30,40,50]:\n",
    "    r = var + 100\n",
    "    L.append(r)\n",
    "L"
   ]
  },
  {
   "cell_type": "code",
   "execution_count": 31,
   "id": "5e2aacf6-22ae-4a13-8010-5a512660fdf9",
   "metadata": {},
   "outputs": [
    {
     "data": {
      "text/plain": [
       "[110, 120, 130, 140, 150]"
      ]
     },
     "execution_count": 31,
     "metadata": {},
     "output_type": "execute_result"
    }
   ],
   "source": [
    "[var+100 for var in [10,20,30,40,50]]"
   ]
  },
  {
   "cell_type": "code",
   "execution_count": 33,
   "id": "d9e19d88-a22f-4f66-bc50-022aa8ba2899",
   "metadata": {},
   "outputs": [
    {
     "data": {
      "text/plain": [
       "[510, 520, 530, 140, 150]"
      ]
     },
     "execution_count": 33,
     "metadata": {},
     "output_type": "execute_result"
    }
   ],
   "source": [
    "# list comprehension - list append operation\n",
    "# |->  [final_value for iterable]\n",
    "#                   ----(1)---\n",
    "#      ----(2)----\n",
    "L = []\n",
    "for var in [10,20,30,40,50]:\n",
    "    if(var >30):\n",
    "        r = var + 100\n",
    "        L.append(r)\n",
    "    else:\n",
    "        r = var + 500\n",
    "        L.append(r)\n",
    "L"
   ]
  },
  {
   "cell_type": "code",
   "execution_count": 35,
   "id": "8116b698-0bf0-48b6-890f-bbfd93ffa54e",
   "metadata": {},
   "outputs": [
    {
     "data": {
      "text/plain": [
       "[510, 520, 530, 540, 550]"
      ]
     },
     "execution_count": 35,
     "metadata": {},
     "output_type": "execute_result"
    }
   ],
   "source": [
    "[var+100 if var>100 else var+500 for var in [10,20,30,40,50]]"
   ]
  },
  {
   "cell_type": "code",
   "execution_count": 41,
   "id": "db876eeb-96a9-43ac-bf56-b06ea0140aa1",
   "metadata": {},
   "outputs": [
    {
     "name": "stdout",
     "output_type": "stream",
     "text": [
      "0x7ff96bf25ad8 0x7ff96bf25ad8 0x7ff96bf25ad8 0x7ff96bf25ad8\n"
     ]
    }
   ],
   "source": [
    "a = 10\n",
    "b = 4+6\n",
    "c = 2+8\n",
    "print(hex(id(a)),hex(id(b)),hex(id(c)),hex(id(10)))"
   ]
  },
  {
   "cell_type": "code",
   "execution_count": 43,
   "id": "d3fd37ae-388e-4161-a788-32643d6d7ac0",
   "metadata": {},
   "outputs": [
    {
     "name": "stdout",
     "output_type": "stream",
     "text": [
      "0x7ff96bf350d8 0x7ff96bf350d8\n"
     ]
    }
   ],
   "source": [
    "s='abcab'    # s  | a | b | c | a | b |\n",
    "             #    | 0 | 1 | 2 | 3 | 4 | <== index\n",
    "             #     0x1 0x3    0x1  0x3\n",
    "\n",
    "print(hex(id(s[0])),hex(id(s[3])))"
   ]
  },
  {
   "cell_type": "code",
   "execution_count": 45,
   "id": "2b73b02d-df99-4247-b569-d569dc8c8b79",
   "metadata": {},
   "outputs": [
    {
     "data": {
      "text/plain": [
       "<str_ascii_iterator at 0x19247121d50>"
      ]
     },
     "execution_count": 45,
     "metadata": {},
     "output_type": "execute_result"
    }
   ],
   "source": [
    "iter(s)"
   ]
  },
  {
   "cell_type": "code",
   "execution_count": null,
   "id": "7e5e2a21-cf86-4d21-99f7-ee67ea19bae7",
   "metadata": {},
   "outputs": [],
   "source": [
    "# Open an address ->get a value\n",
    "# ---------------\n",
    "#   1. next(<iterator>) .... StopIteration\n",
    "#   2. typecast to list -> list(<iterator>)\n",
    "#   3. for loop "
   ]
  },
  {
   "cell_type": "code",
   "execution_count": 57,
   "id": "a4b0da56-54f4-4b8e-8a40-6f018aefef18",
   "metadata": {},
   "outputs": [
    {
     "name": "stdout",
     "output_type": "stream",
     "text": [
      "p\n",
      "y\n",
      "t\n",
      "h\n",
      "o\n",
      "n\n"
     ]
    },
    {
     "ename": "StopIteration",
     "evalue": "",
     "output_type": "error",
     "traceback": [
      "\u001b[1;31m---------------------------------------------------------------------------\u001b[0m",
      "\u001b[1;31mStopIteration\u001b[0m                             Traceback (most recent call last)",
      "Cell \u001b[1;32mIn[57], line 9\u001b[0m\n\u001b[0;32m      7\u001b[0m \u001b[38;5;28mprint\u001b[39m(\u001b[38;5;28mnext\u001b[39m(sobj))\n\u001b[0;32m      8\u001b[0m \u001b[38;5;28mprint\u001b[39m(\u001b[38;5;28mnext\u001b[39m(sobj))\n\u001b[1;32m----> 9\u001b[0m \u001b[38;5;28mprint\u001b[39m(\u001b[38;5;28mnext\u001b[39m(sobj))\n",
      "\u001b[1;31mStopIteration\u001b[0m: "
     ]
    }
   ],
   "source": [
    "s='python'\n",
    "sobj = iter(s)\n",
    "print(next(sobj))\n",
    "print(next(sobj))\n",
    "print(next(sobj))\n",
    "print(next(sobj))\n",
    "print(next(sobj))\n",
    "print(next(sobj))\n",
    "print(next(sobj))"
   ]
  },
  {
   "cell_type": "code",
   "execution_count": 59,
   "id": "5cba38dd-7ac4-4083-a091-f321691a5e9c",
   "metadata": {},
   "outputs": [
    {
     "data": {
      "text/plain": [
       "['p', 'y', 't', 'h', 'o', 'n']"
      ]
     },
     "execution_count": 59,
     "metadata": {},
     "output_type": "execute_result"
    }
   ],
   "source": [
    "s='python'\n",
    "sobj = iter(s)\n",
    "list(sobj) # typecast to list"
   ]
  },
  {
   "cell_type": "code",
   "execution_count": 61,
   "id": "c23716ae-2aec-41c0-a976-48cdb458cb3f",
   "metadata": {},
   "outputs": [
    {
     "name": "stdout",
     "output_type": "stream",
     "text": [
      "p\n",
      "y\n",
      "t\n",
      "h\n",
      "o\n",
      "n\n"
     ]
    }
   ],
   "source": [
    "s='python'\n",
    "sobj = iter(s)\n",
    "for var in sobj:\n",
    "    print(var)"
   ]
  },
  {
   "cell_type": "code",
   "execution_count": null,
   "id": "349598eb-766f-47ad-832d-c06eeb331e57",
   "metadata": {},
   "outputs": [],
   "source": [
    "Generator\n",
    "|->Function - returns an iterator(address)\n",
    "              ----------------------------// yield "
   ]
  },
  {
   "cell_type": "code",
   "execution_count": 69,
   "id": "39a27ff7-2464-41b4-9bc8-d8ace8e3964d",
   "metadata": {},
   "outputs": [
    {
     "name": "stdout",
     "output_type": "stream",
     "text": [
      "<class 'function'> <class 'function'>\n",
      "<class 'int'> <class 'generator'>\n"
     ]
    }
   ],
   "source": [
    "def fA():\n",
    "    return 10\n",
    "\n",
    "def fB():\n",
    "    yield 10\n",
    "\n",
    "print(type(fA),type(fB))\n",
    "print(type(fA()),type(fB()))"
   ]
  },
  {
   "cell_type": "code",
   "execution_count": 71,
   "id": "be175195-37e7-4e6d-893d-83cdfc45149f",
   "metadata": {},
   "outputs": [
    {
     "data": {
      "text/plain": [
       "10"
      ]
     },
     "execution_count": 71,
     "metadata": {},
     "output_type": "execute_result"
    }
   ],
   "source": [
    "def fA():\n",
    "    return 10 # exit from definition\n",
    "    print(\"Hello\") # this line won't execute\n",
    "\n",
    "fA()"
   ]
  },
  {
   "cell_type": "code",
   "execution_count": 73,
   "id": "b774a476-74c8-4398-bcb8-67241e8cc9e9",
   "metadata": {},
   "outputs": [
    {
     "data": {
      "text/plain": [
       "<generator object fB at 0x0000019249087E80>"
      ]
     },
     "execution_count": 73,
     "metadata": {},
     "output_type": "execute_result"
    }
   ],
   "source": [
    "def fB():\n",
    "    yield 10\n",
    "    print(\"Hello\")\n",
    "    yield 20\n",
    "    yield 30,40,50\n",
    "    yield \"D1\",[\"D2\",\"D3\"],[\"D4\",\"D5\"]\n",
    "\n",
    "fB()"
   ]
  },
  {
   "cell_type": "code",
   "execution_count": 75,
   "id": "9bb986b5-2104-477f-8974-ca2625ae0327",
   "metadata": {},
   "outputs": [
    {
     "name": "stdout",
     "output_type": "stream",
     "text": [
      "Hello\n"
     ]
    },
    {
     "data": {
      "text/plain": [
       "[10, 20, (30, 40, 50), ('D1', ['D2', 'D3'], ['D4', 'D5'])]"
      ]
     },
     "execution_count": 75,
     "metadata": {},
     "output_type": "execute_result"
    }
   ],
   "source": [
    "gobj = fB()\n",
    "list(gobj) # typecast to list"
   ]
  },
  {
   "cell_type": "code",
   "execution_count": 77,
   "id": "62a030a3-2555-444f-9729-9d8f09a49e99",
   "metadata": {},
   "outputs": [
    {
     "name": "stdout",
     "output_type": "stream",
     "text": [
      "10\n",
      "Hello\n",
      "20\n",
      "(30, 40, 50)\n",
      "('D1', ['D2', 'D3'], ['D4', 'D5'])\n"
     ]
    }
   ],
   "source": [
    "gobj = fB()\n",
    "for var in gobj:\n",
    "    print(var)"
   ]
  },
  {
   "cell_type": "code",
   "execution_count": 81,
   "id": "1e6238bf-69ef-46b7-8d23-906c3aec1512",
   "metadata": {},
   "outputs": [
    {
     "data": {
      "text/plain": [
       "['101,ram,sales,pune,1000\\n',\n",
       " '102,leo,prod,bglore,2000\\n',\n",
       " '103,anu,HR,hyd,3000\\n',\n",
       " '104,paul,sales,bglore,3200\\n',\n",
       " '423,zio,sales,pune,3420\\n',\n",
       " '142,anu,prod,chennai,4300\\n',\n",
       " '949,karthik,sales,bglore,3100\\n',\n",
       " '848,tom,hr,chennai,3940\\n',\n",
       " '931,vijay,prod,chennai,3411']"
      ]
     },
     "execution_count": 81,
     "metadata": {},
     "output_type": "execute_result"
    }
   ],
   "source": [
    "fobj = open('emp.csv','r')\n",
    "list(fobj) # typecast to list"
   ]
  },
  {
   "cell_type": "code",
   "execution_count": 83,
   "id": "994f29ac-b946-4cd9-81a0-bb2e37342cea",
   "metadata": {},
   "outputs": [
    {
     "name": "stdout",
     "output_type": "stream",
     "text": [
      "101,ram,sales,pune,1000\n",
      "102,leo,prod,bglore,2000\n",
      "103,anu,HR,hyd,3000\n",
      "104,paul,sales,bglore,3200\n",
      "423,zio,sales,pune,3420\n",
      "142,anu,prod,chennai,4300\n",
      "949,karthik,sales,bglore,3100\n",
      "848,tom,hr,chennai,3940\n",
      "931,vijay,prod,chennai,3411\n"
     ]
    }
   ],
   "source": [
    "fobj = open('emp.csv','r')\n",
    "for var in fobj:\n",
    "    print(var.strip())"
   ]
  },
  {
   "cell_type": "code",
   "execution_count": null,
   "id": "c04521a3-e33e-4c4c-8fd6-487eb57cd0df",
   "metadata": {},
   "outputs": [],
   "source": [
    "map  -----> map(function,Collection) -> <generator>\n",
    "Vs\n",
    "filter ---> filter(function,Collection) --><generator>"
   ]
  },
  {
   "cell_type": "markdown",
   "id": "9d4289dc-6395-49b3-9014-de086e920507",
   "metadata": {},
   "source": [
    "def f1(a):      <------    lambda a:a+100\n",
    "    return a+100 <-----\n",
    "\n",
    "L = []\n",
    "\n",
    "for var in [10,20,30,40,50]:\n",
    "    r = f1(var)  \n",
    "    L.append(r)  <--   list comprehension\n",
    "\n",
    "print(L)"
   ]
  },
  {
   "cell_type": "code",
   "execution_count": 85,
   "id": "eae05bb6-2c66-4071-b21b-9785117372af",
   "metadata": {},
   "outputs": [
    {
     "data": {
      "text/plain": [
       "<map at 0x192465ae320>"
      ]
     },
     "execution_count": 85,
     "metadata": {},
     "output_type": "execute_result"
    }
   ],
   "source": [
    "map(lambda a:a+100,[10,20,30,40,50])"
   ]
  },
  {
   "cell_type": "code",
   "execution_count": 87,
   "id": "10207378-5aff-4242-87f5-acc860fd38e9",
   "metadata": {},
   "outputs": [
    {
     "data": {
      "text/plain": [
       "[110, 120, 130, 140, 150]"
      ]
     },
     "execution_count": 87,
     "metadata": {},
     "output_type": "execute_result"
    }
   ],
   "source": [
    "map_obj = map(lambda a:a+100,[10,20,30,40,50])\n",
    "list(map_obj)"
   ]
  },
  {
   "cell_type": "code",
   "execution_count": 89,
   "id": "44d97043-b49a-40d5-a5e9-5c7b67c53f91",
   "metadata": {},
   "outputs": [
    {
     "name": "stdout",
     "output_type": "stream",
     "text": [
      "110\n",
      "120\n",
      "130\n",
      "140\n",
      "150\n"
     ]
    }
   ],
   "source": [
    "map_obj = map(lambda a:a+100,[10,20,30,40,50])\n",
    "for var in map_obj:\n",
    "    print(var)"
   ]
  },
  {
   "cell_type": "code",
   "execution_count": 93,
   "id": "e6387fbc-b7e2-4f88-a057-44bdf4435967",
   "metadata": {},
   "outputs": [
    {
     "data": {
      "text/plain": [
       "[110, 120, 130, 140, 150]"
      ]
     },
     "execution_count": 93,
     "metadata": {},
     "output_type": "execute_result"
    }
   ],
   "source": [
    "list(map(lambda a:a+100,[10,20,30,40,50]))"
   ]
  },
  {
   "cell_type": "code",
   "execution_count": 95,
   "id": "cf59efa2-fcf9-4746-90af-29077d693b85",
   "metadata": {},
   "outputs": [
    {
     "data": {
      "text/plain": [
       "{'K1': [110, 120, 130, 140, 150]}"
      ]
     },
     "execution_count": 95,
     "metadata": {},
     "output_type": "execute_result"
    }
   ],
   "source": [
    "d={}\n",
    "d['K1']=list(map(lambda a:a+100,[10,20,30,40,50]))\n",
    "d"
   ]
  },
  {
   "cell_type": "code",
   "execution_count": 97,
   "id": "72383527-57a3-4405-be36-190e5fd01094",
   "metadata": {},
   "outputs": [
    {
     "data": {
      "text/plain": [
       "['101,ram,sales,pune,1000\\n',\n",
       " '102,leo,prod,bglore,2000\\n',\n",
       " '103,anu,HR,hyd,3000\\n',\n",
       " '104,paul,sales,bglore,3200\\n',\n",
       " '423,zio,sales,pune,3420\\n',\n",
       " '142,anu,prod,chennai,4300\\n',\n",
       " '949,karthik,sales,bglore,3100\\n',\n",
       " '848,tom,hr,chennai,3940\\n',\n",
       " '931,vijay,prod,chennai,3411']"
      ]
     },
     "execution_count": 97,
     "metadata": {},
     "output_type": "execute_result"
    }
   ],
   "source": [
    "list(map(lambda a:a,open('emp.csv','r')))"
   ]
  },
  {
   "cell_type": "code",
   "execution_count": 99,
   "id": "86a1cb77-ddaa-4cbd-aa06-ea744f2e9cc1",
   "metadata": {},
   "outputs": [
    {
     "data": {
      "text/plain": [
       "{'CSV': ['101,ram,sales,pune,1000\\n',\n",
       "  '102,leo,prod,bglore,2000\\n',\n",
       "  '103,anu,HR,hyd,3000\\n',\n",
       "  '104,paul,sales,bglore,3200\\n',\n",
       "  '423,zio,sales,pune,3420\\n',\n",
       "  '142,anu,prod,chennai,4300\\n',\n",
       "  '949,karthik,sales,bglore,3100\\n',\n",
       "  '848,tom,hr,chennai,3940\\n',\n",
       "  '931,vijay,prod,chennai,3411']}"
      ]
     },
     "execution_count": 99,
     "metadata": {},
     "output_type": "execute_result"
    }
   ],
   "source": [
    "data_set={}\n",
    "data_set['CSV']=list(map(lambda a:a,open('emp.csv','r')))\n",
    "data_set"
   ]
  },
  {
   "cell_type": "code",
   "execution_count": 101,
   "id": "73c582d7-8d66-41e3-8bac-b0068ba0c6ce",
   "metadata": {},
   "outputs": [],
   "source": [
    "def fA(a):\n",
    "    if(a >100):\n",
    "        return True\n",
    "    else:\n",
    "        return False"
   ]
  },
  {
   "cell_type": "code",
   "execution_count": 103,
   "id": "7bce559e-e6d3-476a-bf08-601a9f09666f",
   "metadata": {},
   "outputs": [
    {
     "data": {
      "text/plain": [
       "[True, True, True, False, False]"
      ]
     },
     "execution_count": 103,
     "metadata": {},
     "output_type": "execute_result"
    }
   ],
   "source": [
    "L=list() # empty list\n",
    "for var in [150,200,250,50,80]:\n",
    "    r=fA(var)\n",
    "    L.append(r)\n",
    "L"
   ]
  },
  {
   "cell_type": "code",
   "execution_count": null,
   "id": "b6313495-b871-4b63-9d92-0d3dd8142ab1",
   "metadata": {},
   "outputs": [],
   "source": [
    ">>>\n",
    ">>> list(map(lambda a:a>100,[150,200,250,50,80]))\n",
    "[True, True, True, False, False]\n",
    ">>>\n",
    ">>> list(filter(lambda a:a>100,[150,200,250,50,80]))\n",
    "[150, 200, 250]\n",
    ">>>\n",
    ">>> list(map(lambda a:a+100,[150,200,250,50,80]))\n",
    "[250, 300, 350, 150, 180]\n",
    ">>>\n",
    ">>> list(filter(lambda a:a+100,[150,200,250,50,80]))\n",
    "[150, 200, 250, 50, 80]\n",
    ">>>\n"
   ]
  },
  {
   "cell_type": "code",
   "execution_count": 105,
   "id": "e5eaaac9-ff69-4610-b16a-ad720afab899",
   "metadata": {},
   "outputs": [
    {
     "name": "stdout",
     "output_type": "stream",
     "text": [
      "Help on class enumerate in module builtins:\n",
      "\n",
      "class enumerate(object)\n",
      " |  enumerate(iterable, start=0)\n",
      " |\n",
      " |  Return an enumerate object.\n",
      " |\n",
      " |    iterable\n",
      " |      an object supporting iteration\n",
      " |\n",
      " |  The enumerate object yields pairs containing a count (from start, which\n",
      " |  defaults to zero) and a value yielded by the iterable argument.\n",
      " |\n",
      " |  enumerate is useful for obtaining an indexed list:\n",
      " |      (0, seq[0]), (1, seq[1]), (2, seq[2]), ...\n",
      " |\n",
      " |  Methods defined here:\n",
      " |\n",
      " |  __getattribute__(self, name, /)\n",
      " |      Return getattr(self, name).\n",
      " |\n",
      " |  __iter__(self, /)\n",
      " |      Implement iter(self).\n",
      " |\n",
      " |  __next__(self, /)\n",
      " |      Implement next(self).\n",
      " |\n",
      " |  __reduce__(...)\n",
      " |      Return state information for pickling.\n",
      " |\n",
      " |  ----------------------------------------------------------------------\n",
      " |  Class methods defined here:\n",
      " |\n",
      " |  __class_getitem__(...)\n",
      " |      See PEP 585\n",
      " |\n",
      " |  ----------------------------------------------------------------------\n",
      " |  Static methods defined here:\n",
      " |\n",
      " |  __new__(*args, **kwargs)\n",
      " |      Create and return a new object.  See help(type) for accurate signature.\n",
      "\n"
     ]
    }
   ],
   "source": [
    "help(enumerate)"
   ]
  },
  {
   "cell_type": "code",
   "execution_count": 107,
   "id": "19faf01a-aabf-4161-b3f7-d2b975d5e91b",
   "metadata": {},
   "outputs": [
    {
     "data": {
      "text/plain": [
       "<enumerate at 0x19249110ea0>"
      ]
     },
     "execution_count": 107,
     "metadata": {},
     "output_type": "execute_result"
    }
   ],
   "source": [
    "enumerate('abcde')"
   ]
  },
  {
   "cell_type": "code",
   "execution_count": 109,
   "id": "4f677a90-a3e5-4bab-801f-473d8486c331",
   "metadata": {},
   "outputs": [
    {
     "name": "stdout",
     "output_type": "stream",
     "text": [
      "(0, 'a')\n",
      "(1, 'b')\n",
      "(2, 'c')\n",
      "(3, 'd')\n",
      "(4, 'e')\n"
     ]
    }
   ],
   "source": [
    "for var in enumerate('abcde'):\n",
    "    print(var)"
   ]
  },
  {
   "cell_type": "code",
   "execution_count": 111,
   "id": "8ad53890-b0bb-47ba-b779-8f7921c9f8a4",
   "metadata": {},
   "outputs": [
    {
     "name": "stdout",
     "output_type": "stream",
     "text": [
      "(1, 'a')\n",
      "(2, 'b')\n",
      "(3, 'c')\n",
      "(4, 'd')\n",
      "(5, 'e')\n"
     ]
    }
   ],
   "source": [
    "for var in enumerate('abcde',1):\n",
    "    print(var)"
   ]
  },
  {
   "cell_type": "code",
   "execution_count": 113,
   "id": "89b2688d-d484-490d-b619-e07e73d21313",
   "metadata": {},
   "outputs": [
    {
     "name": "stdout",
     "output_type": "stream",
     "text": [
      "(15, 'a')\n",
      "(16, 'b')\n",
      "(17, 'c')\n",
      "(18, 'd')\n",
      "(19, 'e')\n"
     ]
    }
   ],
   "source": [
    "for var in enumerate('abcde',15):\n",
    "    print(var)"
   ]
  },
  {
   "cell_type": "code",
   "execution_count": 117,
   "id": "ca7db4f2-d829-48b1-a2c2-9b46d0d4f48e",
   "metadata": {},
   "outputs": [
    {
     "name": "stdout",
     "output_type": "stream",
     "text": [
      "1 - 101,ram,sales,pune,1000\n",
      "2 - 102,leo,prod,bglore,2000\n",
      "3 - 103,anu,HR,hyd,3000\n",
      "4 - 104,paul,sales,bglore,3200\n",
      "5 - 423,zio,sales,pune,3420\n",
      "6 - 142,anu,prod,chennai,4300\n",
      "7 - 949,karthik,sales,bglore,3100\n",
      "8 - 848,tom,hr,chennai,3940\n",
      "9 - 931,vijay,prod,chennai,3411\n"
     ]
    }
   ],
   "source": [
    "for var in enumerate(open('emp.csv'),1):\n",
    "    line,value=var\n",
    "    print(f'{line} - {value.strip()}')"
   ]
  },
  {
   "cell_type": "code",
   "execution_count": 119,
   "id": "ff079063-939e-4a7e-803e-ba5d3459884e",
   "metadata": {},
   "outputs": [
    {
     "name": "stdout",
     "output_type": "stream",
     "text": [
      "1 - 101,ram,sales,pune,1000\n",
      "2 - 102,leo,prod,bglore,2000\n",
      "3 - 103,anu,HR,hyd,3000\n",
      "4 - 104,paul,sales,bglore,3200\n",
      "5 - 423,zio,sales,pune,3420\n",
      "6 - 142,anu,prod,chennai,4300\n",
      "7 - 949,karthik,sales,bglore,3100\n",
      "8 - 848,tom,hr,chennai,3940\n",
      "9 - 931,vijay,prod,chennai,3411\n"
     ]
    }
   ],
   "source": [
    "for line,value in enumerate(open('emp.csv'),1):\n",
    "    print(f'{line} - {value.strip()}')"
   ]
  },
  {
   "cell_type": "code",
   "execution_count": 121,
   "id": "72e36bd9-bab7-4024-b6ff-3d9dfea62a64",
   "metadata": {},
   "outputs": [
    {
     "name": "stdout",
     "output_type": "stream",
     "text": [
      "2 - 102,leo,prod,bglore,2000\n",
      "3 - 103,anu,HR,hyd,3000\n",
      "4 - 104,paul,sales,bglore,3200\n",
      "5 - 423,zio,sales,pune,3420\n"
     ]
    }
   ],
   "source": [
    "for line,value in enumerate(open('emp.csv'),1):\n",
    "    if(line >=2 and line <6):\n",
    "        print(f'{line} - {value.strip()}')"
   ]
  },
  {
   "cell_type": "code",
   "execution_count": 123,
   "id": "54aba923-e4ca-4c44-95b0-abc6cb1d1306",
   "metadata": {},
   "outputs": [
    {
     "name": "stdout",
     "output_type": "stream",
     "text": [
      "1 - 101,ram,sales,pune,1000\n",
      "6 - 142,anu,prod,chennai,4300\n",
      "7 - 949,karthik,sales,bglore,3100\n",
      "8 - 848,tom,hr,chennai,3940\n",
      "9 - 931,vijay,prod,chennai,3411\n"
     ]
    }
   ],
   "source": [
    "for line,value in enumerate(open('emp.csv'),1):\n",
    "    if not(line >=2 and line <6):  # ignore 2nd line to 5th line\n",
    "        print(f'{line} - {value.strip()}')"
   ]
  },
  {
   "cell_type": "markdown",
   "id": "3e3eae52-339d-4c67-8068-016008d3d9f6",
   "metadata": {},
   "source": [
    "# Task\n",
    "#---------\n",
    "Q1. using lambda modify the below codes\n",
    "    def f1(a):\n",
    "         return a.title()\n",
    "         \n",
    "Q2. using map(),filter() modify below codes\n",
    "    fobj = open('inputFile_CSV','r')\n",
    "    L=fobj.readlines()\n",
    "    fobj.close()\n",
    "    for var in L:\n",
    "        if('sales' in var):\n",
    "             L1 = var.split(',')\n",
    "             print(f'{L1[1]}\\t{L1[2]}')\n",
    "################################################################"
   ]
  },
  {
   "cell_type": "code",
   "execution_count": 125,
   "id": "2e63ce5d-6c73-4a9e-bf96-61fd08f17c85",
   "metadata": {},
   "outputs": [
    {
     "data": {
      "text/plain": [
       "'Abc'"
      ]
     },
     "execution_count": 125,
     "metadata": {},
     "output_type": "execute_result"
    }
   ],
   "source": [
    "fx = lambda a:a.title()\n",
    "fx('abc')"
   ]
  },
  {
   "cell_type": "code",
   "execution_count": 127,
   "id": "192c5e1f-3185-410e-9c17-3eda93c05fda",
   "metadata": {},
   "outputs": [
    {
     "data": {
      "text/plain": [
       "['101,ram,sales,pune,1000\\n',\n",
       " '104,paul,sales,bglore,3200\\n',\n",
       " '423,zio,sales,pune,3420\\n',\n",
       " '949,karthik,sales,bglore,3100\\n']"
      ]
     },
     "execution_count": 127,
     "metadata": {},
     "output_type": "execute_result"
    }
   ],
   "source": [
    "list(filter(lambda a:'sales' in a,open('emp.csv','r')))"
   ]
  },
  {
   "cell_type": "code",
   "execution_count": 137,
   "id": "53b3357d-99bb-4d0f-9224-83e5781a740c",
   "metadata": {},
   "outputs": [
    {
     "data": {
      "text/plain": [
       "[['ram', 'sales'], ['paul', 'sales'], ['zio', 'sales'], ['karthik', 'sales']]"
      ]
     },
     "execution_count": 137,
     "metadata": {},
     "output_type": "execute_result"
    }
   ],
   "source": [
    "list(map(lambda a1:a1.split(',')[1:3],filter(lambda a:'sales' in a,open('emp.csv','r'))))"
   ]
  },
  {
   "cell_type": "code",
   "execution_count": null,
   "id": "f300569f-1a05-48b3-b760-8938ab58e229",
   "metadata": {},
   "outputs": [],
   "source": [
    "regular expression - regx\n",
    "---------------------------\n",
    "  |-> search\n",
    "  |-> substitute\n",
    "  |-> split\n",
    "\n",
    "import re\n",
    "search\n",
    "------\n",
    "  |->re.search() -> re.search('pattern_string','input_string',re.I) -> <ack>/None "
   ]
  },
  {
   "cell_type": "code",
   "execution_count": 139,
   "id": "3099f5fd-6caf-4810-aa3e-6140c11943c1",
   "metadata": {},
   "outputs": [
    {
     "data": {
      "text/plain": [
       "<re.Match object; span=(8, 13), match='sales'>"
      ]
     },
     "execution_count": 139,
     "metadata": {},
     "output_type": "execute_result"
    }
   ],
   "source": [
    "import re\n",
    "re.search('sales','101,raj,sales,bglore')"
   ]
  },
  {
   "cell_type": "code",
   "execution_count": 141,
   "id": "c16627c7-4d37-43f2-956c-44291be9934f",
   "metadata": {},
   "outputs": [],
   "source": [
    "re.search('prod','101,raj,sales,bglore')"
   ]
  },
  {
   "cell_type": "code",
   "execution_count": 143,
   "id": "8d8b8d38-3ab4-4221-99b9-10f5bf4e9144",
   "metadata": {},
   "outputs": [
    {
     "name": "stdout",
     "output_type": "stream",
     "text": [
      "Yes pattern is found\n"
     ]
    }
   ],
   "source": [
    "if(re.search('sales','101,raj,sales,bglore')):\n",
    "    print('Yes pattern is found')\n",
    "else:\n",
    "    print('Sorry given pattern is not exists')"
   ]
  },
  {
   "cell_type": "code",
   "execution_count": 145,
   "id": "4cd836cc-e698-49f1-95e2-126fe945afcf",
   "metadata": {},
   "outputs": [
    {
     "name": "stdout",
     "output_type": "stream",
     "text": [
      "Sorry given pattern is not exists\n"
     ]
    }
   ],
   "source": [
    "if(re.search('prod','101,raj,sales,bglore')):\n",
    "    print('Yes pattern is found')\n",
    "else:\n",
    "    print('Sorry given pattern is not exists')"
   ]
  },
  {
   "cell_type": "code",
   "execution_count": 147,
   "id": "c74ccfe6-9237-45c1-a817-2ef5d0570a2e",
   "metadata": {},
   "outputs": [],
   "source": [
    "re.search('sales','101,Raj,SALES,pune,234')"
   ]
  },
  {
   "cell_type": "code",
   "execution_count": 149,
   "id": "b0e1b011-8f30-4e5c-86b4-db386c697d55",
   "metadata": {},
   "outputs": [
    {
     "data": {
      "text/plain": [
       "True"
      ]
     },
     "execution_count": 149,
     "metadata": {},
     "output_type": "execute_result"
    }
   ],
   "source": [
    "re.search('sales','101,Raj,SALES,pune,234') == None"
   ]
  },
  {
   "cell_type": "code",
   "execution_count": 151,
   "id": "40cb0b29-1a51-44bd-880f-98f8b9544669",
   "metadata": {},
   "outputs": [
    {
     "data": {
      "text/plain": [
       "<re.Match object; span=(8, 13), match='SALES'>"
      ]
     },
     "execution_count": 151,
     "metadata": {},
     "output_type": "execute_result"
    }
   ],
   "source": [
    "re.search('sales','101,Raj,SALES,pune,234',re.I) # Vs 'sales' in '101,Raj,SALES,pune' "
   ]
  },
  {
   "cell_type": "code",
   "execution_count": null,
   "id": "fc7edf54-b8b2-4e11-84a3-0ddf63df587d",
   "metadata": {},
   "outputs": [],
   "source": [
    "re.search('pattern_string','input_string',re.I) -> <ack>/None \n",
    "Vs\n",
    "re.findall('pattern_string','input_string',re.I) -> [matched_results] / [] "
   ]
  },
  {
   "cell_type": "code",
   "execution_count": 153,
   "id": "903594ff-0735-426b-adc3-82f380beeca8",
   "metadata": {},
   "outputs": [
    {
     "data": {
      "text/plain": [
       "['SALES']"
      ]
     },
     "execution_count": 153,
     "metadata": {},
     "output_type": "execute_result"
    }
   ],
   "source": [
    "re.findall('sales','101,Raj,SALES,pune,234',re.I) "
   ]
  },
  {
   "cell_type": "code",
   "execution_count": null,
   "id": "9663497a-41c4-4529-bc17-4d73d9796bfd",
   "metadata": {},
   "outputs": [],
   "source": [
    "Regx chars\n",
    "----------\n",
    " |->Basic Regular Expression (BRE) - Single Pattern match\n",
    " |->Extended Regular Expression (ERE) - Multiple Pattern match\n",
    "\n",
    " |->Basic Regular Expression (BRE) - Single Pattern match\n",
    "\n",
    "^  =>  ^pattern => line starts with pattern\n",
    "$  =>   pattern$ => line ends with pattern\n",
    "\n",
    "^pattern$ => pattern only style \n",
    "\n",
    ".(dot) => Match Any Single character - except \\n\n",
    "\n",
    ".* =>List of all"
   ]
  },
  {
   "cell_type": "code",
   "execution_count": 165,
   "id": "4fcb321d-a5c0-4210-8e75-ae028a791f3b",
   "metadata": {},
   "outputs": [
    {
     "name": "stdout",
     "output_type": "stream",
     "text": [
      "['sales']\n",
      "[]\n",
      "[]\n",
      "['About Python programming']\n",
      "[]\n"
     ]
    }
   ],
   "source": [
    "print(re.findall('^sales$','sales'))\n",
    "print(re.findall('^sales$','sales:'))\n",
    "print(re.findall('^sales$','sales '))\n",
    "print(re.findall('^About Python programming$','About Python programming'))\n",
    "print(re.findall('^About Python programming$','About Pythonprogramming'))"
   ]
  },
  {
   "cell_type": "code",
   "execution_count": 167,
   "id": "66d7dca4-aa3f-436f-be93-758ac257bb46",
   "metadata": {},
   "outputs": [
    {
     "data": {
      "text/plain": [
       "['app']"
      ]
     },
     "execution_count": 167,
     "metadata": {},
     "output_type": "execute_result"
    }
   ],
   "source": [
    "re.findall('^a..','application')"
   ]
  },
  {
   "cell_type": "code",
   "execution_count": 169,
   "id": "28da6a95-76fd-49b4-945b-0ed882cd4e89",
   "metadata": {},
   "outputs": [
    {
     "data": {
      "text/plain": [
       "['appl']"
      ]
     },
     "execution_count": 169,
     "metadata": {},
     "output_type": "execute_result"
    }
   ],
   "source": [
    "re.findall('^a...','application')"
   ]
  },
  {
   "cell_type": "code",
   "execution_count": 171,
   "id": "34fa70be-6c10-4df0-b157-0aab22dc3d05",
   "metadata": {},
   "outputs": [
    {
     "data": {
      "text/plain": [
       "['on']"
      ]
     },
     "execution_count": 171,
     "metadata": {},
     "output_type": "execute_result"
    }
   ],
   "source": [
    "re.findall('..$','application')"
   ]
  },
  {
   "cell_type": "code",
   "execution_count": 173,
   "id": "a4eb7fe5-a5f5-43e6-83d0-732985f6ba53",
   "metadata": {},
   "outputs": [
    {
     "name": "stdout",
     "output_type": "stream",
     "text": [
      "['About Python programming']\n",
      "['About-Python:programming']\n"
     ]
    }
   ],
   "source": [
    "print(re.findall('^About.Python.programming$','About Python programming'))\n",
    "print(re.findall('^About.Python.programming$','About-Python:programming'))"
   ]
  },
  {
   "cell_type": "code",
   "execution_count": 189,
   "id": "11a60951-8238-4c26-a739-89313747c72b",
   "metadata": {},
   "outputs": [
    {
     "name": "stdout",
     "output_type": "stream",
     "text": [
      "['About-Python:programming']\n",
      "[]\n",
      "['About-Python']\n",
      "['About-Python:programming']\n",
      "[]\n",
      "['About-Python:programming']\n"
     ]
    }
   ],
   "source": [
    "print(re.findall('^About.*','About-Python:programming'))\n",
    "print(re.findall('^About.*python','About-Python:programming'))\n",
    "print(re.findall('^About.*python','About-Python:programming',re.I))\n",
    "print(re.findall('^About.*python.*','About-Python:programming',re.I))\n",
    "print(re.findall('^About.*python.*d$','About-Python:programming',re.I))\n",
    "#Vs\n",
    "print(re.findall('^About.*python.*g$','About-Python:programming',re.I))"
   ]
  },
  {
   "cell_type": "markdown",
   "id": "d222e934-17f1-4a82-8083-c9d25b2d2ac4",
   "metadata": {},
   "source": [
    "character based search [] <== character class\n",
    "---------------------- --\n",
    "[] <== 1 char\n",
    "\n",
    "[Aav]run  ---> Arun arun vrun //OK\n",
    "[Aa][Rr]un --->ARun Arun aRun arun //OK\n",
    "[sale] ---> Single Char 's' 'a' 'l' 'e'   => re.search('[sale]','rhl7') ->OK"
   ]
  },
  {
   "cell_type": "code",
   "execution_count": 199,
   "id": "bb12fc92-36ae-4277-a393-0f2500c560f4",
   "metadata": {},
   "outputs": [
    {
     "name": "stdout",
     "output_type": "stream",
     "text": [
      "['l']\n",
      "['l7']\n",
      "[]\n"
     ]
    }
   ],
   "source": [
    "print(re.findall('[sale]','rhl7'))\n",
    "print(re.findall('[sale].','rhl7')) # s<Char> a<char> l<char> e<Char>\n",
    "print(re.findall('[sale].','rhL7e')) # s<CHAR> ... e<CHAR>"
   ]
  },
  {
   "cell_type": "code",
   "execution_count": null,
   "id": "5b2929da-1bc7-47d9-ba62-56d517a281a4",
   "metadata": {},
   "outputs": [],
   "source": [
    "[0-9] ->any digits <- \\d\n",
    "[a-z] ->any lowercase chars \n",
    "[A-Z] ->any uppercase chars\n",
    "[a-zA-Z] ->any alpha \n",
    "[a-zA-Z0-9] ->any alpha numeric <- \\w \n",
    "\n",
    "re.search('^[A-Za-z].*[0-9]$',Input_String)\n",
    "\n",
    "[ab5] -> match 'a' (or) 'b' (or) '5' -> OK\n",
    "^[ab5] ->match line starts with 'a'    -> aix asfdasfs //OK\n",
    "         match line starts with 'b'    -> basfasffsaf //OK\n",
    "         match line starts with '5     -> 5afsffssda//OK\n",
    "\n",
    "[^ab5] ->NOT Matching 'a' 'b' '5'"
   ]
  },
  {
   "cell_type": "code",
   "execution_count": 201,
   "id": "821318a4-9eb7-4ee1-9194-43b3454df984",
   "metadata": {},
   "outputs": [
    {
     "data": {
      "text/plain": [
       "[':', ',', '-']"
      ]
     },
     "execution_count": 201,
     "metadata": {},
     "output_type": "execute_result"
    }
   ],
   "source": [
    "s='root:x,bin-sh'\n",
    "re.findall('[^a-zA-Z0-9]',s) # Not matching any alpha and numeric "
   ]
  },
  {
   "cell_type": "code",
   "execution_count": 209,
   "id": "e57a6e79-3d48-4686-b585-d9a4bc2bb7f5",
   "metadata": {},
   "outputs": [
    {
     "name": "stderr",
     "output_type": "stream",
     "text": [
      "<>:1: SyntaxWarning: invalid escape sequence '\\w'\n",
      "<>:1: SyntaxWarning: invalid escape sequence '\\w'\n",
      "C:\\Users\\theeba\\AppData\\Local\\Temp\\ipykernel_13204\\1104734755.py:1: SyntaxWarning: invalid escape sequence '\\w'\n",
      "  re.findall('[^\\w]',s) # same as re.findall('[^a-zA-Z0-9]',s)\n"
     ]
    },
    {
     "data": {
      "text/plain": [
       "[':', ',', '-']"
      ]
     },
     "execution_count": 209,
     "metadata": {},
     "output_type": "execute_result"
    }
   ],
   "source": [
    "re.findall('[^\\w]',s) # same as re.findall('[^a-zA-Z0-9]',s) \n",
    "                      # Not matching any alpha and numeric "
   ]
  },
  {
   "cell_type": "code",
   "execution_count": null,
   "id": "aa313670-9bff-4ca5-aef2-4fd83d8c179e",
   "metadata": {},
   "outputs": [],
   "source": [
    "space chars -> \\s \n",
    "empty line -> ^$ "
   ]
  },
  {
   "cell_type": "code",
   "execution_count": null,
   "id": "d3f667aa-ec19-4b37-b819-dbfb7d2a29d3",
   "metadata": {},
   "outputs": [],
   "source": [
    "ERE\n",
    "----\n",
    "| () + {}\n",
    "\n",
    "pattern1|pattern2 - any one pattern is matched (any where) ->OK\n",
    "\n",
    "re.search('sales|QA','raj,sales,pune') ->OK\n",
    "\n",
    "(pattern1)(pattern2) - both pattern should match same order \n",
    "                     - like logical and \n",
    "                         \n",
    "re.search('(sales)(pune)','raj,sales,pune') ->Not matched\n",
    "re.search('(pune)(sales)','raj,sales,pune') ->Not matched\n",
    "re.search('(sales).(pune)','raj,sales,pune') ->Match\n",
    "\n",
    "<Pattern>+  <== 1 or more times\n",
    "ab+c  => abc abbbbbbbbbbbbbbbbbbbbbbbbbbbbbc //OK\n",
    "           abbbbbbbbbb,bbbbbbbbbbc //Not-Matched \n",
    "\n",
    "'^\\s+[0-9]$'  <== starts with 1 or more space ends with any digits\n",
    "\n",
    "ab{2}c => abbc //OK\n",
    "ab{2,}c ==>abbc abbbbbbbbbbbbbbbbbbbc  \n",
    "\n",
    "ab+c same as ab{1,}c \n",
    "ab{2,4}c ==============> abbc abbbc abbbbc //OK"
   ]
  },
  {
   "cell_type": "code",
   "execution_count": null,
   "id": "d6acc0b2-90c9-4f63-bf83-8d7c812fead9",
   "metadata": {},
   "outputs": [],
   "source": [
    "# regular expression substitute operation\n",
    "# ---------------------------------------\n",
    "re.sub('oldPattern','replaceString','inputString',count,re.I) -> str"
   ]
  },
  {
   "cell_type": "code",
   "execution_count": 211,
   "id": "36dd8579-a42a-47ab-be21-1513e0b57cbb",
   "metadata": {},
   "outputs": [
    {
     "name": "stdout",
     "output_type": "stream",
     "text": [
      "Help on function sub in module re:\n",
      "\n",
      "sub(pattern, repl, string, count=0, flags=0)\n",
      "    Return the string obtained by replacing the leftmost\n",
      "    non-overlapping occurrences of the pattern in string by the\n",
      "    replacement repl.  repl can be either a string or a callable;\n",
      "    if a string, backslash escapes in it are processed.  If it is\n",
      "    a callable, it's passed the Match object and must return\n",
      "    a replacement string to be used.\n",
      "\n"
     ]
    }
   ],
   "source": [
    "help(re.sub)"
   ]
  },
  {
   "cell_type": "code",
   "execution_count": 213,
   "id": "b36e7de6-3de2-45e4-af8a-5faf903baa82",
   "metadata": {},
   "outputs": [
    {
     "data": {
      "text/plain": [
       "'101,raj,QA,bglore,2000'"
      ]
     },
     "execution_count": 213,
     "metadata": {},
     "output_type": "execute_result"
    }
   ],
   "source": [
    "s='101,raj,sales,bglore,2000'\n",
    "re.sub('sales','QA',s)"
   ]
  },
  {
   "cell_type": "code",
   "execution_count": 215,
   "id": "895b45ee-7ce3-4d65-a302-02d16efe8f89",
   "metadata": {},
   "outputs": [
    {
     "data": {
      "text/plain": [
       "'101,raj,sales,bglore,2000'"
      ]
     },
     "execution_count": 215,
     "metadata": {},
     "output_type": "execute_result"
    }
   ],
   "source": [
    "re.sub('prod','QA',s)"
   ]
  },
  {
   "cell_type": "code",
   "execution_count": 217,
   "id": "ca51e991-0ff3-4393-b820-d0affdd44dfd",
   "metadata": {},
   "outputs": [
    {
     "data": {
      "text/plain": [
       "'QA,x:QA:y:QA:z:QA'"
      ]
     },
     "execution_count": 217,
     "metadata": {},
     "output_type": "execute_result"
    }
   ],
   "source": [
    "re.sub('sales','QA','sales,x:sales:y:sales:z:sales')\n",
    "# default substitute is global substitute"
   ]
  },
  {
   "cell_type": "code",
   "execution_count": 219,
   "id": "bd49af63-2e33-408a-a5c4-394da852de0c",
   "metadata": {},
   "outputs": [
    {
     "data": {
      "text/plain": [
       "'QA,x:sales:y:sales:z:sales'"
      ]
     },
     "execution_count": 219,
     "metadata": {},
     "output_type": "execute_result"
    }
   ],
   "source": [
    "re.sub('sales','QA','sales,x:sales:y:sales:z:sales',1)"
   ]
  },
  {
   "cell_type": "code",
   "execution_count": 221,
   "id": "f924e0f5-da1e-4e76-9a4a-d03a12456dd9",
   "metadata": {},
   "outputs": [
    {
     "data": {
      "text/plain": [
       "'Sales,x:QA:y:sales:z:sales'"
      ]
     },
     "execution_count": 221,
     "metadata": {},
     "output_type": "execute_result"
    }
   ],
   "source": [
    "re.sub('sales','QA','Sales,x:sales:y:sales:z:sales',1)"
   ]
  },
  {
   "cell_type": "code",
   "execution_count": 223,
   "id": "84b51b40-aa73-4c36-94b4-4da9d1983ce4",
   "metadata": {},
   "outputs": [
    {
     "data": {
      "text/plain": [
       "'QA,x:sales:y:sales:z:sales'"
      ]
     },
     "execution_count": 223,
     "metadata": {},
     "output_type": "execute_result"
    }
   ],
   "source": [
    "re.sub('sales','QA','Sales,x:sales:y:sales:z:sales',1,re.I)"
   ]
  },
  {
   "cell_type": "code",
   "execution_count": 227,
   "id": "36bcb77b-98b4-4b69-8b02-7d09a045e1d4",
   "metadata": {},
   "outputs": [
    {
     "name": "stdout",
     "output_type": "stream",
     "text": [
      "101,raj,,pune,1000\n",
      "101,raj,pune,1000\n"
     ]
    }
   ],
   "source": [
    "s='101,raj,sales,pune,1000'\n",
    "print(re.sub('sales','',s)) # remove the word sales\n",
    "print(re.sub('sales.','',s)) # remove the sales<Char>"
   ]
  },
  {
   "cell_type": "code",
   "execution_count": 237,
   "id": "0c173f8c-05f7-4200-bfad-ba1037cfc329",
   "metadata": {},
   "outputs": [
    {
     "data": {
      "text/plain": [
       "'120'"
      ]
     },
     "execution_count": 237,
     "metadata": {},
     "output_type": "execute_result"
    }
   ],
   "source": [
    "s='120Gb'\n",
    "re.sub('[A-Za-z]','',s)"
   ]
  },
  {
   "cell_type": "code",
   "execution_count": 239,
   "id": "f15391c1-4e20-40e0-a8dc-e32818312547",
   "metadata": {},
   "outputs": [
    {
     "name": "stdout",
     "output_type": "stream",
     "text": [
      "120\n",
      "100\n",
      "200\n",
      "300\n",
      "150\n"
     ]
    }
   ],
   "source": [
    "used_size = ['120G','100GB','200g','300','150Gb']\n",
    "\n",
    "# calculate sum of used_size\n",
    "\n",
    "total = 0\n",
    "for var in used_size:\n",
    "    print(re.sub('[A-Za-z]','',var)) # delete all the alpha\n",
    "    "
   ]
  },
  {
   "cell_type": "code",
   "execution_count": 245,
   "id": "2a061db8-861b-4f5e-a526-debe0357bcb5",
   "metadata": {},
   "outputs": [
    {
     "name": "stdout",
     "output_type": "stream",
     "text": [
      "Sum of used_size: 870 GB\n"
     ]
    }
   ],
   "source": [
    "used_size = ['120G','100GB','200g','300','150Gb']\n",
    "\n",
    "# calculate sum of used_size\n",
    "\n",
    "total = 0\n",
    "for var in used_size:\n",
    "    s=re.sub('[A-Za-z]','',var) # delete all the alpha\n",
    "    total = total + int(s)\n",
    "else:\n",
    "    print(f'Sum of used_size: {total} GB')"
   ]
  },
  {
   "cell_type": "code",
   "execution_count": 249,
   "id": "45036f1c-6e08-4e7e-a851-d885849d2c59",
   "metadata": {},
   "outputs": [
    {
     "data": {
      "text/plain": [
       "['data1', 'data2,data3']"
      ]
     },
     "execution_count": 249,
     "metadata": {},
     "output_type": "execute_result"
    }
   ],
   "source": [
    "s='data1:data2:data3'\n",
    "s.split(':')\n",
    "s='data1:data2,data3'\n",
    "s.split(':')\n",
    "# Regx split\n",
    "#\n",
    "# re.split('regxPattern',input_String) ->list_output\n"
   ]
  },
  {
   "cell_type": "code",
   "execution_count": 257,
   "id": "0ba8ff51-1e22-46da-a097-353a095b66f9",
   "metadata": {},
   "outputs": [
    {
     "name": "stdout",
     "output_type": "stream",
     "text": [
      "[':', ',', '-', '(', ')']\n",
      "data1|data2|data3|data4|data5|data6\n"
     ]
    },
    {
     "data": {
      "text/plain": [
       "['data1', 'data2', 'data3', 'data4', 'data5', 'data6']"
      ]
     },
     "execution_count": 257,
     "metadata": {},
     "output_type": "execute_result"
    }
   ],
   "source": [
    "s='data1:data2,data3-data4(data5)data6'\n",
    "\n",
    "print(re.findall('[^a-zA-Z0-9]',s)) # matching all the specialchars\n",
    "\n",
    "print(re.sub('[^a-zA-Z0-9]','|',s)) # replace all the specialchars ->|\n",
    "\n",
    "re.split('[^a-zA-Z0-9]',s) # split -> multiple values  Vs s.split(SingleChar)"
   ]
  },
  {
   "cell_type": "code",
   "execution_count": 259,
   "id": "7b775bf5-f990-469a-9807-d94a5e4a4f00",
   "metadata": {},
   "outputs": [
    {
     "name": "stdout",
     "output_type": "stream",
     "text": [
      "101,ram,sales,pune,1000\n",
      "104,paul,sales,bglore,3200\n",
      "423,zio,sales,pune,3420\n",
      "949,karthik,sales,bglore,3100\n"
     ]
    }
   ],
   "source": [
    "# To demonstrate findstr,grep command operations\n",
    "# 1. open an existing file - read a content - line by line\n",
    "# 2. search a pattern \n",
    "# 3. display matched pattern line only\n",
    "\n",
    "fobj = open('emp.csv','r')\n",
    "for var in fobj:\n",
    "    var=var.strip() # remove \\n\n",
    "    if(re.search('sales',var)): \n",
    "        print(var)    \n",
    "fobj.close()"
   ]
  },
  {
   "cell_type": "code",
   "execution_count": 261,
   "id": "39428170-f6ab-49ae-beb2-751a5d8d4602",
   "metadata": {},
   "outputs": [
    {
     "name": "stdout",
     "output_type": "stream",
     "text": [
      "101,ram,QA,pune,1000\n",
      "102,leo,prod,bglore,2000\n",
      "103,anu,HR,hyd,3000\n",
      "104,paul,QA,bglore,3200\n",
      "423,zio,QA,pune,3420\n",
      "142,anu,prod,chennai,4300\n",
      "949,karthik,QA,bglore,3100\n",
      "848,tom,hr,chennai,3940\n",
      "931,vijay,prod,chennai,3411\n"
     ]
    }
   ],
   "source": [
    "fobj = open('emp.csv','r')\n",
    "for var in fobj:\n",
    "    var=var.strip() # remove \\n\n",
    "    result = re.sub('sales','QA',var)\n",
    "    print(result)\n",
    "fobj.close()"
   ]
  },
  {
   "cell_type": "code",
   "execution_count": 263,
   "id": "811dd55f-48bd-4169-86f5-ac2cb6e10cab",
   "metadata": {},
   "outputs": [
    {
     "name": "stdout",
     "output_type": "stream",
     "text": [
      "101,ram,QA,pune,1000\n",
      "104,paul,QA,bglore,3200\n",
      "423,zio,QA,pune,3420\n",
      "949,karthik,QA,bglore,3100\n"
     ]
    }
   ],
   "source": [
    "fobj = open('emp.csv','r')\n",
    "for var in fobj:\n",
    "    var=var.strip() # remove \\n\n",
    "    if(re.search('sales',var)): # search a pattern \n",
    "        result = re.sub('sales','QA',var) # replace matched pattern only\n",
    "        print(result) # display replaced results\n",
    "fobj.close()"
   ]
  },
  {
   "cell_type": "code",
   "execution_count": 267,
   "id": "c7aa7990-f1d6-4cff-962d-e81f662881c7",
   "metadata": {},
   "outputs": [
    {
     "name": "stdout",
     "output_type": "stream",
     "text": [
      "<class 'dict'>\n"
     ]
    }
   ],
   "source": [
    "import json\n",
    "\n",
    "netinfo={'interface':['lo','eth0','eth1','eth2'],\n",
    "         'Type':['dhcp','static'],\n",
    "         'onboot':['yes','no']}\n",
    "\n",
    "print(type(netinfo))"
   ]
  },
  {
   "cell_type": "code",
   "execution_count": 269,
   "id": "420debfb-aa69-4964-a5de-bc1daed4ec48",
   "metadata": {},
   "outputs": [
    {
     "data": {
      "text/plain": [
       "'{\"interface\": [\"lo\", \"eth0\", \"eth1\", \"eth2\"], \"Type\": [\"dhcp\", \"static\"], \"onboot\": [\"yes\", \"no\"]}'"
      ]
     },
     "execution_count": 269,
     "metadata": {},
     "output_type": "execute_result"
    }
   ],
   "source": [
    "json.dumps(netinfo) # from python -> to json"
   ]
  },
  {
   "cell_type": "code",
   "execution_count": 271,
   "id": "c4800bc3-0542-4b1a-94cc-b85542b50593",
   "metadata": {},
   "outputs": [
    {
     "data": {
      "text/plain": [
       "'{\\n  \"interface\": [\\n    \"lo\",\\n    \"eth0\",\\n    \"eth1\",\\n    \"eth2\"\\n  ],\\n  \"Type\": [\\n    \"dhcp\",\\n    \"static\"\\n  ],\\n  \"onboot\": [\\n    \"yes\",\\n    \"no\"\\n  ]\\n}'"
      ]
     },
     "execution_count": 271,
     "metadata": {},
     "output_type": "execute_result"
    }
   ],
   "source": [
    "json.dumps(netinfo,indent=2)"
   ]
  },
  {
   "cell_type": "code",
   "execution_count": 275,
   "id": "0ee8336c-7d68-4c00-a6a6-4bcd67bb3648",
   "metadata": {},
   "outputs": [
    {
     "name": "stdout",
     "output_type": "stream",
     "text": [
      "{\n",
      "     \"interface\": [\n",
      "          \"lo\",\n",
      "          \"eth0\",\n",
      "          \"eth1\",\n",
      "          \"eth2\"\n",
      "     ],\n",
      "     \"Type\": [\n",
      "          \"dhcp\",\n",
      "          \"static\"\n",
      "     ],\n",
      "     \"onboot\": [\n",
      "          \"yes\",\n",
      "          \"no\"\n",
      "     ]\n",
      "}\n"
     ]
    }
   ],
   "source": [
    "print(json.dumps(netinfo,indent=5))"
   ]
  },
  {
   "cell_type": "code",
   "execution_count": 277,
   "id": "d1b8927e-f5bb-4ad0-a791-dc19e9cabc95",
   "metadata": {},
   "outputs": [
    {
     "data": {
      "text/plain": [
       "{'interface': ['lo', 'eth0', 'eth1', 'eth2'],\n",
       " 'Type': ['dhcp', 'static'],\n",
       " 'onboot': ['yes', 'no']}"
      ]
     },
     "execution_count": 277,
     "metadata": {},
     "output_type": "execute_result"
    }
   ],
   "source": [
    "jd = json.dumps(netinfo,indent=5)\n",
    "\n",
    "pd = json.loads(jd) # from json to python\n",
    "pd"
   ]
  },
  {
   "cell_type": "code",
   "execution_count": 279,
   "id": "9dd82708-9738-4e85-8d31-bc99dd6d7b90",
   "metadata": {},
   "outputs": [
    {
     "data": {
      "text/plain": [
       "{'interface': ['lo', 'eth0', 'eth1', 'eth2'],\n",
       " 'Type': ['dhcp', 'static'],\n",
       " 'onboot': ['yes', 'no']}"
      ]
     },
     "execution_count": 279,
     "metadata": {},
     "output_type": "execute_result"
    }
   ],
   "source": [
    "netinfo"
   ]
  },
  {
   "cell_type": "code",
   "execution_count": 281,
   "id": "7175f257-4bac-449d-9faa-2b3e08abf586",
   "metadata": {},
   "outputs": [],
   "source": [
    "# We can write our python str -> json_file\n",
    "\n",
    "wobj = open('test.json','w')\n",
    "json.dump(netinfo,wobj) \n",
    "wobj.close()"
   ]
  },
  {
   "cell_type": "code",
   "execution_count": 283,
   "id": "1a81511b-2b97-48ba-a2f6-fcd3bfa22e96",
   "metadata": {},
   "outputs": [
    {
     "data": {
      "text/plain": [
       "{'interface': ['lo', 'eth0', 'eth1', 'eth2'],\n",
       " 'Type': ['dhcp', 'static'],\n",
       " 'onboot': ['yes', 'no']}"
      ]
     },
     "execution_count": 283,
     "metadata": {},
     "output_type": "execute_result"
    }
   ],
   "source": [
    "# read json file to python_Struct\n",
    "\n",
    "fobj = open('test.json','r')\n",
    "pd = json.load(fobj) # read json ->python\n",
    "fobj.close()\n",
    "pd"
   ]
  },
  {
   "cell_type": "code",
   "execution_count": null,
   "id": "8e8aa89d-70d4-4582-8058-ee0021d38d1b",
   "metadata": {},
   "outputs": [],
   "source": [
    "              Req\n",
    "Client -------->-----------webserver----------------->serverCode --->\n",
    "        ----------------<----------------------------------------------\n",
    "                          Response \n",
    "                              |-> WebPage Response - Content-Type:text/html\n",
    "                              |-> Data Response - Content-Type:Application/json \n",
    "\n",
    "import requests\n",
    "\n",
    "requests.get(URL) ->statusCode \n",
    "                    != 200 ->download is failed\n",
    "headers ->web header info //dict format\n",
    "text ->property_attribute "
   ]
  },
  {
   "cell_type": "code",
   "execution_count": 285,
   "id": "321e931a-ea39-4d90-b605-f61208b5b58d",
   "metadata": {},
   "outputs": [
    {
     "data": {
      "text/plain": [
       "<Response [200]>"
      ]
     },
     "execution_count": 285,
     "metadata": {},
     "output_type": "execute_result"
    }
   ],
   "source": [
    "import requests\n",
    "requests.get('https://www.google.com')"
   ]
  },
  {
   "cell_type": "code",
   "execution_count": 287,
   "id": "48dfd05a-5543-4811-807a-4f9d343d92d9",
   "metadata": {},
   "outputs": [
    {
     "data": {
      "text/plain": [
       "200"
      ]
     },
     "execution_count": 287,
     "metadata": {},
     "output_type": "execute_result"
    }
   ],
   "source": [
    "r = requests.get('https://www.google.com')\n",
    "r.status_code"
   ]
  },
  {
   "cell_type": "code",
   "execution_count": 289,
   "id": "a763c39b-7c73-4526-80db-f8cbb58bdb81",
   "metadata": {},
   "outputs": [
    {
     "data": {
      "text/plain": [
       "{'Date': 'Mon, 16 Dec 2024 09:31:21 GMT', 'Expires': '-1', 'Cache-Control': 'private, max-age=0', 'Content-Type': 'text/html; charset=ISO-8859-1', 'Content-Security-Policy-Report-Only': \"object-src 'none';base-uri 'self';script-src 'nonce-C3JvK2m4Z2N6KMvPUeJ-nA' 'strict-dynamic' 'report-sample' 'unsafe-eval' 'unsafe-inline' https: http:;report-uri https://csp.withgoogle.com/csp/gws/other-hp\", 'Accept-CH': 'Sec-CH-Prefers-Color-Scheme', 'P3P': 'CP=\"This is not a P3P policy! See g.co/p3phelp for more info.\"', 'Content-Encoding': 'gzip', 'Server': 'gws', 'X-XSS-Protection': '0', 'X-Frame-Options': 'SAMEORIGIN', 'Set-Cookie': 'AEC=AZ6Zc-XIMjo0mvMo0x0xAekeH1uzmpXlkJ9tpIROJg-7sFsVA2Mmjv-RSg; expires=Sat, 14-Jun-2025 09:31:21 GMT; path=/; domain=.google.com; Secure; HttpOnly; SameSite=lax, NID=520=Nua4bqbSvrVUEA_7XANFgI6Qojf29VCN-j3Stc4R5nyAwI8SSNN7bPXFjkNdHtuLZjzv8X6LbDTtuuczzMch8J9CpLcaMkq-ju2pDG6TqIF_AVGgr3Wj6kZRXmdTVkCrLVEIQyHUxIiKsoG82yYjDYKdRFB529onOKQTo2_kEI53oy2h8SucznOk58YQcb-W5YPp; expires=Tue, 17-Jun-2025 09:31:21 GMT; path=/; domain=.google.com; HttpOnly', 'Alt-Svc': 'h3=\":443\"; ma=2592000,h3-29=\":443\"; ma=2592000', 'Transfer-Encoding': 'chunked'}"
      ]
     },
     "execution_count": 289,
     "metadata": {},
     "output_type": "execute_result"
    }
   ],
   "source": [
    "r.headers"
   ]
  },
  {
   "cell_type": "code",
   "execution_count": 293,
   "id": "df87cc70-3739-485e-9f7c-c14206b4730c",
   "metadata": {},
   "outputs": [
    {
     "name": "stdout",
     "output_type": "stream",
     "text": [
      "<class 'str'> 21836\n"
     ]
    }
   ],
   "source": [
    "s = r.text\n",
    "print(type(s),len(s))"
   ]
  },
  {
   "cell_type": "code",
   "execution_count": 295,
   "id": "c5f66007-3541-468d-b36c-fd1da72cebec",
   "metadata": {},
   "outputs": [],
   "source": [
    "with open('test.html','w') as wobj:\n",
    "    wobj.write(s)"
   ]
  },
  {
   "cell_type": "code",
   "execution_count": 297,
   "id": "8fe60132-e25a-466f-9706-a23ba1ffa929",
   "metadata": {},
   "outputs": [
    {
     "data": {
      "text/plain": [
       "bytes"
      ]
     },
     "execution_count": 297,
     "metadata": {},
     "output_type": "execute_result"
    }
   ],
   "source": [
    "type(r.content)"
   ]
  },
  {
   "cell_type": "code",
   "execution_count": 301,
   "id": "028288a0-6b1e-41f4-a058-17b1dd9210d2",
   "metadata": {},
   "outputs": [
    {
     "data": {
      "text/plain": [
       "200"
      ]
     },
     "execution_count": 301,
     "metadata": {},
     "output_type": "execute_result"
    }
   ],
   "source": [
    "r = requests.get('https://api.github.com/users/hadley/orgs')\n",
    "r.status_code"
   ]
  },
  {
   "cell_type": "code",
   "execution_count": 303,
   "id": "925b3982-1e0e-4c93-8e59-13ad71bb23af",
   "metadata": {},
   "outputs": [
    {
     "data": {
      "text/plain": [
       "{'Date': 'Mon, 16 Dec 2024 09:36:14 GMT', 'Content-Type': 'application/json; charset=utf-8', 'Cache-Control': 'public, max-age=60, s-maxage=60', 'Vary': 'Accept,Accept-Encoding, Accept, X-Requested-With', 'ETag': 'W/\"61f25e2a55611f7eaf75a20ed5fe501245c5af99bc383854f5442975318fad26\"', 'X-GitHub-Media-Type': 'github.v3; format=json', 'x-github-api-version-selected': '2022-11-28', 'Access-Control-Expose-Headers': 'ETag, Link, Location, Retry-After, X-GitHub-OTP, X-RateLimit-Limit, X-RateLimit-Remaining, X-RateLimit-Used, X-RateLimit-Resource, X-RateLimit-Reset, X-OAuth-Scopes, X-Accepted-OAuth-Scopes, X-Poll-Interval, X-GitHub-Media-Type, X-GitHub-SSO, X-GitHub-Request-Id, Deprecation, Sunset', 'Access-Control-Allow-Origin': '*', 'Strict-Transport-Security': 'max-age=31536000; includeSubdomains; preload', 'X-Frame-Options': 'deny', 'X-Content-Type-Options': 'nosniff', 'X-XSS-Protection': '0', 'Referrer-Policy': 'origin-when-cross-origin, strict-origin-when-cross-origin', 'Content-Security-Policy': \"default-src 'none'\", 'Content-Encoding': 'gzip', 'Server': 'github.com', 'X-RateLimit-Limit': '60', 'X-RateLimit-Remaining': '57', 'X-RateLimit-Reset': '1734344870', 'X-RateLimit-Resource': 'core', 'X-RateLimit-Used': '3', 'Accept-Ranges': 'bytes', 'Content-Length': '1008', 'X-GitHub-Request-Id': '4FC6:86429:E3A815:116AE8E:675FF48B'}"
      ]
     },
     "execution_count": 303,
     "metadata": {},
     "output_type": "execute_result"
    }
   ],
   "source": [
    "r.headers"
   ]
  },
  {
   "cell_type": "code",
   "execution_count": 305,
   "id": "71bb5a31-e97e-46c4-b282-9f65eaa198df",
   "metadata": {},
   "outputs": [],
   "source": [
    "jd = r.text"
   ]
  },
  {
   "cell_type": "code",
   "execution_count": 307,
   "id": "753cb142-65ae-453d-ae79-c4470b2955b0",
   "metadata": {},
   "outputs": [
    {
     "name": "stdout",
     "output_type": "stream",
     "text": [
      "<class 'list'> 10\n"
     ]
    }
   ],
   "source": [
    "pd = json.loads(jd) # from json to python \n",
    "print(type(pd),len(pd))"
   ]
  },
  {
   "cell_type": "code",
   "execution_count": 311,
   "id": "1dc78788-ad4e-4496-a5db-2380ee014d27",
   "metadata": {},
   "outputs": [
    {
     "data": {
      "text/plain": [
       "dict_keys(['login', 'id', 'node_id', 'url', 'repos_url', 'events_url', 'hooks_url', 'issues_url', 'members_url', 'public_members_url', 'avatar_url', 'description'])"
      ]
     },
     "execution_count": 311,
     "metadata": {},
     "output_type": "execute_result"
    }
   ],
   "source": [
    "type(pd[0])\n",
    "pd[0].keys()"
   ]
  },
  {
   "cell_type": "code",
   "execution_count": 315,
   "id": "b57856f2-b43a-4c64-ac14-d5c2c6224e0e",
   "metadata": {},
   "outputs": [
    {
     "name": "stdout",
     "output_type": "stream",
     "text": [
      "ggobi\n",
      "MDEyOk9yZ2FuaXphdGlvbjQyMzYzOA==\n"
     ]
    }
   ],
   "source": [
    "print(pd[0]['login']) # list of dict\n",
    "print(pd[0]['node_id']) # list of dict"
   ]
  },
  {
   "cell_type": "code",
   "execution_count": 317,
   "id": "6901d405-c13a-4b4c-99cb-ca814b19d8c5",
   "metadata": {},
   "outputs": [
    {
     "name": "stdout",
     "output_type": "stream",
     "text": [
      "{'avatar_url': 'https://avatars.githubusercontent.com/u/423638?v=4',\n",
      " 'description': '',\n",
      " 'events_url': 'https://api.github.com/orgs/ggobi/events',\n",
      " 'hooks_url': 'https://api.github.com/orgs/ggobi/hooks',\n",
      " 'id': 423638,\n",
      " 'issues_url': 'https://api.github.com/orgs/ggobi/issues',\n",
      " 'login': 'ggobi',\n",
      " 'members_url': 'https://api.github.com/orgs/ggobi/members{/member}',\n",
      " 'node_id': 'MDEyOk9yZ2FuaXphdGlvbjQyMzYzOA==',\n",
      " 'public_members_url': 'https://api.github.com/orgs/ggobi/public_members{/member}',\n",
      " 'repos_url': 'https://api.github.com/orgs/ggobi/repos',\n",
      " 'url': 'https://api.github.com/orgs/ggobi'}\n"
     ]
    }
   ],
   "source": [
    "import pprint\n",
    "pprint.pprint(pd[0])"
   ]
  },
  {
   "cell_type": "code",
   "execution_count": 319,
   "id": "ff249267-54f2-409f-81ce-78d8eba67401",
   "metadata": {},
   "outputs": [],
   "source": [
    "def fx(url):\n",
    "    '''download url content'''\n",
    "    r = requests.get(url)\n",
    "    if(r.status_code != 200):\n",
    "        print('download/requests is failed')\n",
    "        return 0\n",
    "    if('text/html' in r.headers['Content-Type']):\n",
    "        print('response is webpage response')\n",
    "    elif('application/json' in r.headers['Content-Type']):\n",
    "        print('data - response')\n",
    "        jd = r.text\n",
    "        pd = json.loads(jd)\n",
    "        # ."
   ]
  },
  {
   "cell_type": "code",
   "execution_count": 321,
   "id": "705bcaef-bd46-401b-a518-5674c2ff0572",
   "metadata": {},
   "outputs": [
    {
     "name": "stdout",
     "output_type": "stream",
     "text": [
      "response is webpage response\n"
     ]
    }
   ],
   "source": [
    "fx('https://www.python.org')"
   ]
  },
  {
   "cell_type": "code",
   "execution_count": 323,
   "id": "93a0ed68-8a92-4e79-97f1-17297bf40d4b",
   "metadata": {},
   "outputs": [
    {
     "name": "stdout",
     "output_type": "stream",
     "text": [
      "data - response\n"
     ]
    }
   ],
   "source": [
    "fx('https://api.github.com/users/hadley/repos')"
   ]
  },
  {
   "cell_type": "markdown",
   "id": "59eba31d-51aa-41be-a3b9-4bdd60b8f740",
   "metadata": {},
   "source": [
    "webscraping\n",
    " - extract (or) parse the data from webPage(<html>...</html>)\n",
    " |\n",
    " |->bs4 module\n",
    "     |->html.Tag - parsing\n",
    "     |  <or>\n",
    "     |->find() / find_all() "
   ]
  },
  {
   "cell_type": "code",
   "execution_count": 325,
   "id": "545fabf5-65c6-4271-8b17-6a560cde90ff",
   "metadata": {},
   "outputs": [
    {
     "name": "stdout",
     "output_type": "stream",
     "text": [
      "<!doctype html><html itemscope=\"\" itemtype=\"http://schema.org/WebPage\" lang=\"en-IN\"><head><meta content=\"text/html; charset=UTF-8\" http-equiv=\"Content-Type\"><meta content=\"/images/branding/googleg/1x/googleg_standard_color_128dp.png\" itemprop=\"image\"><title>Google</title><script nonce=\"gq7JY5STxA6m8tv0Ibe0tg\">(function(){var _g={kEI:'w_9fZ4mwMcrX1sQPwsmDgQk',kEXPI:'0,808881,2891394,164,510,435,447881,648,90132,2872,2891,8348,64702,360901,45786,106001,60264,7734,26,18647,22310,283,3,9421,19569,11106,15977,5203197,10477,582,5992272,2842485,5,79,3,9,1,2,5,2,10,63,2,2,21,20,53202049,10336,10736,29943,54102,22622,15165,8181,5929,43501,21668,6756,23879,9139,4599,328,4459,1766,2949,3817,16641,6,2871,1706,5634,687,7850,22,11462,6976,3544,1133,208,13708,49,8156,3292,2794,1340,8139,9672,3494,33,4678,4363,1174,16493,10667,4144,11980,2380,3,2,11175,41,2950,8932,1757,1,1517,3413,30,579,1202,728,1051,1,2326,352,7796,5,1,190,2739,951,99,559,804,1444,4292,913,304,4653,1579,1518,2056,263,316,1982,881,2884,417,29,1562,1784,2,2395,130,1379,83,2174,183,555,4721,2360,886,105,1123,2030,2175,2466,897,1108,105,951,417,127,2018,488,2,443,375,335,233,281,56,27,7,970,28,545,1,1598,14,235,512,617,14,1,1426,451,3,172,4,2,405,3,558,495,1626,304,866,620,245,132,3129,459,204,3,306,369,2,413,5,4,4,4,530,158,529,35,880,177,404,258,111,513,33,641,9,48,346,143,562,4,244,748,160,642,93,268,539,354,55,211,312,37,408,56,1,215,1,604,880,54,527,493,8,867,167,166,648,2,3241,638,48,22,23,27,10,557,3,15,452,608,89,135,43,41,754,668,1,139,25,305,224,208,319,55,826,200,252,142,256,346,217,6,28,217,252,78,3,358,375,118,517,569,5,11,191,423,5,1177,32,347,2033,20992365,397115,18,2004,1478,868,5240,40,159,554,1774,8,1993,72,3,1202,603,12,5986024',kBL:'uFU3',kOPI:89978449};(function(){var a;((a=window.google)==null?0:a.stvsc)?google.kEI=_g.kEI:window.google=_g;}).call(this);})();(function(){google.sn='webhp';google.kHL='en-IN';})();(function(){\n",
      "var g=this||self;function k(){return window.google&&window.google.kOPI||null};var l,m=[];function n(a){for(var b;a&&(!a.getAttribute||!(b=a.getAttribute(\"eid\")));)a=a.parentNode;return b||l}function p(a){for(var b=null;a&&(!a.getAttribute||!(b=a.getAttribute(\"leid\")));)a=a.parentNode;return b}function q(a){/^http:/i.test(a)&&window.location.protocol===\"https:\"&&(google.ml&&google.ml(Error(\"a\"),!1,{src:a,glmm:1}),a=\"\");return a}\n",
      "function r(a,b,d,c,h){var e=\"\";b.search(\"&ei=\")===-1&&(e=\"&ei=\"+n(c),b.search(\"&lei=\")===-1&&(c=p(c))&&(e+=\"&lei=\"+c));var f=b.search(\"&cshid=\")===-1&&a!==\"slh\";c=\"&zx=\"+Date.now().toString();g._cshid&&f&&(c+=\"&cshid=\"+g._cshid);(d=d())&&(c+=\"&opi=\"+d);return\"/\"+(h||\"gen_204\")+\"?atyp=i&ct=\"+String(a)+\"&cad=\"+(b+e+c)};l=google.kEI;google.getEI=n;google.getLEI=p;google.ml=function(){return null};google.log=function(a,b,d,c,h,e){e=e===void 0?k:e;d||(d=r(a,b,e,c,h));if(d=q(d)){a=new Image;var f=m.length;m[f]=a;a.onerror=a.onload=a.onabort=function(){delete m[f]};a.src=d}};google.logUrl=function(a,b){b=b===void 0?k:b;return r(\"\",a,b)};}).call(this);(function(){google.y={};google.sy=[];var d;(d=google).x||(d.x=function(a,b){if(a)var c=a.id;else{do c=Math.random();while(google.y[c])}google.y[c]=[a,b];return!1});var e;(e=google).sx||(e.sx=function(a){google.sy.push(a)});google.lm=[];var f;(f=google).plm||(f.plm=function(a){google.lm.push.apply(google.lm,a)});google.lq=[];var g;(g=google).load||(g.load=function(a,b,c){google.lq.push([[a],b,c])});var h;(h=google).loadAll||(h.loadAll=function(a,b){google.lq.push([a,b])});google.bx=!1;var k;(k=google).lx||(k.lx=function(){});var l=[],m;(m=google).fce||(m.fce=function(a,b,c,n){l.push([a,b,c,n])});google.qce=l;}).call(this);google.f={};(function(){\n",
      "document.documentElement.addEventListener(\"submit\",function(b){var a;if(a=b.target){var c=a.getAttribute(\"data-submitfalse\");a=c===\"1\"||c===\"q\"&&!a.elements.q.value?!0:!1}else a=!1;a&&(b.preventDefault(),b.stopPropagation())},!0);document.documentElement.addEventListener(\"click\",function(b){var a;a:{for(a=b.target;a&&a!==document.documentElement;a=a.parentElement)if(a.tagName===\"A\"){a=a.getAttribute(\"data-nohref\")===\"1\";break a}a=!1}a&&b.preventDefault()},!0);}).call(this);</script><style>#gbar,#guser{font-size:13px;padding-top:1px !important;}#gbar{height:22px}#guser{padding-bottom:7px !important;text-align:right}.gbh,.gbd{border-top:1px solid #c9d7f1;font-size:1px}.gbh{height:0;position:absolute;top:24px;width:100%}@media all{.gb1{height:22px;margin-right:.5em;vertical-align:top}#gbar{float:left}}a.gb1,a.gb4{text-decoration:underline !important}a.gb1,a.gb4{color:#00c !important}.gbi .gb4{color:#dd8e27 !important}.gbf .gb4{color:#900 !important}\n",
      "</style><style>body,td,a,p,.h{font-family:arial,sans-serif}body{margin:0;overflow-y:scroll}#gog{padding:3px 8px 0}td{line-height:.8em}.gac_m td{line-height:17px}form{margin-bottom:20px}.h{color:#1967d2}em{font-weight:bold;font-style:normal}.lst{height:25px;width:496px}.gsfi,.lst{font:18px arial,sans-serif}.gsfs{font:17px arial,sans-serif}.ds{display:inline-box;display:inline-block;margin:3px 0 4px;margin-left:4px}input{font-family:inherit}body{background:#fff;color:#000}a{color:#681da8;text-decoration:none}a:hover,a:active{text-decoration:underline}.fl a{color:#1967d2}a:visited{color:#681da8}.sblc{padding-top:5px}.sblc a{display:block;margin:2px 0;margin-left:13px;font-size:11px}.lsbb{background:#f8f9fa;border:solid 1px;border-color:#dadce0 #70757a #70757a #dadce0;height:30px}.lsbb{display:block}#WqQANb a{display:inline-block;margin:0 12px}.lsb{background:url(/images/nav_logo229.png) 0 -261px repeat-x;color:#000;border:none;cursor:pointer;height:30px;margin:0;outline:0;font:15px arial,sans-serif;vertical-align:top}.lsb:active{background:#dadce0}.lst:focus{outline:none}</style><script nonce=\"gq7JY5STxA6m8tv0Ibe0tg\">(function(){window.google.erd={jsr:1,bv:2132,de:true,dpf:'ilqPA0gbpnR36-VYkbwExh4blb4QDKG_znPTDxrBqbg'};\n",
      "var g=this||self;var k,l=(k=g.mei)!=null?k:1,m,p=(m=g.diel)!=null?m:0,q,r=(q=g.sdo)!=null?q:!0,t=0,u,w=google.erd,x=w.jsr;google.ml=function(a,b,d,n,e){e=e===void 0?2:e;b&&(u=a&&a.message);d===void 0&&(d={});d.cad=\"ple_\"+google.ple+\".aple_\"+google.aple;if(google.dl)return google.dl(a,e,d,!0),null;b=d;if(x<0){window.console&&console.error(a,b);if(x===-2)throw a;b=!1}else b=!a||!a.message||a.message===\"Error loading script\"||t>=l&&!n?!1:!0;if(!b)return null;t++;d=d||{};b=encodeURIComponent;var c=\"/gen_204?atyp=i&ei=\"+b(google.kEI);google.kEXPI&&(c+=\"&jexpid=\"+b(google.kEXPI));c+=\"&srcpg=\"+b(google.sn)+\"&jsr=\"+b(w.jsr)+\n",
      "\"&bver=\"+b(w.bv);w.dpf&&(c+=\"&dpf=\"+b(w.dpf));var f=a.lineNumber;f!==void 0&&(c+=\"&line=\"+f);var h=a.fileName;h&&(h.indexOf(\"-extension:/\")>0&&(e=3),c+=\"&script=\"+b(h),f&&h===window.location.href&&(f=document.documentElement.outerHTML.split(\"\\n\")[f],c+=\"&cad=\"+b(f?f.substring(0,300):\"No script found.\")));google.ple&&google.ple===1&&(e=2);c+=\"&jsel=\"+e;for(var v in d)c+=\"&\",c+=b(v),c+=\"=\",c+=b(d[v]);c=c+\"&emsg=\"+b(a.name+\": \"+a.message);c=c+\"&jsst=\"+b(a.stack||\"N/A\");c.length>=12288&&(c=c.substr(0,12288));a=c;n||google.log(0,\"\",a);return a};window.onerror=function(a,b,d,n,e){u!==a&&(a=e instanceof Error?e:Error(a),d===void 0||\"lineNumber\"in a||(a.lineNumber=d),b===void 0||\"fileName\"in a||(a.fileName=b),google.ml(a,!1,void 0,!1,a.name===\"SyntaxError\"||a.message.substring(0,11)===\"SyntaxError\"||a.message.indexOf(\"Script error\")!==-1?3:p));u=null;r&&t>=l&&(window.onerror=null)};})();</script></head><body bgcolor=\"#fff\"><script nonce=\"gq7JY5STxA6m8tv0Ibe0tg\">(function(){var src='/images/nav_logo229.png';var iesg=false;document.body.onload = function(){window.n && window.n();if (document.images){new Image().src=src;}\n",
      "if (!iesg){document.f&&document.f.q.focus();document.gbqf&&document.gbqf.q.focus();}\n",
      "}\n",
      "})();</script><div id=\"mngb\"><div id=gbar><nobr><b class=gb1>Search</b> <a class=gb1 href=\"https://www.google.com/imghp?hl=en&tab=wi\">Images</a> <a class=gb1 href=\"https://maps.google.co.in/maps?hl=en&tab=wl\">Maps</a> <a class=gb1 href=\"https://play.google.com/?hl=en&tab=w8\">Play</a> <a class=gb1 href=\"https://www.youtube.com/?tab=w1\">YouTube</a> <a class=gb1 href=\"https://news.google.com/?tab=wn\">News</a> <a class=gb1 href=\"https://mail.google.com/mail/?tab=wm\">Gmail</a> <a class=gb1 href=\"https://drive.google.com/?tab=wo\">Drive</a> <a class=gb1 style=\"text-decoration:none\" href=\"https://www.google.co.in/intl/en/about/products?tab=wh\"><u>More</u> &raquo;</a></nobr></div><div id=guser width=100%><nobr><span id=gbn class=gbi></span><span id=gbf class=gbf></span><span id=gbe></span><a href=\"http://www.google.co.in/history/optout?hl=en\" class=gb4>Web History</a> | <a  href=\"/preferences?hl=en\" class=gb4>Settings</a> | <a target=_top id=gb_70 href=\"https://accounts.google.com/ServiceLogin?hl=en&passive=true&continue=https://www.google.com/&ec=GAZAAQ\" class=gb4>Sign in</a></nobr></div><div class=gbh style=left:0></div><div class=gbh style=right:0></div></div><center><br clear=\"all\" id=\"lgpd\"><div id=\"XjhHGf\"><img alt=\"Google\" height=\"92\" src=\"/images/branding/googlelogo/1x/googlelogo_white_background_color_272x92dp.png\" style=\"padding:28px 0 14px\" width=\"272\" id=\"hplogo\"><br><br></div><form action=\"/search\" name=\"f\"><table cellpadding=\"0\" cellspacing=\"0\"><tr valign=\"top\"><td width=\"25%\">&nbsp;</td><td align=\"center\" nowrap=\"\"><input name=\"ie\" value=\"ISO-8859-1\" type=\"hidden\"><input value=\"en-IN\" name=\"hl\" type=\"hidden\"><input name=\"source\" type=\"hidden\" value=\"hp\"><input name=\"biw\" type=\"hidden\"><input name=\"bih\" type=\"hidden\"><div class=\"ds\" style=\"height:32px;margin:4px 0\"><input class=\"lst\" style=\"margin:0;padding:5px 8px 0 6px;vertical-align:top;color:#000\" autocomplete=\"off\" value=\"\" title=\"Google Search\" maxlength=\"2048\" name=\"q\" size=\"57\"></div><br style=\"line-height:0\"><span class=\"ds\"><span class=\"lsbb\"><input class=\"lsb\" value=\"Google Search\" name=\"btnG\" type=\"submit\"></span></span><span class=\"ds\"><span class=\"lsbb\"><input class=\"lsb\" id=\"tsuid_w_9fZ4mwMcrX1sQPwsmDgQk_1\" value=\"I'm Feeling Lucky\" name=\"btnI\" type=\"submit\"><script nonce=\"gq7JY5STxA6m8tv0Ibe0tg\">(function(){var id='tsuid_w_9fZ4mwMcrX1sQPwsmDgQk_1';document.getElementById(id).onclick = function(){if (this.form.q.value){this.checked = 1;if (this.form.iflsig)this.form.iflsig.disabled = false;}\n",
      "else top.location='/doodles/';};})();</script><input value=\"AL9hbdgAAAAAZ2AN04er8cv5yadOq8ia6yUf2TtHQKon\" name=\"iflsig\" type=\"hidden\"></span></span></td><td class=\"fl sblc\" align=\"left\" nowrap=\"\" width=\"25%\"><a href=\"/advanced_search?hl=en-IN&amp;authuser=0\">Advanced search</a></td></tr></table><input id=\"gbv\" name=\"gbv\" type=\"hidden\" value=\"1\"><script nonce=\"gq7JY5STxA6m8tv0Ibe0tg\">(function(){var a,b=\"1\";if(document&&document.getElementById)if(typeof XMLHttpRequest!=\"undefined\")b=\"2\";else if(typeof ActiveXObject!=\"undefined\"){var c,d,e=[\"MSXML2.XMLHTTP.6.0\",\"MSXML2.XMLHTTP.3.0\",\"MSXML2.XMLHTTP\",\"Microsoft.XMLHTTP\"];for(c=0;d=e[c++];)try{new ActiveXObject(d),b=\"2\"}catch(h){}}a=b;if(a==\"2\"&&location.search.indexOf(\"&gbv=2\")==-1){var f=google.gbvu,g=document.getElementById(\"gbv\");g&&(g.value=a);f&&window.setTimeout(function(){location.href=f},0)};}).call(this);</script></form><div style=\"font-size:83%;min-height:3.5em\"><br><div id=\"K7FuCf\"><style>.U8K5Lc{font-size:small;margin-bottom:32px}.U8K5Lc a.qDTOof{display:inline-block;text-decoration:none}.U8K5Lc img{border:none;margin-right:5px;vertical-align:middle}</style><div class=\"U8K5Lc\" data-ved=\"0ahUKEwjJnaajiayKAxXKq5UCHcLkIJAQnIcBCAU\"><span>Get qualified for in-demand jobs with </span><a href=\"https://www.google.com/url?q=https://grow.google/intl/en_in/certificates/%3Futm_source%3Dgoogle%26utm_medium%3Dhpp%26utm_campaign%3Dapac-hpp-eoy__geo--APAC%26utm_content%3Din-eoy-hpp&amp;source=hpp&amp;id=19045954&amp;ct=3&amp;usg=AOvVaw3MMaybRejE3nznUBRA8B4V&amp;sa=X&amp;ved=0ahUKEwjJnaajiayKAxXKq5UCHcLkIJAQ8IcBCAY\" rel=\"nofollow\">Google Career Certificates</a></div></div><div id=\"gws-output-pages-elements-homepage_additional_languages__als\"><style>#gws-output-pages-elements-homepage_additional_languages__als{font-size:small;margin-bottom:24px}#SIvCob{color:#474747;display:inline-block;line-height:28px;}#SIvCob a{padding:0 3px;}.H6sW5{display:inline-block;margin:0 2px;white-space:nowrap}.z4hgWe{display:inline-block;margin:0 2px}</style><div id=\"SIvCob\">Google offered in:  <a href=\"https://www.google.com/setprefs?sig=0_aM_NISHB9LgAwe7QrZvf9pzW-to%3D&amp;hl=hi&amp;source=homepage&amp;sa=X&amp;ved=0ahUKEwjJnaajiayKAxXKq5UCHcLkIJAQ2ZgBCAg\">&#2361;&#2367;&#2344;&#2381;&#2342;&#2368;</a>    <a href=\"https://www.google.com/setprefs?sig=0_aM_NISHB9LgAwe7QrZvf9pzW-to%3D&amp;hl=bn&amp;source=homepage&amp;sa=X&amp;ved=0ahUKEwjJnaajiayKAxXKq5UCHcLkIJAQ2ZgBCAk\">&#2476;&#2494;&#2434;&#2482;&#2494;</a>    <a href=\"https://www.google.com/setprefs?sig=0_aM_NISHB9LgAwe7QrZvf9pzW-to%3D&amp;hl=te&amp;source=homepage&amp;sa=X&amp;ved=0ahUKEwjJnaajiayKAxXKq5UCHcLkIJAQ2ZgBCAo\">&#3108;&#3142;&#3122;&#3137;&#3095;&#3137;</a>    <a href=\"https://www.google.com/setprefs?sig=0_aM_NISHB9LgAwe7QrZvf9pzW-to%3D&amp;hl=mr&amp;source=homepage&amp;sa=X&amp;ved=0ahUKEwjJnaajiayKAxXKq5UCHcLkIJAQ2ZgBCAs\">&#2350;&#2352;&#2366;&#2336;&#2368;</a>    <a href=\"https://www.google.com/setprefs?sig=0_aM_NISHB9LgAwe7QrZvf9pzW-to%3D&amp;hl=ta&amp;source=homepage&amp;sa=X&amp;ved=0ahUKEwjJnaajiayKAxXKq5UCHcLkIJAQ2ZgBCAw\">&#2980;&#2990;&#3007;&#2996;&#3021;</a>    <a href=\"https://www.google.com/setprefs?sig=0_aM_NISHB9LgAwe7QrZvf9pzW-to%3D&amp;hl=gu&amp;source=homepage&amp;sa=X&amp;ved=0ahUKEwjJnaajiayKAxXKq5UCHcLkIJAQ2ZgBCA0\">&#2711;&#2753;&#2716;&#2736;&#2750;&#2724;&#2752;</a>    <a href=\"https://www.google.com/setprefs?sig=0_aM_NISHB9LgAwe7QrZvf9pzW-to%3D&amp;hl=kn&amp;source=homepage&amp;sa=X&amp;ved=0ahUKEwjJnaajiayKAxXKq5UCHcLkIJAQ2ZgBCA4\">&#3221;&#3240;&#3277;&#3240;&#3233;</a>    <a href=\"https://www.google.com/setprefs?sig=0_aM_NISHB9LgAwe7QrZvf9pzW-to%3D&amp;hl=ml&amp;source=homepage&amp;sa=X&amp;ved=0ahUKEwjJnaajiayKAxXKq5UCHcLkIJAQ2ZgBCA8\">&#3374;&#3378;&#3375;&#3390;&#3379;&#3330;</a>    <a href=\"https://www.google.com/setprefs?sig=0_aM_NISHB9LgAwe7QrZvf9pzW-to%3D&amp;hl=pa&amp;source=homepage&amp;sa=X&amp;ved=0ahUKEwjJnaajiayKAxXKq5UCHcLkIJAQ2ZgBCBA\">&#2602;&#2672;&#2588;&#2622;&#2604;&#2624;</a>  </div></div></div><span id=\"footer\"><div style=\"font-size:10pt\"><div style=\"margin:19px auto;text-align:center\" id=\"WqQANb\"><a href=\"/intl/en/ads/\">Advertising</a><a href=\"http://www.google.co.in/services/\">Business Solutions</a><a href=\"/intl/en/about.html\">About Google</a><a href=\"https://www.google.com/setprefdomain?prefdom=IN&amp;prev=https://www.google.co.in/&amp;sig=K_mpjOZdH3eqEgOEAi7YqG_i3Vw-c%3D\">Google.co.in</a></div></div><p style=\"font-size:8pt;color:#70757a\">&copy; 2024 - <a href=\"/intl/en/policies/privacy/\">Privacy</a> - <a href=\"/intl/en/policies/terms/\">Terms</a></p></span></center><script nonce=\"gq7JY5STxA6m8tv0Ibe0tg\">(function(){window.google.cdo={height:757,width:1440};(function(){var a=window.innerWidth,b=window.innerHeight;if(!a||!b){var c=window.document,d=c.compatMode==\"CSS1Compat\"?c.documentElement:c.body;a=d.clientWidth;b=d.clientHeight}if(a&&b&&(a!=google.cdo.width||b!=google.cdo.height)){var e=google,f=e.log,g=\"/client_204?&atyp=i&biw=\"+a+\"&bih=\"+b+\"&ei=\"+google.kEI,h=\"\",k=window.google&&window.google.kOPI||null;k&&(h+=\"&opi=\"+k);f.call(e,\"\",\"\",g+h)};}).call(this);})();</script>  <script nonce=\"gq7JY5STxA6m8tv0Ibe0tg\">(function(){google.xjs={basecomb:'/xjs/_/js/k\\x3dxjs.hp.en.UmyY5SmKawU.es5.O/ck\\x3dxjs.hp.W5Bhc5W7VHk.L.X.O/am\\x3dBAAAAACAAAAAAAAAAAAAAAAAAAAAAAAAAAAAAAAAAAgCAAAAAAAAAAAYAGANAAAAAQACBAAAAAAAAAAAAAAAEQCAAoAAAAAAEN8RAAiARQAAeAE/d\\x3d1/ed\\x3d1/dg\\x3d0/ujg\\x3d1/rs\\x3dACT90oGZNuLcbKZYEKvCAxz8g5183VF_1Q',basecss:'/xjs/_/ss/k\\x3dxjs.hp.W5Bhc5W7VHk.L.X.O/am\\x3dBAAAAACAAAAAAAAAAAAAAAAAAAAAAAAAAAAAAAAAAAACAAAAAAAAAAAAAGABAAAAAQACBAAAAAAAAAAAAAAAEQCAAoA/rs\\x3dACT90oG1iVhMlA0UwP35WTbntR3LVHM8rw',basejs:'/xjs/_/js/k\\x3dxjs.hp.en.UmyY5SmKawU.es5.O/am\\x3dAAAAAAAAAAAAAAAAAAAAAAAAAAAAAAAAAAAAAAAAAAgAAAAAAAAAAAAYAAAMAAAAAAAAAAAAAAAAAAAAAAAAAAAAAAAAAAAAEN8RAAiARQAAeAE/dg\\x3d0/rs\\x3dACT90oG1b_3FR9aI74bvoMjrQzJr1iht9g',excm:[]};})();</script>       <script nonce=\"gq7JY5STxA6m8tv0Ibe0tg\">(function(){var u='/xjs/_/js/k\\x3dxjs.hp.en.UmyY5SmKawU.es5.O/am\\x3dAAAAAAAAAAAAAAAAAAAAAAAAAAAAAAAAAAAAAAAAAAgAAAAAAAAAAAAYAAAMAAAAAAAAAAAAAAAAAAAAAAAAAAAAAAAAAAAAEN8RAAiARQAAeAE/d\\x3d1/ed\\x3d1/dg\\x3d3/rs\\x3dACT90oG1b_3FR9aI74bvoMjrQzJr1iht9g/m\\x3dsb_he,d';var st=1;var amd=1000;var mmd=0;var pod=true;\n",
      "var e=this||self;function f(){var a,b,d;if(b=a=(b=window.google)==null?void 0:(d=b.ia)==null?void 0:d.r.B2Jtyd)b=a.m,b=b===1||b===5;return b&&a.cbfd!=null&&a.cbvi!=null?a:void 0};function g(){var a=[u];if(!google.dp){for(var b=0;b<a.length;b++){var d=a[b],c=document.createElement(\"link\");c.as=\"script\";c.href=d;c.rel=\"preload\";document.body.appendChild(c)}google.dp=!0}};google.ps===void 0&&(google.ps=[]);function h(){var a=u,b=function(){};google.lx=google.stvsc?b:function(){k(a);google.lx=b};google.bx||google.lx()}function l(a,b){b&&(a.src=b);var d=a.onload;a.onload=function(c){d&&d(c);google.ps=google.ps.filter(function(C){return a!==C})};google.ps.push(a);document.body.appendChild(a)}google.as=l;function k(a){google.timers&&google.timers.load&&google.tick&&google.tick(\"load\",\"xjsls\");var b=document.createElement(\"script\");b.onerror=function(){google.ple=1};b.onload=function(){google.ple=0};google.xjsus=void 0;l(b,a);google.aple=-1;google.dp=!0};function m(a){var b=a.getAttribute(\"jscontroller\");return(b===\"UBXHI\"||b===\"R3fhkb\"||b===\"TSZEqd\")&&a.hasAttribute(\"data-src\")}function n(){for(var a=document.getElementsByTagName(\"img\"),b=0,d=a.length;b<d;b++){var c=a[b];if(c.hasAttribute(\"data-lzy_\")&&Number(c.getAttribute(\"data-atf\"))&1&&!m(c))return!0}return!1}for(var p=document.getElementsByTagName(\"img\"),q=0,r=p.length;q<r;++q){var t=p[q];Number(t.getAttribute(\"data-atf\"))&1&&m(t)&&(t.src=t.getAttribute(\"data-src\"))};var w,x,y,z,A,B;function D(){google.xjsu=u;e._F_jsUrl=u;A=function(){h()};w=!1;x=(st===1||st===3)&&!!google.caft&&!n();y=f();z=(st===2||st===3)&&!!y&&!n();B=pod}function E(){w||x||z||(A(),w=!0)}setTimeout(function(){google&&google.tick&&google.timers&&google.timers.load&&google.tick(\"load\",\"xjspls\");D();if(x||z){if(x){var a=function(){x=!1;E()};google.caft(a);window.setTimeout(a,amd)}z&&(a=function(){z=!1;E()},y.cbvi.push(a),window.setTimeout(a,mmd));B&&(w||g())}else A()},0);})();window._ = window._ || {};window._DumpException = _._DumpException = function(e){throw e;};window._s = window._s || {};_s._DumpException = _._DumpException;window._qs = window._qs || {};_qs._DumpException = _._DumpException;(function(){var t=[4,131072,0,0,0,0,0,0,133120,0,268437504,56102918,85983272,1050624,20480,0,285212672,34209792,8,74957824,92538880,98566145];window._F_toggles = window._xjs_toggles = t;})();window._F_installCss = window._F_installCss || function(css){};(function(){google.jl={bfl:0,dw:false,ine:false,ubm:false,uwp:true,vs:false};})();(function(){var pmc='{\\x22d\\x22:{},\\x22sb_he\\x22:{\\x22agen\\x22:false,\\x22cgen\\x22:false,\\x22client\\x22:\\x22heirloom-hp\\x22,\\x22dh\\x22:true,\\x22ds\\x22:\\x22\\x22,\\x22fl\\x22:true,\\x22host\\x22:\\x22google.com\\x22,\\x22jsonp\\x22:true,\\x22msgs\\x22:{\\x22cibl\\x22:\\x22Clear Search\\x22,\\x22dym\\x22:\\x22Did you mean:\\x22,\\x22lcky\\x22:\\x22I\\\\u0026#39;m Feeling Lucky\\x22,\\x22lml\\x22:\\x22Learn more\\x22,\\x22psrc\\x22:\\x22This search was removed from your \\\\u003Ca href\\x3d\\\\\\x22/history\\\\\\x22\\\\u003EWeb History\\\\u003C/a\\\\u003E\\x22,\\x22psrl\\x22:\\x22Remove\\x22,\\x22sbit\\x22:\\x22Search by image\\x22,\\x22srch\\x22:\\x22Google Search\\x22},\\x22ovr\\x22:{},\\x22pq\\x22:\\x22\\x22,\\x22rfs\\x22:[],\\x22stok\\x22:\\x22O5zrPsgRiFdKEXyntX7cDXJETzg\\x22}}';google.pmc=JSON.parse(pmc);})();(function(){var b=function(a){var c=0;return function(){return c<a.length?{done:!1,value:a[c++]}:{done:!0}}};\n",
      "var e=this||self;var g,h;a:{for(var k=[\"CLOSURE_FLAGS\"],l=e,n=0;n<k.length;n++)if(l=l[k[n]],l==null){h=null;break a}h=l}var p=h&&h[610401301];g=p!=null?p:!1;var q,r=e.navigator;q=r?r.userAgentData||null:null;function t(a){return g?q?q.brands.some(function(c){return(c=c.brand)&&c.indexOf(a)!=-1}):!1:!1}function u(a){var c;a:{if(c=e.navigator)if(c=c.userAgent)break a;c=\"\"}return c.indexOf(a)!=-1};function v(){return g?!!q&&q.brands.length>0:!1}function w(){return u(\"Safari\")&&!(x()||(v()?0:u(\"Coast\"))||(v()?0:u(\"Opera\"))||(v()?0:u(\"Edge\"))||(v()?t(\"Microsoft Edge\"):u(\"Edg/\"))||(v()?t(\"Opera\"):u(\"OPR\"))||u(\"Firefox\")||u(\"FxiOS\")||u(\"Silk\")||u(\"Android\"))}function x(){return v()?t(\"Chromium\"):(u(\"Chrome\")||u(\"CriOS\"))&&!(v()?0:u(\"Edge\"))||u(\"Silk\")}function y(){return u(\"Android\")&&!(x()||u(\"Firefox\")||u(\"FxiOS\")||(v()?0:u(\"Opera\"))||u(\"Silk\"))};var z=v()?!1:u(\"Trident\")||u(\"MSIE\");y();x();w();var A=!z&&!w(),D=function(a){if(/-[a-z]/.test(\"ved\"))return null;if(A&&a.dataset){if(y()&&!(\"ved\"in a.dataset))return null;a=a.dataset.ved;return a===void 0?null:a}return a.getAttribute(\"data-\"+\"ved\".replace(/([A-Z])/g,\"-$1\").toLowerCase())};var E=[],F=null;function G(a){a=a.target;var c=performance.now(),f=[],H=f.concat,d=E;if(!(d instanceof Array)){var m=typeof Symbol!=\"undefined\"&&Symbol.iterator&&d[Symbol.iterator];if(m)d=m.call(d);else if(typeof d.length==\"number\")d={next:b(d)};else throw Error(\"b`\"+String(d));for(var B=[];!(m=d.next()).done;)B.push(m.value);d=B}E=H.call(f,d,[c]);if(a&&a instanceof HTMLElement)if(a===F){if(c=E.length>=4)c=(E[E.length-1]-E[E.length-4])/1E3<5;if(c){c=google.getEI(a);a.hasAttribute(\"data-ved\")?f=a?D(a)||\"\":\"\":f=(f=\n",
      "a.closest(\"[data-ved]\"))?D(f)||\"\":\"\";f=f||\"\";if(a.hasAttribute(\"jsname\"))a=a.getAttribute(\"jsname\");else{var C;a=(C=a.closest(\"[jsname]\"))==null?void 0:C.getAttribute(\"jsname\")}google.log(\"rcm\",\"&ei=\"+c+\"&tgtved=\"+f+\"&jsname=\"+(a||\"\"))}}else F=a,E=[c]}window.document.addEventListener(\"DOMContentLoaded\",function(){document.body.addEventListener(\"click\",G)});}).call(this);</script></body></html>\n"
     ]
    }
   ],
   "source": [
    "gr = requests.get('https://www.google.com')\n",
    "gpage = gr.text\n",
    "print(gpage)"
   ]
  },
  {
   "cell_type": "code",
   "execution_count": 327,
   "id": "4da40d05-4f60-413e-9b15-f547545d093f",
   "metadata": {},
   "outputs": [
    {
     "name": "stdout",
     "output_type": "stream",
     "text": [
      "<class 'bs4.BeautifulSoup'>\n"
     ]
    }
   ],
   "source": [
    "import bs4\n",
    "print(bs4.BeautifulSoup)"
   ]
  },
  {
   "cell_type": "code",
   "execution_count": 329,
   "id": "90721743-45ed-440f-a799-f01b6321e0c8",
   "metadata": {},
   "outputs": [
    {
     "data": {
      "text/plain": [
       "<title>Google</title>"
      ]
     },
     "execution_count": 329,
     "metadata": {},
     "output_type": "execute_result"
    }
   ],
   "source": [
    "sobj = bs4.BeautifulSoup(gpage)\n",
    "sobj.title"
   ]
  },
  {
   "cell_type": "code",
   "execution_count": 333,
   "id": "ded3836d-81c6-4d3e-8ada-066f5b645223",
   "metadata": {},
   "outputs": [
    {
     "name": "stdout",
     "output_type": "stream",
     "text": [
      "title\n",
      "Google\n"
     ]
    }
   ],
   "source": [
    "print(sobj.title.name)\n",
    "print(sobj.title.string)"
   ]
  },
  {
   "cell_type": "code",
   "execution_count": 335,
   "id": "74ec6b94-63ef-4b85-b267-1166bf2febff",
   "metadata": {},
   "outputs": [
    {
     "data": {
      "text/plain": [
       "<title>Google</title>"
      ]
     },
     "execution_count": 335,
     "metadata": {},
     "output_type": "execute_result"
    }
   ],
   "source": [
    "sobj.find('title')"
   ]
  },
  {
   "cell_type": "code",
   "execution_count": 337,
   "id": "3b4236e9-0ff5-4531-8881-ddac5825f243",
   "metadata": {},
   "outputs": [
    {
     "data": {
      "text/plain": [
       "[<title>Google</title>]"
      ]
     },
     "execution_count": 337,
     "metadata": {},
     "output_type": "execute_result"
    }
   ],
   "source": [
    "sobj.find_all('title')"
   ]
  },
  {
   "cell_type": "code",
   "execution_count": 339,
   "id": "e7e8428f-1f6b-4b5a-87d5-3563574186eb",
   "metadata": {},
   "outputs": [
    {
     "data": {
      "text/plain": [
       "<p style=\"font-size:8pt;color:#70757a\">© 2024 - <a href=\"/intl/en/policies/privacy/\">Privacy</a> - <a href=\"/intl/en/policies/terms/\">Terms</a></p>"
      ]
     },
     "execution_count": 339,
     "metadata": {},
     "output_type": "execute_result"
    }
   ],
   "source": [
    "sobj.p"
   ]
  },
  {
   "cell_type": "code",
   "execution_count": 341,
   "id": "786591e2-9f69-4839-98ee-462c55b95f10",
   "metadata": {},
   "outputs": [
    {
     "data": {
      "text/plain": [
       "<p style=\"font-size:8pt;color:#70757a\">© 2024 - <a href=\"/intl/en/policies/privacy/\">Privacy</a> - <a href=\"/intl/en/policies/terms/\">Terms</a></p>"
      ]
     },
     "execution_count": 341,
     "metadata": {},
     "output_type": "execute_result"
    }
   ],
   "source": [
    "sobj.find('p')"
   ]
  },
  {
   "cell_type": "code",
   "execution_count": 343,
   "id": "f0304f46-63f0-4c43-abe9-33c5cd627042",
   "metadata": {},
   "outputs": [
    {
     "data": {
      "text/plain": [
       "[<p style=\"font-size:8pt;color:#70757a\">© 2024 - <a href=\"/intl/en/policies/privacy/\">Privacy</a> - <a href=\"/intl/en/policies/terms/\">Terms</a></p>]"
      ]
     },
     "execution_count": 343,
     "metadata": {},
     "output_type": "execute_result"
    }
   ],
   "source": [
    "sobj.find_all('p')"
   ]
  },
  {
   "cell_type": "code",
   "execution_count": 347,
   "id": "616a356e-b50a-4612-b9ca-2e0f3b563fe3",
   "metadata": {},
   "outputs": [
    {
     "data": {
      "text/plain": [
       "<a class=\"gb1\" href=\"https://www.google.com/imghp?hl=en&amp;tab=wi\">Images</a>"
      ]
     },
     "execution_count": 347,
     "metadata": {},
     "output_type": "execute_result"
    }
   ],
   "source": [
    "sobj.find('a')"
   ]
  },
  {
   "cell_type": "code",
   "execution_count": 349,
   "id": "d6be76cb-9061-44d8-b5ff-2893095de534",
   "metadata": {},
   "outputs": [
    {
     "data": {
      "text/plain": [
       "[<a class=\"gb1\" href=\"https://www.google.com/imghp?hl=en&amp;tab=wi\">Images</a>,\n",
       " <a class=\"gb1\" href=\"https://maps.google.co.in/maps?hl=en&amp;tab=wl\">Maps</a>,\n",
       " <a class=\"gb1\" href=\"https://play.google.com/?hl=en&amp;tab=w8\">Play</a>,\n",
       " <a class=\"gb1\" href=\"https://www.youtube.com/?tab=w1\">YouTube</a>,\n",
       " <a class=\"gb1\" href=\"https://news.google.com/?tab=wn\">News</a>,\n",
       " <a class=\"gb1\" href=\"https://mail.google.com/mail/?tab=wm\">Gmail</a>,\n",
       " <a class=\"gb1\" href=\"https://drive.google.com/?tab=wo\">Drive</a>,\n",
       " <a class=\"gb1\" href=\"https://www.google.co.in/intl/en/about/products?tab=wh\" style=\"text-decoration:none\"><u>More</u> »</a>,\n",
       " <a class=\"gb4\" href=\"http://www.google.co.in/history/optout?hl=en\">Web History</a>,\n",
       " <a class=\"gb4\" href=\"/preferences?hl=en\">Settings</a>,\n",
       " <a class=\"gb4\" href=\"https://accounts.google.com/ServiceLogin?hl=en&amp;passive=true&amp;continue=https://www.google.com/&amp;ec=GAZAAQ\" id=\"gb_70\" target=\"_top\">Sign in</a>,\n",
       " <a href=\"/advanced_search?hl=en-IN&amp;authuser=0\">Advanced search</a>,\n",
       " <a href=\"https://www.google.com/url?q=https://grow.google/intl/en_in/certificates/%3Futm_source%3Dgoogle%26utm_medium%3Dhpp%26utm_campaign%3Dapac-hpp-eoy__geo--APAC%26utm_content%3Din-eoy-hpp&amp;source=hpp&amp;id=19045954&amp;ct=3&amp;usg=AOvVaw3MMaybRejE3nznUBRA8B4V&amp;sa=X&amp;ved=0ahUKEwjJnaajiayKAxXKq5UCHcLkIJAQ8IcBCAY\" rel=\"nofollow\">Google Career Certificates</a>,\n",
       " <a href=\"https://www.google.com/setprefs?sig=0_aM_NISHB9LgAwe7QrZvf9pzW-to%3D&amp;hl=hi&amp;source=homepage&amp;sa=X&amp;ved=0ahUKEwjJnaajiayKAxXKq5UCHcLkIJAQ2ZgBCAg\">हिन्दी</a>,\n",
       " <a href=\"https://www.google.com/setprefs?sig=0_aM_NISHB9LgAwe7QrZvf9pzW-to%3D&amp;hl=bn&amp;source=homepage&amp;sa=X&amp;ved=0ahUKEwjJnaajiayKAxXKq5UCHcLkIJAQ2ZgBCAk\">বাংলা</a>,\n",
       " <a href=\"https://www.google.com/setprefs?sig=0_aM_NISHB9LgAwe7QrZvf9pzW-to%3D&amp;hl=te&amp;source=homepage&amp;sa=X&amp;ved=0ahUKEwjJnaajiayKAxXKq5UCHcLkIJAQ2ZgBCAo\">తెలుగు</a>,\n",
       " <a href=\"https://www.google.com/setprefs?sig=0_aM_NISHB9LgAwe7QrZvf9pzW-to%3D&amp;hl=mr&amp;source=homepage&amp;sa=X&amp;ved=0ahUKEwjJnaajiayKAxXKq5UCHcLkIJAQ2ZgBCAs\">मराठी</a>,\n",
       " <a href=\"https://www.google.com/setprefs?sig=0_aM_NISHB9LgAwe7QrZvf9pzW-to%3D&amp;hl=ta&amp;source=homepage&amp;sa=X&amp;ved=0ahUKEwjJnaajiayKAxXKq5UCHcLkIJAQ2ZgBCAw\">தமிழ்</a>,\n",
       " <a href=\"https://www.google.com/setprefs?sig=0_aM_NISHB9LgAwe7QrZvf9pzW-to%3D&amp;hl=gu&amp;source=homepage&amp;sa=X&amp;ved=0ahUKEwjJnaajiayKAxXKq5UCHcLkIJAQ2ZgBCA0\">ગુજરાતી</a>,\n",
       " <a href=\"https://www.google.com/setprefs?sig=0_aM_NISHB9LgAwe7QrZvf9pzW-to%3D&amp;hl=kn&amp;source=homepage&amp;sa=X&amp;ved=0ahUKEwjJnaajiayKAxXKq5UCHcLkIJAQ2ZgBCA4\">ಕನ್ನಡ</a>,\n",
       " <a href=\"https://www.google.com/setprefs?sig=0_aM_NISHB9LgAwe7QrZvf9pzW-to%3D&amp;hl=ml&amp;source=homepage&amp;sa=X&amp;ved=0ahUKEwjJnaajiayKAxXKq5UCHcLkIJAQ2ZgBCA8\">മലയാളം</a>,\n",
       " <a href=\"https://www.google.com/setprefs?sig=0_aM_NISHB9LgAwe7QrZvf9pzW-to%3D&amp;hl=pa&amp;source=homepage&amp;sa=X&amp;ved=0ahUKEwjJnaajiayKAxXKq5UCHcLkIJAQ2ZgBCBA\">ਪੰਜਾਬੀ</a>,\n",
       " <a href=\"/intl/en/ads/\">Advertising</a>,\n",
       " <a href=\"http://www.google.co.in/services/\">Business Solutions</a>,\n",
       " <a href=\"/intl/en/about.html\">About Google</a>,\n",
       " <a href=\"https://www.google.com/setprefdomain?prefdom=IN&amp;prev=https://www.google.co.in/&amp;sig=K_mpjOZdH3eqEgOEAi7YqG_i3Vw-c%3D\">Google.co.in</a>,\n",
       " <a href=\"/intl/en/policies/privacy/\">Privacy</a>,\n",
       " <a href=\"/intl/en/policies/terms/\">Terms</a>]"
      ]
     },
     "execution_count": 349,
     "metadata": {},
     "output_type": "execute_result"
    }
   ],
   "source": [
    "sobj.find_all('a')"
   ]
  },
  {
   "cell_type": "code",
   "execution_count": 351,
   "id": "eb436242-941b-49e6-b418-1cf3d98838a4",
   "metadata": {},
   "outputs": [
    {
     "data": {
      "text/plain": [
       "<a class=\"gb1\" href=\"https://www.google.com/imghp?hl=en&amp;tab=wi\">Images</a>"
      ]
     },
     "execution_count": 351,
     "metadata": {},
     "output_type": "execute_result"
    }
   ],
   "source": [
    "sobj.find('a')"
   ]
  },
  {
   "cell_type": "code",
   "execution_count": 353,
   "id": "4a268336-4736-47cf-8fcb-75f662da06de",
   "metadata": {},
   "outputs": [
    {
     "data": {
      "text/plain": [
       "['gb1']"
      ]
     },
     "execution_count": 353,
     "metadata": {},
     "output_type": "execute_result"
    }
   ],
   "source": [
    "sobj.find('a')['class'] # like dict -> d['K1'] ->Value/KeyError"
   ]
  },
  {
   "cell_type": "code",
   "execution_count": 355,
   "id": "30f80b52-0b83-4e45-bc7d-0e45ef2c9c85",
   "metadata": {},
   "outputs": [],
   "source": [
    "d={'K1':'V1'}\n",
    "#d['Kx'] ->KeyError\n",
    "d.get('Kx')"
   ]
  },
  {
   "cell_type": "code",
   "execution_count": 357,
   "id": "01060787-8799-4cf3-af68-3c0495ff4feb",
   "metadata": {},
   "outputs": [
    {
     "data": {
      "text/plain": [
       "['gb1']"
      ]
     },
     "execution_count": 357,
     "metadata": {},
     "output_type": "execute_result"
    }
   ],
   "source": [
    "sobj.find('a').get('class') # like dict -> d.get('K1') ->Value/None"
   ]
  },
  {
   "cell_type": "code",
   "execution_count": null,
   "id": "0d177770-2162-44c2-a0ed-6c9df7fd7d2d",
   "metadata": {},
   "outputs": [],
   "source": [
    "Task:\n",
    "-----\n",
    "1. download ->python.org \n",
    "2. extract list of href "
   ]
  },
  {
   "cell_type": "code",
   "execution_count": 359,
   "id": "ae269850-714e-4143-ab00-b4968acd8925",
   "metadata": {},
   "outputs": [
    {
     "data": {
      "text/plain": [
       "'text/html; charset=utf-8'"
      ]
     },
     "execution_count": 359,
     "metadata": {},
     "output_type": "execute_result"
    }
   ],
   "source": [
    "pr = requests.get('https://www.python.org')\n",
    "pr.headers['Content-Type']"
   ]
  },
  {
   "cell_type": "code",
   "execution_count": 361,
   "id": "ad3b58a4-d8fe-4063-bbce-7d799f194767",
   "metadata": {},
   "outputs": [],
   "source": [
    "py_page = pr.text"
   ]
  },
  {
   "cell_type": "code",
   "execution_count": 363,
   "id": "92c5fe97-e41d-47f5-906a-d5eac71d2242",
   "metadata": {},
   "outputs": [
    {
     "data": {
      "text/plain": [
       "<a href=\"#content\" title=\"Skip to content\">Skip to content</a>"
      ]
     },
     "execution_count": 363,
     "metadata": {},
     "output_type": "execute_result"
    }
   ],
   "source": [
    "py_obj = bs4.BeautifulSoup(py_page)\n",
    "py_obj.find('a')"
   ]
  },
  {
   "cell_type": "code",
   "execution_count": 365,
   "id": "cfe2d554-c3f5-499d-913e-2d622eaf4631",
   "metadata": {},
   "outputs": [
    {
     "name": "stdout",
     "output_type": "stream",
     "text": [
      "<a href=\"#content\" title=\"Skip to content\">Skip to content</a>\n",
      "<a aria-hidden=\"true\" class=\"jump-link\" href=\"#python-network\" id=\"close-python-network\">\n",
      "<span aria-hidden=\"true\" class=\"icon-arrow-down\"><span>▼</span></span> Close\n",
      "                </a>\n",
      "<a class=\"current_item selectedcurrent_branch selected\" href=\"/\" title=\"The Python Programming Language\">Python</a>\n",
      "<a href=\"https://www.python.org/psf/\" title=\"The Python Software Foundation\">PSF</a>\n",
      "<a href=\"https://docs.python.org\" title=\"Python Documentation\">Docs</a>\n",
      "<a href=\"https://pypi.org/\" title=\"Python Package Index\">PyPI</a>\n",
      "<a href=\"/jobs/\" title=\"Python Job Board\">Jobs</a>\n",
      "<a href=\"/community/\">Community</a>\n",
      "<a aria-hidden=\"true\" class=\"jump-link\" href=\"#top\" id=\"python-network\">\n",
      "<span aria-hidden=\"true\" class=\"icon-arrow-up\"><span>▲</span></span> The Python Network\n",
      "                </a>\n",
      "<a href=\"/\"><img alt=\"python™\" class=\"python-logo\" src=\"/static/img/python-logo.png\"/></a>\n",
      "<a class=\"donate-button\" href=\"https://psfmember.org/civicrm/contribute/transact?reset=1&amp;id=2\">Donate</a>\n",
      "<a class=\"jump-to-menu\" href=\"#site-map\" id=\"site-map-link\"><span class=\"menu-icon\">≡</span> Menu</a>\n",
      "<a class=\"action-trigger\" href=\"#\"><strong><small>A</small> A</strong></a>\n",
      "<a class=\"text-shrink\" href=\"javascript:;\" title=\"Make Text Smaller\">Smaller</a>\n",
      "<a class=\"text-grow\" href=\"javascript:;\" title=\"Make Text Larger\">Larger</a>\n",
      "<a class=\"text-reset\" href=\"javascript:;\" title=\"Reset any font size changes I have made\">Reset</a>\n",
      "<a class=\"action-trigger\" href=\"#\">Socialize</a>\n",
      "<a href=\"https://www.linkedin.com/company/python-software-foundation/\"><i aria-hidden=\"true\" class=\"fa fa-linkedin-square\"></i>LinkedIn</a>\n",
      "<a href=\"https://fosstodon.org/@ThePSF\"><span aria-hidden=\"true\" class=\"icon-mastodon\"></span>Mastodon</a>\n",
      "<a href=\"/community/irc/\"><span aria-hidden=\"true\" class=\"icon-freenode\"></span>Chat on IRC</a>\n",
      "<a href=\"https://twitter.com/ThePSF\"><span aria-hidden=\"true\" class=\"icon-twitter\"></span>Twitter</a>\n",
      "<a class=\"\" href=\"/about/\" title=\"\">About</a>\n",
      "<a href=\"/about/apps/\" title=\"\">Applications</a>\n",
      "<a href=\"/about/quotes/\" title=\"\">Quotes</a>\n",
      "<a href=\"/about/gettingstarted/\" title=\"\">Getting Started</a>\n",
      "<a href=\"/about/help/\" title=\"\">Help</a>\n",
      "<a href=\"http://brochure.getpython.info/\" title=\"\">Python Brochure</a>\n",
      "<a class=\"\" href=\"/downloads/\" title=\"\">Downloads</a>\n",
      "<a href=\"/downloads/\" title=\"\">All releases</a>\n",
      "<a href=\"/downloads/source/\" title=\"\">Source code</a>\n",
      "<a href=\"/downloads/windows/\" title=\"\">Windows</a>\n",
      "<a href=\"/downloads/macos/\" title=\"\">macOS</a>\n",
      "<a href=\"/download/other/\" title=\"\">Other Platforms</a>\n",
      "<a href=\"https://docs.python.org/3/license.html\" title=\"\">License</a>\n",
      "<a href=\"/download/alternatives\" title=\"\">Alternative Implementations</a>\n",
      "<a class=\"\" href=\"/doc/\" title=\"\">Documentation</a>\n",
      "<a href=\"/doc/\" title=\"\">Docs</a>\n",
      "<a href=\"/doc/av\" title=\"\">Audio/Visual Talks</a>\n",
      "<a href=\"https://wiki.python.org/moin/BeginnersGuide\" title=\"\">Beginner's Guide</a>\n",
      "<a href=\"https://devguide.python.org/\" title=\"\">Developer's Guide</a>\n",
      "<a href=\"https://docs.python.org/faq/\" title=\"\">FAQ</a>\n",
      "<a href=\"http://wiki.python.org/moin/Languages\" title=\"\">Non-English Docs</a>\n",
      "<a href=\"https://peps.python.org\" title=\"\">PEP Index</a>\n",
      "<a href=\"https://wiki.python.org/moin/PythonBooks\" title=\"\">Python Books</a>\n",
      "<a href=\"/doc/essays/\" title=\"\">Python Essays</a>\n",
      "<a class=\"\" href=\"/community/\" title=\"\">Community</a>\n",
      "<a href=\"/community/diversity/\" title=\"\">Diversity</a>\n",
      "<a href=\"/community/lists/\" title=\"\">Mailing Lists</a>\n",
      "<a href=\"/community/irc/\" title=\"\">IRC</a>\n",
      "<a href=\"/community/forums/\" title=\"\">Forums</a>\n",
      "<a href=\"/psf/annual-report/2021/\" title=\"\">PSF Annual Impact Report</a>\n",
      "<a href=\"/community/workshops/\" title=\"\">Python Conferences</a>\n",
      "<a href=\"/community/sigs/\" title=\"\">Special Interest Groups</a>\n",
      "<a href=\"/community/logos/\" title=\"\">Python Logo</a>\n",
      "<a href=\"https://wiki.python.org/moin/\" title=\"\">Python Wiki</a>\n",
      "<a href=\"/psf/conduct/\" title=\"\">Code of Conduct</a>\n",
      "<a href=\"/community/awards\" title=\"\">Community Awards</a>\n",
      "<a href=\"/psf/get-involved/\" title=\"\">Get Involved</a>\n",
      "<a href=\"/psf/community-stories/\" title=\"\">Shared Stories</a>\n",
      "<a class=\"\" href=\"/success-stories/\" title=\"success-stories\">Success Stories</a>\n",
      "<a href=\"/success-stories/category/arts/\" title=\"\">Arts</a>\n",
      "<a href=\"/success-stories/category/business/\" title=\"\">Business</a>\n",
      "<a href=\"/success-stories/category/education/\" title=\"\">Education</a>\n",
      "<a href=\"/success-stories/category/engineering/\" title=\"\">Engineering</a>\n",
      "<a href=\"/success-stories/category/government/\" title=\"\">Government</a>\n",
      "<a href=\"/success-stories/category/scientific/\" title=\"\">Scientific</a>\n",
      "<a href=\"/success-stories/category/software-development/\" title=\"\">Software Development</a>\n",
      "<a class=\"\" href=\"/blogs/\" title=\"News from around the Python world\">News</a>\n",
      "<a href=\"/blogs/\" title=\"Python Insider Blog Posts\">Python News</a>\n",
      "<a href=\"/psf/newsletter/\" title=\"Python Software Foundation Newsletter\">PSF Newsletter</a>\n",
      "<a href=\"http://pyfound.blogspot.com/\" title=\"PSF Blog\">PSF News</a>\n",
      "<a href=\"http://pycon.blogspot.com/\" title=\"PyCon Blog\">PyCon US News</a>\n",
      "<a href=\"http://planetpython.org/\" title=\"Planet Python\">News from the Community</a>\n",
      "<a class=\"\" href=\"/events/\" title=\"\">Events</a>\n",
      "<a href=\"/events/python-events/\" title=\"\">Python Events</a>\n",
      "<a href=\"/events/python-user-group/\" title=\"\">User Group Events</a>\n",
      "<a href=\"/events/python-events/past/\" title=\"\">Python Events Archive</a>\n",
      "<a href=\"/events/python-user-group/past/\" title=\"\">User Group Events Archive</a>\n",
      "<a href=\"https://wiki.python.org/moin/PythonEventsCalendar#Submitting_an_Event\" title=\"\">Submit an Event</a>\n",
      "<a class=\"button prompt\" data-shell-container=\"#dive-into-python\" href=\"/shell/\" id=\"start-shell\">&gt;_\n",
      "                        <span class=\"message\">Launch Interactive Shell</span>\n",
      "</a>\n",
      "<a href=\"//docs.python.org/3/tutorial/controlflow.html#defining-functions\">More about defining functions in Python 3</a>\n",
      "<a href=\"//docs.python.org/3/tutorial/introduction.html#lists\">More about lists in Python 3</a>\n",
      "<a href=\"http://docs.python.org/3/tutorial/introduction.html#using-python-as-a-calculator\">More about simple math functions in Python 3</a>\n",
      "<a href=\"//docs.python.org/3/tutorial/controlflow.html\">More control flow tools in Python 3</a>\n",
      "<a href=\"//docs.python.org/3/tutorial/\">Whet your appetite</a>\n",
      "<a class=\"readmore\" href=\"/doc/\">Learn More</a>\n",
      "<a class=\"button button--dark button--small button--primary\" href=\"https://www.python.org/psf/donations/2024-q4-drive/\" rel=\"noopener\" style=\"color: #606060; border-color: #006dad; background-color: #006dad;\" target=\"_blank\">SUPPORT THE PSF</a>\n",
      "<a href=\"/about/gettingstarted/\">Start with our Beginner’s Guide</a>\n",
      "<a href=\"/downloads/release/python-3131/\">Python 3.13.1</a>\n",
      "<a href=\"https://docs.python.org\">docs.python.org</a>\n",
      "<a href=\"//jobs.python.org\">jobs.python.org</a>\n",
      "<a href=\"https://blog.python.org\" title=\"More News\">More</a>\n",
      "<a href=\"https://mailchi.mp/python/python-software-foundation-july-2024-newsletter-19875208\">PSF End-of-Year Fundraiser &amp; PyCon US 2025 Updates!</a>\n",
      "<a href=\"https://pythoninsider.blogspot.com/2024/12/python-3131-3128-31111-31016-and-3921.html\">Python 3.13.1, 3.12.8, 3.11.11, 3.10.16 and 3.9.21 are now available</a>\n",
      "<a href=\"https://pyfound.blogspot.com/2024/11/psf-board-retreat-2024.html\">PSF Board Retreat 2024</a>\n",
      "<a href=\"https://pythoninsider.blogspot.com/2024/11/python-3140-alpha-2-released.html\">Python 3.14.0 alpha 2 released</a>\n",
      "<a href=\"https://pyfound.blogspot.com/2024/11/help-power-python-2024-fundraiser.html\">Help power Python and join in the PSF year-end fundraiser &amp; membership drive!</a>\n",
      "<a href=\"/events/calendars/\" title=\"More Events\">More</a>\n",
      "<a href=\"/events/python-user-group/1880/\"> PyLadies Amsterdam</a>\n",
      "<a href=\"/events/python-user-group/1855/\">Python Meeting Düsseldorf</a>\n",
      "<a href=\"/events/python-events/1866/\">Python devroom @ FOSDEM 2025</a>\n",
      "<a href=\"/events/python-user-group/1841/\">Python Barcamp Karlsruhe 2025</a>\n",
      "<a href=\"/events/python-user-group/1868/\">Django Girls Koforidua</a>\n",
      "<a href=\"/success-stories/\" title=\"More Success Stories\">More</a>\n",
      "<a href=\"/success-stories/zama-concrete-ml-simplifying-homomorphic-encryption-for-python-machine-learning/\">To simplify the adoption of FHE, which involves a complex and resource-intensive technological stack, Zama developed tools that streamline the integration of FHE into applications. Since Python is the de facto standard for building machine learning (ML) applications, it was an obvious choice to create an open-source FHE library in Python.</a>\n",
      "<a href=\"/success-stories/zama-concrete-ml-simplifying-homomorphic-encryption-for-python-machine-learning/\">Zama Concrete ML: Simplifying Homomorphic Encryption for Python Machine Learning</a>\n",
      "<a href=\"/about/apps\" title=\"More Applications\">More</a>\n",
      "<a class=\"tag\" href=\"http://www.djangoproject.com/\">Django</a>\n",
      "<a class=\"tag\" href=\"http://www.pylonsproject.org/\">Pyramid</a>\n",
      "<a class=\"tag\" href=\"http://bottlepy.org\">Bottle</a>\n",
      "<a class=\"tag\" href=\"http://tornadoweb.org\">Tornado</a>\n",
      "<a class=\"tag\" href=\"http://flask.pocoo.org/\">Flask</a>\n",
      "<a class=\"tag\" href=\"http://www.web2py.com/\">web2py</a>\n",
      "<a class=\"tag\" href=\"http://wiki.python.org/moin/TkInter\">tkInter</a>\n",
      "<a class=\"tag\" href=\"https://wiki.gnome.org/Projects/PyGObject\">PyGObject</a>\n",
      "<a class=\"tag\" href=\"http://www.riverbankcomputing.co.uk/software/pyqt/intro\">PyQt</a>\n",
      "<a class=\"tag\" href=\"https://wiki.qt.io/PySide\">PySide</a>\n",
      "<a class=\"tag\" href=\"https://kivy.org/\">Kivy</a>\n",
      "<a class=\"tag\" href=\"http://www.wxpython.org/\">wxPython</a>\n",
      "<a class=\"tag\" href=\"https://dearpygui.readthedocs.io/en/latest/\">DearPyGui</a>\n",
      "<a class=\"tag\" href=\"http://www.scipy.org\">SciPy</a>\n",
      "<a class=\"tag\" href=\"http://pandas.pydata.org/\">Pandas</a>\n",
      "<a class=\"tag\" href=\"http://ipython.org\">IPython</a>\n",
      "<a class=\"tag\" href=\"http://buildbot.net/\">Buildbot</a>\n",
      "<a class=\"tag\" href=\"http://trac.edgewall.org/\">Trac</a>\n",
      "<a class=\"tag\" href=\"http://roundup.sourceforge.net/\">Roundup</a>\n",
      "<a class=\"tag\" href=\"http://www.ansible.com\">Ansible</a>\n",
      "<a class=\"tag\" href=\"https://saltproject.io\">Salt</a>\n",
      "<a class=\"tag\" href=\"https://www.openstack.org\">OpenStack</a>\n",
      "<a class=\"tag\" href=\"https://xon.sh\">xonsh</a>\n",
      "<a href=\"/psf/\">Python Software Foundation</a>\n",
      "<a class=\"readmore\" href=\"/psf/\">Learn more</a>\n",
      "<a class=\"button\" href=\"/users/membership/\">Become a Member</a>\n",
      "<a class=\"button\" href=\"/psf/donations/\">Donate to the PSF</a>\n",
      "<a class=\"jump-link\" href=\"#python-network\" id=\"back-to-top-1\"><span aria-hidden=\"true\" class=\"icon-arrow-up\"><span>▲</span></span> Back to Top</a>\n",
      "<a href=\"/about/\">About</a>\n",
      "<a href=\"/about/apps/\" title=\"\">Applications</a>\n",
      "<a href=\"/about/quotes/\" title=\"\">Quotes</a>\n",
      "<a href=\"/about/gettingstarted/\" title=\"\">Getting Started</a>\n",
      "<a href=\"/about/help/\" title=\"\">Help</a>\n",
      "<a href=\"http://brochure.getpython.info/\" title=\"\">Python Brochure</a>\n",
      "<a href=\"/downloads/\">Downloads</a>\n",
      "<a href=\"/downloads/\" title=\"\">All releases</a>\n",
      "<a href=\"/downloads/source/\" title=\"\">Source code</a>\n",
      "<a href=\"/downloads/windows/\" title=\"\">Windows</a>\n",
      "<a href=\"/downloads/macos/\" title=\"\">macOS</a>\n",
      "<a href=\"/download/other/\" title=\"\">Other Platforms</a>\n",
      "<a href=\"https://docs.python.org/3/license.html\" title=\"\">License</a>\n",
      "<a href=\"/download/alternatives\" title=\"\">Alternative Implementations</a>\n",
      "<a href=\"/doc/\">Documentation</a>\n",
      "<a href=\"/doc/\" title=\"\">Docs</a>\n",
      "<a href=\"/doc/av\" title=\"\">Audio/Visual Talks</a>\n",
      "<a href=\"https://wiki.python.org/moin/BeginnersGuide\" title=\"\">Beginner's Guide</a>\n",
      "<a href=\"https://devguide.python.org/\" title=\"\">Developer's Guide</a>\n",
      "<a href=\"https://docs.python.org/faq/\" title=\"\">FAQ</a>\n",
      "<a href=\"http://wiki.python.org/moin/Languages\" title=\"\">Non-English Docs</a>\n",
      "<a href=\"https://peps.python.org\" title=\"\">PEP Index</a>\n",
      "<a href=\"https://wiki.python.org/moin/PythonBooks\" title=\"\">Python Books</a>\n",
      "<a href=\"/doc/essays/\" title=\"\">Python Essays</a>\n",
      "<a href=\"/community/\">Community</a>\n",
      "<a href=\"/community/diversity/\" title=\"\">Diversity</a>\n",
      "<a href=\"/community/lists/\" title=\"\">Mailing Lists</a>\n",
      "<a href=\"/community/irc/\" title=\"\">IRC</a>\n",
      "<a href=\"/community/forums/\" title=\"\">Forums</a>\n",
      "<a href=\"/psf/annual-report/2021/\" title=\"\">PSF Annual Impact Report</a>\n",
      "<a href=\"/community/workshops/\" title=\"\">Python Conferences</a>\n",
      "<a href=\"/community/sigs/\" title=\"\">Special Interest Groups</a>\n",
      "<a href=\"/community/logos/\" title=\"\">Python Logo</a>\n",
      "<a href=\"https://wiki.python.org/moin/\" title=\"\">Python Wiki</a>\n",
      "<a href=\"/psf/conduct/\" title=\"\">Code of Conduct</a>\n",
      "<a href=\"/community/awards\" title=\"\">Community Awards</a>\n",
      "<a href=\"/psf/get-involved/\" title=\"\">Get Involved</a>\n",
      "<a href=\"/psf/community-stories/\" title=\"\">Shared Stories</a>\n",
      "<a href=\"/success-stories/\" title=\"success-stories\">Success Stories</a>\n",
      "<a href=\"/success-stories/category/arts/\" title=\"\">Arts</a>\n",
      "<a href=\"/success-stories/category/business/\" title=\"\">Business</a>\n",
      "<a href=\"/success-stories/category/education/\" title=\"\">Education</a>\n",
      "<a href=\"/success-stories/category/engineering/\" title=\"\">Engineering</a>\n",
      "<a href=\"/success-stories/category/government/\" title=\"\">Government</a>\n",
      "<a href=\"/success-stories/category/scientific/\" title=\"\">Scientific</a>\n",
      "<a href=\"/success-stories/category/software-development/\" title=\"\">Software Development</a>\n",
      "<a href=\"/blogs/\" title=\"News from around the Python world\">News</a>\n",
      "<a href=\"/blogs/\" title=\"Python Insider Blog Posts\">Python News</a>\n",
      "<a href=\"/psf/newsletter/\" title=\"Python Software Foundation Newsletter\">PSF Newsletter</a>\n",
      "<a href=\"http://pyfound.blogspot.com/\" title=\"PSF Blog\">PSF News</a>\n",
      "<a href=\"http://pycon.blogspot.com/\" title=\"PyCon Blog\">PyCon US News</a>\n",
      "<a href=\"http://planetpython.org/\" title=\"Planet Python\">News from the Community</a>\n",
      "<a href=\"/events/\">Events</a>\n",
      "<a href=\"/events/python-events/\" title=\"\">Python Events</a>\n",
      "<a href=\"/events/python-user-group/\" title=\"\">User Group Events</a>\n",
      "<a href=\"/events/python-events/past/\" title=\"\">Python Events Archive</a>\n",
      "<a href=\"/events/python-user-group/past/\" title=\"\">User Group Events Archive</a>\n",
      "<a href=\"https://wiki.python.org/moin/PythonEventsCalendar#Submitting_an_Event\" title=\"\">Submit an Event</a>\n",
      "<a href=\"/dev/\">Contributing</a>\n",
      "<a href=\"https://devguide.python.org/\" title=\"\">Developer's Guide</a>\n",
      "<a href=\"https://github.com/python/cpython/issues\" title=\"\">Issue Tracker</a>\n",
      "<a href=\"https://mail.python.org/mailman/listinfo/python-dev\" title=\"\">python-dev list</a>\n",
      "<a href=\"/dev/core-mentorship/\" title=\"\">Core Mentorship</a>\n",
      "<a href=\"/dev/security/\" title=\"\">Report a Security Issue</a>\n",
      "<a class=\"jump-link\" href=\"#python-network\" id=\"back-to-top-2\"><span aria-hidden=\"true\" class=\"icon-arrow-up\"><span>▲</span></span> Back to Top</a>\n",
      "<a href=\"/about/help/\">Help &amp; <span class=\"say-no-more\">General</span> Contact</a>\n",
      "<a href=\"/community/diversity/\">Diversity <span class=\"say-no-more\">Initiatives</span></a>\n",
      "<a href=\"https://github.com/python/pythondotorg/issues\">Submit Website Bug</a>\n",
      "<a href=\"https://status.python.org/\">Status <span class=\"python-status-indicator-default\" id=\"python-status-indicator\"></span></a>\n",
      "<a href=\"/psf-landing/\">Python Software Foundation</a>\n",
      "<a href=\"/about/legal/\">Legal Statements</a>\n",
      "<a href=\"https://policies.python.org/python.org/Privacy-Notice/\">Privacy Notice</a>\n"
     ]
    }
   ],
   "source": [
    "for var in py_obj.find_all('a'):\n",
    "    print(var)"
   ]
  },
  {
   "cell_type": "code",
   "execution_count": 367,
   "id": "7b73b44e-ef61-465b-9f07-353d7e54c6df",
   "metadata": {},
   "outputs": [
    {
     "name": "stdout",
     "output_type": "stream",
     "text": [
      "#content\n",
      "#python-network\n",
      "/\n",
      "https://www.python.org/psf/\n",
      "https://docs.python.org\n",
      "https://pypi.org/\n",
      "/jobs/\n",
      "/community/\n",
      "#top\n",
      "/\n",
      "https://psfmember.org/civicrm/contribute/transact?reset=1&id=2\n",
      "#site-map\n",
      "#\n",
      "javascript:;\n",
      "javascript:;\n",
      "javascript:;\n",
      "#\n",
      "https://www.linkedin.com/company/python-software-foundation/\n",
      "https://fosstodon.org/@ThePSF\n",
      "/community/irc/\n",
      "https://twitter.com/ThePSF\n",
      "/about/\n",
      "/about/apps/\n",
      "/about/quotes/\n",
      "/about/gettingstarted/\n",
      "/about/help/\n",
      "http://brochure.getpython.info/\n",
      "/downloads/\n",
      "/downloads/\n",
      "/downloads/source/\n",
      "/downloads/windows/\n",
      "/downloads/macos/\n",
      "/download/other/\n",
      "https://docs.python.org/3/license.html\n",
      "/download/alternatives\n",
      "/doc/\n",
      "/doc/\n",
      "/doc/av\n",
      "https://wiki.python.org/moin/BeginnersGuide\n",
      "https://devguide.python.org/\n",
      "https://docs.python.org/faq/\n",
      "http://wiki.python.org/moin/Languages\n",
      "https://peps.python.org\n",
      "https://wiki.python.org/moin/PythonBooks\n",
      "/doc/essays/\n",
      "/community/\n",
      "/community/diversity/\n",
      "/community/lists/\n",
      "/community/irc/\n",
      "/community/forums/\n",
      "/psf/annual-report/2021/\n",
      "/community/workshops/\n",
      "/community/sigs/\n",
      "/community/logos/\n",
      "https://wiki.python.org/moin/\n",
      "/psf/conduct/\n",
      "/community/awards\n",
      "/psf/get-involved/\n",
      "/psf/community-stories/\n",
      "/success-stories/\n",
      "/success-stories/category/arts/\n",
      "/success-stories/category/business/\n",
      "/success-stories/category/education/\n",
      "/success-stories/category/engineering/\n",
      "/success-stories/category/government/\n",
      "/success-stories/category/scientific/\n",
      "/success-stories/category/software-development/\n",
      "/blogs/\n",
      "/blogs/\n",
      "/psf/newsletter/\n",
      "http://pyfound.blogspot.com/\n",
      "http://pycon.blogspot.com/\n",
      "http://planetpython.org/\n",
      "/events/\n",
      "/events/python-events/\n",
      "/events/python-user-group/\n",
      "/events/python-events/past/\n",
      "/events/python-user-group/past/\n",
      "https://wiki.python.org/moin/PythonEventsCalendar#Submitting_an_Event\n",
      "/shell/\n",
      "//docs.python.org/3/tutorial/controlflow.html#defining-functions\n",
      "//docs.python.org/3/tutorial/introduction.html#lists\n",
      "http://docs.python.org/3/tutorial/introduction.html#using-python-as-a-calculator\n",
      "//docs.python.org/3/tutorial/controlflow.html\n",
      "//docs.python.org/3/tutorial/\n",
      "/doc/\n",
      "https://www.python.org/psf/donations/2024-q4-drive/\n",
      "/about/gettingstarted/\n",
      "/downloads/release/python-3131/\n",
      "https://docs.python.org\n",
      "//jobs.python.org\n",
      "https://blog.python.org\n",
      "https://mailchi.mp/python/python-software-foundation-july-2024-newsletter-19875208\n",
      "https://pythoninsider.blogspot.com/2024/12/python-3131-3128-31111-31016-and-3921.html\n",
      "https://pyfound.blogspot.com/2024/11/psf-board-retreat-2024.html\n",
      "https://pythoninsider.blogspot.com/2024/11/python-3140-alpha-2-released.html\n",
      "https://pyfound.blogspot.com/2024/11/help-power-python-2024-fundraiser.html\n",
      "/events/calendars/\n",
      "/events/python-user-group/1880/\n",
      "/events/python-user-group/1855/\n",
      "/events/python-events/1866/\n",
      "/events/python-user-group/1841/\n",
      "/events/python-user-group/1868/\n",
      "/success-stories/\n",
      "/success-stories/zama-concrete-ml-simplifying-homomorphic-encryption-for-python-machine-learning/\n",
      "/success-stories/zama-concrete-ml-simplifying-homomorphic-encryption-for-python-machine-learning/\n",
      "/about/apps\n",
      "http://www.djangoproject.com/\n",
      "http://www.pylonsproject.org/\n",
      "http://bottlepy.org\n",
      "http://tornadoweb.org\n",
      "http://flask.pocoo.org/\n",
      "http://www.web2py.com/\n",
      "http://wiki.python.org/moin/TkInter\n",
      "https://wiki.gnome.org/Projects/PyGObject\n",
      "http://www.riverbankcomputing.co.uk/software/pyqt/intro\n",
      "https://wiki.qt.io/PySide\n",
      "https://kivy.org/\n",
      "http://www.wxpython.org/\n",
      "https://dearpygui.readthedocs.io/en/latest/\n",
      "http://www.scipy.org\n",
      "http://pandas.pydata.org/\n",
      "http://ipython.org\n",
      "http://buildbot.net/\n",
      "http://trac.edgewall.org/\n",
      "http://roundup.sourceforge.net/\n",
      "http://www.ansible.com\n",
      "https://saltproject.io\n",
      "https://www.openstack.org\n",
      "https://xon.sh\n",
      "/psf/\n",
      "/psf/\n",
      "/users/membership/\n",
      "/psf/donations/\n",
      "#python-network\n",
      "/about/\n",
      "/about/apps/\n",
      "/about/quotes/\n",
      "/about/gettingstarted/\n",
      "/about/help/\n",
      "http://brochure.getpython.info/\n",
      "/downloads/\n",
      "/downloads/\n",
      "/downloads/source/\n",
      "/downloads/windows/\n",
      "/downloads/macos/\n",
      "/download/other/\n",
      "https://docs.python.org/3/license.html\n",
      "/download/alternatives\n",
      "/doc/\n",
      "/doc/\n",
      "/doc/av\n",
      "https://wiki.python.org/moin/BeginnersGuide\n",
      "https://devguide.python.org/\n",
      "https://docs.python.org/faq/\n",
      "http://wiki.python.org/moin/Languages\n",
      "https://peps.python.org\n",
      "https://wiki.python.org/moin/PythonBooks\n",
      "/doc/essays/\n",
      "/community/\n",
      "/community/diversity/\n",
      "/community/lists/\n",
      "/community/irc/\n",
      "/community/forums/\n",
      "/psf/annual-report/2021/\n",
      "/community/workshops/\n",
      "/community/sigs/\n",
      "/community/logos/\n",
      "https://wiki.python.org/moin/\n",
      "/psf/conduct/\n",
      "/community/awards\n",
      "/psf/get-involved/\n",
      "/psf/community-stories/\n",
      "/success-stories/\n",
      "/success-stories/category/arts/\n",
      "/success-stories/category/business/\n",
      "/success-stories/category/education/\n",
      "/success-stories/category/engineering/\n",
      "/success-stories/category/government/\n",
      "/success-stories/category/scientific/\n",
      "/success-stories/category/software-development/\n",
      "/blogs/\n",
      "/blogs/\n",
      "/psf/newsletter/\n",
      "http://pyfound.blogspot.com/\n",
      "http://pycon.blogspot.com/\n",
      "http://planetpython.org/\n",
      "/events/\n",
      "/events/python-events/\n",
      "/events/python-user-group/\n",
      "/events/python-events/past/\n",
      "/events/python-user-group/past/\n",
      "https://wiki.python.org/moin/PythonEventsCalendar#Submitting_an_Event\n",
      "/dev/\n",
      "https://devguide.python.org/\n",
      "https://github.com/python/cpython/issues\n",
      "https://mail.python.org/mailman/listinfo/python-dev\n",
      "/dev/core-mentorship/\n",
      "/dev/security/\n",
      "#python-network\n",
      "/about/help/\n",
      "/community/diversity/\n",
      "https://github.com/python/pythondotorg/issues\n",
      "https://status.python.org/\n",
      "/psf-landing/\n",
      "/about/legal/\n",
      "https://policies.python.org/python.org/Privacy-Notice/\n"
     ]
    }
   ],
   "source": [
    "for var in py_obj.find_all('a'):\n",
    "    print(var.get('href')) # like dict style"
   ]
  },
  {
   "cell_type": "code",
   "execution_count": 371,
   "id": "12dae309-6790-4897-a5e3-a1f97a82f61a",
   "metadata": {},
   "outputs": [
    {
     "name": "stdout",
     "output_type": "stream",
     "text": [
      "https://www.python.org/psf/\n",
      "https://docs.python.org\n",
      "https://pypi.org/\n",
      "https://psfmember.org/civicrm/contribute/transact?reset=1&id=2\n",
      "https://www.linkedin.com/company/python-software-foundation/\n",
      "https://fosstodon.org/@ThePSF\n",
      "https://twitter.com/ThePSF\n",
      "http://brochure.getpython.info/\n",
      "https://docs.python.org/3/license.html\n",
      "https://wiki.python.org/moin/BeginnersGuide\n",
      "https://devguide.python.org/\n",
      "https://docs.python.org/faq/\n",
      "http://wiki.python.org/moin/Languages\n",
      "https://peps.python.org\n",
      "https://wiki.python.org/moin/PythonBooks\n",
      "https://wiki.python.org/moin/\n",
      "http://pyfound.blogspot.com/\n",
      "http://pycon.blogspot.com/\n",
      "http://planetpython.org/\n",
      "https://wiki.python.org/moin/PythonEventsCalendar#Submitting_an_Event\n",
      "http://docs.python.org/3/tutorial/introduction.html#using-python-as-a-calculator\n",
      "https://www.python.org/psf/donations/2024-q4-drive/\n",
      "https://docs.python.org\n",
      "https://blog.python.org\n",
      "https://mailchi.mp/python/python-software-foundation-july-2024-newsletter-19875208\n",
      "https://pythoninsider.blogspot.com/2024/12/python-3131-3128-31111-31016-and-3921.html\n",
      "https://pyfound.blogspot.com/2024/11/psf-board-retreat-2024.html\n",
      "https://pythoninsider.blogspot.com/2024/11/python-3140-alpha-2-released.html\n",
      "https://pyfound.blogspot.com/2024/11/help-power-python-2024-fundraiser.html\n",
      "http://www.djangoproject.com/\n",
      "http://www.pylonsproject.org/\n",
      "http://bottlepy.org\n",
      "http://tornadoweb.org\n",
      "http://flask.pocoo.org/\n",
      "http://www.web2py.com/\n",
      "http://wiki.python.org/moin/TkInter\n",
      "https://wiki.gnome.org/Projects/PyGObject\n",
      "http://www.riverbankcomputing.co.uk/software/pyqt/intro\n",
      "https://wiki.qt.io/PySide\n",
      "https://kivy.org/\n",
      "http://www.wxpython.org/\n",
      "https://dearpygui.readthedocs.io/en/latest/\n",
      "http://www.scipy.org\n",
      "http://pandas.pydata.org/\n",
      "http://ipython.org\n",
      "http://buildbot.net/\n",
      "http://trac.edgewall.org/\n",
      "http://roundup.sourceforge.net/\n",
      "http://www.ansible.com\n",
      "https://saltproject.io\n",
      "https://www.openstack.org\n",
      "https://xon.sh\n",
      "http://brochure.getpython.info/\n",
      "https://docs.python.org/3/license.html\n",
      "https://wiki.python.org/moin/BeginnersGuide\n",
      "https://devguide.python.org/\n",
      "https://docs.python.org/faq/\n",
      "http://wiki.python.org/moin/Languages\n",
      "https://peps.python.org\n",
      "https://wiki.python.org/moin/PythonBooks\n",
      "https://wiki.python.org/moin/\n",
      "http://pyfound.blogspot.com/\n",
      "http://pycon.blogspot.com/\n",
      "http://planetpython.org/\n",
      "https://wiki.python.org/moin/PythonEventsCalendar#Submitting_an_Event\n",
      "https://devguide.python.org/\n",
      "https://github.com/python/cpython/issues\n",
      "https://mail.python.org/mailman/listinfo/python-dev\n",
      "https://github.com/python/pythondotorg/issues\n",
      "https://status.python.org/\n",
      "https://policies.python.org/python.org/Privacy-Notice/\n"
     ]
    }
   ],
   "source": [
    "for var in py_obj.find_all('a'):\n",
    "    if(re.search('^(http|https).*',var.get('href'))): # filter line starts with http <or> https\n",
    "        print(var.get('href')) # like dict style"
   ]
  }
 ],
 "metadata": {
  "kernelspec": {
   "display_name": "Python 3 (ipykernel)",
   "language": "python",
   "name": "python3"
  },
  "language_info": {
   "codemirror_mode": {
    "name": "ipython",
    "version": 3
   },
   "file_extension": ".py",
   "mimetype": "text/x-python",
   "name": "python",
   "nbconvert_exporter": "python",
   "pygments_lexer": "ipython3",
   "version": "3.12.3"
  }
 },
 "nbformat": 4,
 "nbformat_minor": 5
}
