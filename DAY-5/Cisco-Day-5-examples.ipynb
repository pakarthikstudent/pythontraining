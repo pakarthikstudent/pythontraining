{
 "cells": [
  {
   "cell_type": "code",
   "execution_count": 1,
   "id": "038c396f-624b-4ca0-8449-d174f3957e1c",
   "metadata": {},
   "outputs": [],
   "source": [
    "def f1(a):\n",
    "    class className:\n",
    "        def __init__(self,a=0):\n",
    "            self.a=a\n",
    "        def method1(self):\n",
    "            return self.a+100\n",
    "        def method2(self):\n",
    "            return self.a+150\n",
    "    obj = className(a)\n",
    "    return obj"
   ]
  },
  {
   "cell_type": "code",
   "execution_count": 5,
   "id": "30bd93d3-ac0e-41b1-81d0-c40fe2df7ec9",
   "metadata": {},
   "outputs": [
    {
     "data": {
      "text/plain": [
       "150"
      ]
     },
     "execution_count": 5,
     "metadata": {},
     "output_type": "execute_result"
    }
   ],
   "source": [
    "# import <module>                                      import re   import sqlite3\n",
    "# <module>.f1(50) <== like direct call                re.search()  sqlite3.connect()\n",
    "myobj = f1(50)\n",
    "myobj.method1()"
   ]
  },
  {
   "cell_type": "code",
   "execution_count": 7,
   "id": "15987239-c24a-4c94-9ec4-8c526b44d5e0",
   "metadata": {},
   "outputs": [
    {
     "data": {
      "text/plain": [
       "<sqlite3.Cursor at 0x220299fcc40>"
      ]
     },
     "execution_count": 7,
     "metadata": {},
     "output_type": "execute_result"
    }
   ],
   "source": [
    "import sqlite3\n",
    "import sys\n",
    "try:\n",
    "    conn = sqlite3.connect('C:\\\\Users\\\\theeba\\\\CiscoTraining\\\\DAY-5\\\\prod.db')\n",
    "except Exception:\n",
    "    print('db connection is failed')\n",
    "    sys.exc_info()\n",
    "\n",
    "cur = conn.cursor()\n",
    "cur.execute('create table prod1(pid INT,pName text,pCost int)')"
   ]
  },
  {
   "cell_type": "code",
   "execution_count": 11,
   "id": "c9ed080a-e5c1-43df-8d93-6d90cd6e8152",
   "metadata": {},
   "outputs": [
    {
     "data": {
      "text/plain": [
       "<sqlite3.Cursor at 0x220299fcc40>"
      ]
     },
     "execution_count": 11,
     "metadata": {},
     "output_type": "execute_result"
    }
   ],
   "source": [
    "cur.execute(\"insert into prod1 values(101,'prodA',1200)\")"
   ]
  },
  {
   "cell_type": "code",
   "execution_count": 13,
   "id": "ecfce02a-ea8d-480e-8fca-d4471e16d1cd",
   "metadata": {},
   "outputs": [
    {
     "name": "stdin",
     "output_type": "stream",
     "text": [
      "Enter a product ID: 102\n",
      "Enter a product Name: prodB\n",
      "Enter a product Cost: 1230\n"
     ]
    }
   ],
   "source": [
    "vPID = input('Enter a product ID:')\n",
    "vPName = input('Enter a product Name:')\n",
    "vPcost = input('Enter a product Cost:')"
   ]
  },
  {
   "cell_type": "code",
   "execution_count": 15,
   "id": "87d7c17e-d931-4870-b694-aa9eec5384a7",
   "metadata": {},
   "outputs": [
    {
     "data": {
      "text/plain": [
       "<sqlite3.Cursor at 0x220299fcc40>"
      ]
     },
     "execution_count": 15,
     "metadata": {},
     "output_type": "execute_result"
    }
   ],
   "source": [
    "cur.execute(\"insert into prod1 values(?,?,?)\",(vPID,vPName,vPcost))"
   ]
  },
  {
   "cell_type": "code",
   "execution_count": 17,
   "id": "d32c955b-8d06-47d9-a0e4-95f500cf349f",
   "metadata": {},
   "outputs": [
    {
     "data": {
      "text/plain": [
       "<sqlite3.Cursor at 0x220299fcc40>"
      ]
     },
     "execution_count": 17,
     "metadata": {},
     "output_type": "execute_result"
    }
   ],
   "source": [
    "cur.execute('select *from prod1')"
   ]
  },
  {
   "cell_type": "code",
   "execution_count": 19,
   "id": "4eff0740-1a05-4dfb-bcfa-aae552b9642d",
   "metadata": {},
   "outputs": [
    {
     "data": {
      "text/plain": [
       "[(101, 'prodA', 1200), (102, 'prodB', 1230)]"
      ]
     },
     "execution_count": 19,
     "metadata": {},
     "output_type": "execute_result"
    }
   ],
   "source": [
    "list(cur)"
   ]
  },
  {
   "cell_type": "code",
   "execution_count": 21,
   "id": "9093c838-e5ec-4b74-8c85-63eac545c930",
   "metadata": {},
   "outputs": [],
   "source": [
    "conn.commit()\n",
    "conn.close()"
   ]
  },
  {
   "cell_type": "code",
   "execution_count": null,
   "id": "25d5d298-9c5b-4aff-ba78-3699395afde2",
   "metadata": {},
   "outputs": [],
   "source": [
    "Kernel - Core part of an OS\n",
    " |->File,Process\n",
    "     \n",
    " +-------+\n",
    " | User |\n",
    " +------+\n",
    " | Kernel|\n",
    " +------+\n",
    " | H/w  |\n",
    " +------+\n",
    "\n",
    "  File - Data - Under storage device\n",
    "  Process - Data - Under the CPU\n",
    "\n",
    "  Process1 - PID:101,PAddress:0x1234,Pstate:R+ ->Wait  PCB \n",
    "  |\n",
    "  Process2 - PID:102,PAdress:0x3456,Pstate:R+ ........\n",
    "\n",
    " Process = Data + Address\n",
    "  |                |\n",
    " Thread = Data .... //LWP\n",
    "\n",
    "GIL enabled in Cpython\n",
    "\n",
    "In python everything is an object\n",
    "                           |->own address\n",
    "\n",
    " i=10\n",
    "t1      t2\n",
    "i=i+1  i=i+1\n",
    "i=11   i=12 \n"
   ]
  },
  {
   "cell_type": "code",
   "execution_count": 23,
   "id": "bb09543e-23c5-4463-bfb9-7e8f0f5197ae",
   "metadata": {},
   "outputs": [
    {
     "name": "stdout",
     "output_type": "stream",
     "text": [
      "<class 'threading.Thread'>\n"
     ]
    }
   ],
   "source": [
    "import threading\n",
    "print(threading.Thread)"
   ]
  },
  {
   "cell_type": "code",
   "execution_count": null,
   "id": "d5c9e322-4c5f-4963-9d47-9cf40a3b6b15",
   "metadata": {},
   "outputs": [],
   "source": [
    "t1 = threading.Thread(target=f1)"
   ]
  },
  {
   "cell_type": "markdown",
   "id": "6c2fe368-5bd3-4581-bd20-0ac4adcc0eed",
   "metadata": {},
   "source": [
    "CPython\n",
    "  |-> GIL - enabled - we can't use real multithread programming\n",
    "  |-> multiprocessing\n",
    "      ---------------\n",
    "          - this is not a thread\n",
    "          - cpu core  \n",
    "\n",
    "def f1():\n",
    "      '''operation1'''\n",
    "\n",
    "def f2():\n",
    "      '''operation2'''\n",
    "\n",
    "threading.Thread(target=f1).start()    Vs  multiprocessing.Process(target=f1).start()\n",
    "threading.Thread(target=f2).start()        multiprocessing.Process(target=f2).start()\n",
    "\n",
    "# Task\n",
    "# -----\n",
    "# use sqlite3 db -> create an emp.db file \n",
    "#                   |->table name emptable\n",
    "                       [eid | ename | edept | ecity | ecost ]\n",
    "#  open emp.csv file ->read a content line by line\n",
    "#                    ->split each line into multiple values based on ,\n",
    "#                    ->insert file content to emp.db file\n",
    "#                    ->select list of emp's - condition: cost above 5000\n",
    "#                    ->display selected emp's to monitor\n",
    "#                    ->create / write list of selected emp's content to external log file.\n",
    "#\n",
    "\n",
    "\n"
   ]
  }
 ],
 "metadata": {
  "kernelspec": {
   "display_name": "Python 3 (ipykernel)",
   "language": "python",
   "name": "python3"
  },
  "language_info": {
   "codemirror_mode": {
    "name": "ipython",
    "version": 3
   },
   "file_extension": ".py",
   "mimetype": "text/x-python",
   "name": "python",
   "nbconvert_exporter": "python",
   "pygments_lexer": "ipython3",
   "version": "3.12.3"
  }
 },
 "nbformat": 4,
 "nbformat_minor": 5
}
